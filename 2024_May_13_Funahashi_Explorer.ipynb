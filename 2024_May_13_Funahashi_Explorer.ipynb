{
 "cells": [
  {
   "cell_type": "code",
   "execution_count": 1,
   "id": "7d52a1c7-37e4-4e87-9c0f-111d3123a2c7",
   "metadata": {},
   "outputs": [],
   "source": [
    "import numpy as np\n",
    "from jax import jit\n",
    "import jax.numpy as jnp\n",
    "import matplotlib.pyplot as plt\n",
    "import os\n",
    "from glob import glob"
   ]
  },
  {
   "cell_type": "code",
   "execution_count": 2,
   "id": "cc3f9fa2-40d1-4da3-8f12-6146ea7f89a2",
   "metadata": {},
   "outputs": [
    {
     "data": {
      "text/plain": [
       "'/nfs/nhome/live/wdorrell/modular'"
      ]
     },
     "execution_count": 2,
     "metadata": {},
     "output_type": "execute_result"
    }
   ],
   "source": [
    "%pwd"
   ]
  },
  {
   "cell_type": "code",
   "execution_count": 45,
   "id": "ec086ee6-c25a-49b8-9bfd-356faf07fa04",
   "metadata": {},
   "outputs": [
    {
     "name": "stdout",
     "output_type": "stream",
     "text": [
      "0: ./data/20240517/06:56:21_5214/params_3106621_54.78407.npy\n",
      "0.025 1\n",
      "1: ./data/20240517/06:56:21_8342/params_3280023_53.34786.npy\n",
      "0.025 1\n",
      "2: ./data/20240517/06:56:21_9107/params_5613137_53.93769.npy\n",
      "0.025 1\n",
      "3: ./data/20240517/06:56:21_9840/params_3168314_53.33737.npy\n",
      "0.025 1\n",
      "4: ./data/20240517/06:56:21_5258/params_4357617_53.58358.npy\n",
      "0.025 1\n",
      "5: ./data/20240517/06:56:23_6662/params_2885194_45.16768.npy\n",
      "0.025 0\n",
      "6: ./data/20240517/06:56:23_4681/params_3466496_44.40594.npy\n",
      "0.025 0\n",
      "7: ./data/20240517/06:56:23_4568/params_4378819_44.36658.npy\n",
      "0.025 0\n",
      "8: ./data/20240517/06:56:23_7405/params_1804160_44.74343.npy\n",
      "0.025 0\n",
      "9: ./data/20240517/06:56:24_7953/params_3403387_44.29547.npy\n",
      "0.025 0\n",
      "10: ./data/20240517/06:56:51_119/params_14829508_49.54411.npy\n",
      "0.025 1\n",
      "11: ./data/20240517/06:56:51_4914/params_15677511_48.79889.npy\n",
      "0.025 1\n",
      "12: ./data/20240517/06:56:51_6546/params_15926671_48.64872.npy\n",
      "0.025 1\n",
      "13: ./data/20240517/06:56:51_3385/params_34752960_48.66511.npy\n",
      "0.025 1\n",
      "14: ./data/20240517/06:56:51_7798/params_15582196_48.68722.npy\n",
      "0.025 1\n",
      "15: ./data/20240517/06:56:54_2356/params_17469065_40.51591.npy\n",
      "0.025 0\n",
      "16: ./data/20240517/06:56:54_6356/params_19221985_40.27536.npy\n",
      "0.025 0\n",
      "17: ./data/20240517/06:56:54_9696/params_20450861_40.51139.npy\n",
      "0.025 0\n",
      "18: ./data/20240517/06:56:54_6229/params_16232840_40.37444.npy\n",
      "0.025 0\n",
      "19: ./data/20240517/06:56:54_1234/params_21108084_40.04393.npy\n",
      "0.025 0\n",
      "20: ./data/20240517/16:12:55_9043/params_750010_129.47809.npy\n",
      "0.025 1\n",
      "21: ./data/20240517/16:13:03_400/params_400385_164.35159.npy\n",
      "0.025 1\n",
      "22: ./data/20240517/16:13:03_5794/params_750136_106.05372.npy\n",
      "0.025 0\n",
      "23: ./data/20240517/16:13:03_9612/params_450107_133.11273.npy\n",
      "0.025 0\n",
      "24: ./data/20240517/16:13:03_6558/params_650007_108.52486.npy\n",
      "0.025 0\n",
      "25: ./data/20240517/16:13:03_5386/params_400621_168.84627.npy\n",
      "0.025 1\n",
      "26: ./data/20240517/16:13:03_225/params_800419_106.04726.npy\n",
      "0.025 0\n",
      "27: ./data/20240517/16:13:03_7947/params_400068_174.05588.npy\n",
      "0.025 1\n",
      "28: ./data/20240517/16:13:03_3378/params_400768_177.31673.npy\n",
      "0.025 1\n",
      "29: ./data/20240517/16:13:03_898/params_750132_106.53755.npy\n",
      "0.025 0\n"
     ]
    }
   ],
   "source": [
    "date = '20240517'\n",
    "files = os.listdir(f'./data/{date}')\n",
    "\n",
    "save_files = []\n",
    "config_files = []\n",
    "counter = 0\n",
    "for file in files:\n",
    "    path = f'./data/{date}/{file}/' \n",
    "    files_to_maybe_load = glob(path + 'params_*_*.npy')\n",
    "    min_loss = np.inf\n",
    "    for file in files_to_maybe_load:\n",
    "        position_ = file.rfind('_')\n",
    "        position_stop = file.rfind('.')\n",
    "        loss = float(file[position_+1:position_stop])\n",
    "        if loss < min_loss:\n",
    "            file_to_load = file\n",
    "            min_loss = loss\n",
    "    \n",
    "    config = np.load(path + 'config_dict.npy', allow_pickle=True)[()]\n",
    "    if config['num_stim'] == 3:\n",
    "        print(f'{counter}: {file_to_load}')\n",
    "        print(config['mu_W'], config['repeats'])\n",
    "        counter += 1\n",
    "        \n",
    "        save_files.append(file_to_load)\n",
    "        config_files.append(path + 'config_dict.npy')\n"
   ]
  },
  {
   "cell_type": "code",
   "execution_count": 54,
   "id": "821beb2d-c362-4613-bdfc-a3fb22d7f20f",
   "metadata": {},
   "outputs": [],
   "source": [
    "num = 27\n",
    "\n",
    "params = np.load(save_files[num], allow_pickle=True)[()]\n",
    "config = np.load(config_files[num], allow_pickle=True)[()]"
   ]
  },
  {
   "cell_type": "code",
   "execution_count": 55,
   "id": "c9ee48cd-c55e-4e19-a358-194e0207304d",
   "metadata": {},
   "outputs": [
    {
     "data": {
      "text/plain": [
       "{'repeats': 1,\n",
       " 'reward': 0,\n",
       " 'num_stim': 3,\n",
       " 'save_iter': 50000,\n",
       " 'T': 10000000000,\n",
       " 'learning_rate': 1e-06,\n",
       " 'random_seed': 7947,\n",
       " 'N': 35,\n",
       " 'mu_fit': 100000,\n",
       " 'mu_G': 250,\n",
       " 'mu_W': 0.025,\n",
       " 'mu_R': 0.025,\n",
       " 'mu_pos': 10000,\n",
       " 'fit_thresh': 0.01}"
      ]
     },
     "execution_count": 55,
     "metadata": {},
     "output_type": "execute_result"
    }
   ],
   "source": [
    "config"
   ]
  },
  {
   "cell_type": "code",
   "execution_count": 56,
   "id": "db5e54b6-6dac-48eb-828f-cae4004654ad",
   "metadata": {},
   "outputs": [],
   "source": [
    "# Use these to calculate the number of trials, how long each trial is, and num conditions\n",
    "num_trials = config['num_stim']*(config['num_stim']-(1-config['repeats'])) \n",
    "task_len = 5 + config['reward']\n",
    "D = task_len*num_trials # Total number of conditions\n",
    "\n",
    "# Create inputs and outputs\n",
    "inputs = np.zeros([config['num_stim'], D])\n",
    "outputs = np.zeros([config['num_stim']+config['reward'], D])\n",
    "counter = 0\n",
    "for target_1 in range(config['num_stim']):\n",
    "    for target_2 in range(config['num_stim']):\n",
    "        if target_2 != target_1 or config['repeats']:\n",
    "            inputs[target_1,counter] = 1\n",
    "            inputs[target_2,counter + 1] = 1\n",
    "\n",
    "            outputs[target_1,counter+3] = 1\n",
    "            outputs[target_2,counter+4] = 1\n",
    "            if config['reward']:\n",
    "                outputs[config['num_stim'],counter+5] = 1\n",
    "            counter += task_len\n",
    "            \n",
    "# Now stack a bias on the inputs\n",
    "inputs = np.vstack([inputs, np.ones([1, inputs.shape[1]])])"
   ]
  },
  {
   "cell_type": "code",
   "execution_count": 57,
   "id": "0adf96ae-cca6-441b-8518-df7c4eee9001",
   "metadata": {},
   "outputs": [],
   "source": [
    "\n",
    "def generate_rep(params, inputs):\n",
    "    g = jnp.zeros([config['N']+1, D])\n",
    "    g = g.at[-1:,:].set(np.ones([1,g.shape[1]]))\n",
    "    g = g.at[:-1,::task_len].set(params[\"I\"]@inputs[:,::task_len])\n",
    "    for t in range(1,task_len):\n",
    "        g = g.at[:-1,t::task_len].set(params[\"I\"]@inputs[:,t::task_len] + params[\"W\"]@g[:,t-1::task_len])\n",
    "    return g\n",
    "\n",
    "# PC extracting function\n",
    "def get_PCs(vecs, num_eigs = 2):\n",
    "    vecs = vecs - np.mean(vecs, axis = 1)[:,None]\n",
    "    covar = vecs@vecs.T\n",
    "    eigvals, eigvecs = np.linalg.eig(covar)\n",
    "    \n",
    "    ordering = np.argsort(eigvals)[::-1]\n",
    "    #print(f\"Propotion of Activity Kept: {np.sum(eigvals[ordering[:2]])/np.sum(eigvals)}\")\n",
    "    return np.real(eigvecs[:,ordering[:num_eigs]])\n",
    "\n",
    "# Subspace angle calculating function\n",
    "def calculate_angles(g, inputs, num_eigs = 2):\n",
    "    inputs_1 = inputs[:3,0::task_len]\n",
    "    inputs_2 = inputs[:3,1::task_len]\n",
    "    inputs_both = [inputs_1, inputs_2]\n",
    "    \n",
    "    PCs = np.zeros([N, 2, num_eigs])\n",
    "    for order in range(2):\n",
    "        diff_vec = []\n",
    "        for q in range(3):\n",
    "            indices = np.where(inputs_both[order][q,:] == 1)[0]\n",
    "            for index in range(len(indices)):\n",
    "                for index2 in range(index):\n",
    "                    if index != index2:\n",
    "                        diff_vec.append(g[:,indices[index]] - g[:,indices[index2]])\n",
    "        diff_vec = np.stack(diff_vec).T\n",
    "        PCs[:,order,:] = get_PCs(diff_vec, num_eigs = num_eigs)      \n",
    "\n",
    "    U, S, V = np.linalg.svd(PCs[:,0,:].T@PCs[:,1,:])\n",
    "    angles = np.arccos(S)/np.pi*180\n",
    "    return angles\n",
    "\n",
    "\n",
    "def generate_R(g, outputs):\n",
    "    mat0 = jnp.matmul(g, g.T)\n",
    "    mat1 = jnp.matmul(g, outputs.T)\n",
    "    mat2 = jnp.matmul(jnp.linalg.inv(mat0 + 0.0001*jnp.eye(config['N']+1)), mat1)\n",
    "    return mat2\n",
    "\n",
    "@jit\n",
    "def loss_R(R):\n",
    "    return jnp.linalg.norm(generate_R(g, targets))**2\n",
    "\n",
    "@jit\n",
    "def loss_fit(g, R, outputs):\n",
    "    preds = R.T@g\n",
    "    return jnp.linalg.norm(outputs - preds)\n",
    "\n",
    "@jit\n",
    "def loss(params, inputs, outputs):\n",
    "    g = generate_rep(params, inputs)\n",
    "    R = generate_R(g, outputs)\n",
    "    \n",
    "    return mu_fit*jnn.relu(loss_fit(g, R, outputs)-fit_thresh) + mu_G*loss_act(g) + mu_W*(loss_weight(params[\"W\"])) + mu_R*(loss_weight_I(params[\"I\"]) + loss_weight(R)) + mu_pos*loss_pos(g)"
   ]
  },
  {
   "cell_type": "code",
   "execution_count": 58,
   "id": "268b9191-2c12-4e6d-a048-c3aea7d57876",
   "metadata": {},
   "outputs": [
    {
     "data": {
      "text/plain": [
       "(35, 4)"
      ]
     },
     "execution_count": 58,
     "metadata": {},
     "output_type": "execute_result"
    }
   ],
   "source": [
    "params['I'].shape"
   ]
  },
  {
   "cell_type": "code",
   "execution_count": 59,
   "id": "e1f2b552-7cc7-403d-b224-0d4272a7d80c",
   "metadata": {},
   "outputs": [
    {
     "data": {
      "text/plain": [
       "<matplotlib.image.AxesImage at 0x7fbda786d2e0>"
      ]
     },
     "execution_count": 59,
     "metadata": {},
     "output_type": "execute_result"
    },
    {
     "data": {
      "image/png": "[encoded data removed]",
      "text/plain": [
       "<Figure size 640x480 with 1 Axes>"
      ]
     },
     "metadata": {},
     "output_type": "display_data"
    }
   ],
   "source": [
    "plt.imshow(outputs)"
   ]
  },
  {
   "cell_type": "code",
   "execution_count": 60,
   "id": "1d44c2af-0fc8-4df2-b859-aef86cc5d32f",
   "metadata": {},
   "outputs": [
    {
     "data": {
      "text/plain": [
       "<matplotlib.image.AxesImage at 0x7fbda78dbe60>"
      ]
     },
     "execution_count": 60,
     "metadata": {},
     "output_type": "execute_result"
    },
    {
     "data": {
      "image/png": "[encoded data removed]",
      "text/plain": [
       "<Figure size 640x480 with 1 Axes>"
      ]
     },
     "metadata": {},
     "output_type": "display_data"
    }
   ],
   "source": [
    "g = generate_rep(params, inputs)\n",
    "R = generate_R(g, outputs)\n",
    "\n",
    "preds = R.T@g\n",
    "plt.imshow(preds)"
   ]
  },
  {
   "cell_type": "code",
   "execution_count": 61,
   "id": "451c86f9-0aa1-47a2-8695-4764edc046c0",
   "metadata": {},
   "outputs": [
    {
     "data": {
      "text/plain": [
       "<matplotlib.colorbar.Colorbar at 0x7fbda76cbfb0>"
      ]
     },
     "execution_count": 61,
     "metadata": {},
     "output_type": "execute_result"
    },
    {
     "data": {
      "image/png": "[encoded data removed]",
      "text/plain": [
       "<Figure size 2000x500 with 2 Axes>"
      ]
     },
     "metadata": {},
     "output_type": "display_data"
    }
   ],
   "source": [
    "plt.figure(figsize = (20, 5))\n",
    "plt.imshow(g[:-1,2::task_len].T, cmap='coolwarm')\n",
    "plt.colorbar()"
   ]
  },
  {
   "cell_type": "code",
   "execution_count": 62,
   "id": "4df26b71-6138-44c7-b854-4b7bcbe930b8",
   "metadata": {},
   "outputs": [
    {
     "data": {
      "text/plain": [
       "[<matplotlib.lines.Line2D at 0x7fbda7a748c0>]"
      ]
     },
     "execution_count": 62,
     "metadata": {},
     "output_type": "execute_result"
    },
    {
     "data": {
      "image/png": "[encoded data removed]",
      "text/plain": [
       "<Figure size 640x480 with 1 Axes>"
      ]
     },
     "metadata": {},
     "output_type": "display_data"
    }
   ],
   "source": [
    "plt.plot(g[-1,:])"
   ]
  },
  {
   "cell_type": "code",
   "execution_count": null,
   "id": "91453fac-6785-4183-b7c0-8c09bfbea36a",
   "metadata": {},
   "outputs": [],
   "source": []
  },
  {
   "cell_type": "code",
   "execution_count": null,
   "id": "f1d55bb4-7b3e-4161-bc02-3451510c4c0c",
   "metadata": {},
   "outputs": [],
   "source": []
  }
 ],
 "metadata": {
  "kernelspec": {
   "display_name": "modularise",
   "language": "python",
   "name": "modularise"
  },
  "language_info": {
   "codemirror_mode": {
    "name": "ipython",
    "version": 3
   },
   "file_extension": ".py",
   "mimetype": "text/x-python",
   "name": "python",
   "nbconvert_exporter": "python",
   "pygments_lexer": "ipython3",
   "version": "3.12.3"
  }
 },
 "nbformat": 4,
 "nbformat_minor": 5
}
