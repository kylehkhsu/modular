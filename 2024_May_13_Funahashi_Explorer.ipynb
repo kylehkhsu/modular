{
 "cells": [
  {
   "cell_type": "code",
   "execution_count": 22,
   "id": "7d52a1c7-37e4-4e87-9c0f-111d3123a2c7",
   "metadata": {},
   "outputs": [],
   "source": [
    "import numpy as np\n",
    "from jax import jit\n",
    "import jax.numpy as jnp\n",
    "import matplotlib.pyplot as plt\n",
    "import os\n",
    "from glob import glob"
   ]
  },
  {
   "cell_type": "code",
   "execution_count": 34,
   "id": "ec086ee6-c25a-49b8-9bfd-356faf07fa04",
   "metadata": {},
   "outputs": [
    {
     "data": {
      "text/plain": [
       "'./data/20240512/11:47:27_536910/params_95000000_20.48343.npy'"
      ]
     },
     "execution_count": 34,
     "metadata": {},
     "output_type": "execute_result"
    }
   ],
   "source": [
    "file[0]"
   ]
  },
  {
   "cell_type": "code",
   "execution_count": 77,
   "id": "ef93c47a-0ea5-42ec-8b09-6d7adae902dc",
   "metadata": {},
   "outputs": [
    {
     "name": "stdout",
     "output_type": "stream",
     "text": [
      "0_16.95123\n"
     ]
    }
   ],
   "source": [
    "date = '20240512'\n",
    "#time = '11:47:27_671752'\n",
    "time = '11:50:31_722685'\n",
    "path = f'./data/{date}/{time}/'\n",
    "file = glob(path + 'params_95000000*')\n",
    "params = np.load(file[0], allow_pickle=True)[()]\n",
    "config = np.load(path + 'config_dict.npy', allow_pickle=True)[()]\n",
    "\n",
    "print(file[0][-14:-4])"
   ]
  },
  {
   "cell_type": "code",
   "execution_count": 17,
   "id": "9bfae881-f553-4841-b984-df7efd8e2bf8",
   "metadata": {},
   "outputs": [],
   "source": [
    "date = '20240512'\n",
    "time = '11:47:27_536910'\n",
    "timestep = 'params_27450000_20.53504.npy'\n",
    "path = f'./data/{date}/{time}/'\n",
    "\n",
    "params = np.load(path + timestep, allow_pickle=True)[()]\n",
    "config = np.load(path + 'config_dict.npy', allow_pickle=True)[()]"
   ]
  },
  {
   "cell_type": "code",
   "execution_count": 59,
   "id": "db5e54b6-6dac-48eb-828f-cae4004654ad",
   "metadata": {},
   "outputs": [],
   "source": [
    "# Use these to calculate the number of trials, how long each trial is, and num conditions\n",
    "num_trials = config['num_stim']*(config['num_stim']-(1-config['repeats'])) \n",
    "task_len = 5 + config['reward']\n",
    "D = task_len*num_trials # Total number of conditions\n",
    "\n",
    "# Create inputs and outputs\n",
    "inputs = np.zeros([config['num_stim'], D])\n",
    "outputs = np.zeros([config['num_stim']+config['reward'], D])\n",
    "counter = 0\n",
    "for target_1 in range(config['num_stim']):\n",
    "    for target_2 in range(config['num_stim']):\n",
    "        if target_2 != target_1 or config['repeats']:\n",
    "            inputs[target_1,counter] = 1\n",
    "            inputs[target_2,counter + 1] = 1\n",
    "\n",
    "            outputs[target_1,counter+3] = 1\n",
    "            outputs[target_2,counter+4] = 1\n",
    "            if config['reward']:\n",
    "                outputs[config['num_stim'],counter+5] = 1\n",
    "            counter += task_len\n",
    "            \n",
    "# Now stack a bias on the inputs\n",
    "inputs = np.vstack([inputs, np.ones([1, inputs.shape[1]])])"
   ]
  },
  {
   "cell_type": "code",
   "execution_count": 4,
   "id": "0adf96ae-cca6-441b-8518-df7c4eee9001",
   "metadata": {},
   "outputs": [],
   "source": [
    "\n",
    "def generate_rep(params, inputs):\n",
    "    g = jnp.zeros([config['N']+1, D])\n",
    "    g = g.at[-1:,:].set(np.ones([1,g.shape[1]]))\n",
    "    g = g.at[:-1,::task_len].set(params[\"I\"]@inputs[:,::task_len])\n",
    "    for t in range(1,task_len):\n",
    "        g = g.at[:-1,t::task_len].set(params[\"I\"]@inputs[:,t::task_len] + params[\"W\"]@g[:,t-1::task_len])\n",
    "    return g\n",
    "\n",
    "# PC extracting function\n",
    "def get_PCs(vecs, num_eigs = 2):\n",
    "    vecs = vecs - np.mean(vecs, axis = 1)[:,None]\n",
    "    covar = vecs@vecs.T\n",
    "    eigvals, eigvecs = np.linalg.eig(covar)\n",
    "    \n",
    "    ordering = np.argsort(eigvals)[::-1]\n",
    "    #print(f\"Propotion of Activity Kept: {np.sum(eigvals[ordering[:2]])/np.sum(eigvals)}\")\n",
    "    return np.real(eigvecs[:,ordering[:num_eigs]])\n",
    "\n",
    "# Subspace angle calculating function\n",
    "def calculate_angles(g, inputs, num_eigs = 2):\n",
    "    inputs_1 = inputs[:3,0::task_len]\n",
    "    inputs_2 = inputs[:3,1::task_len]\n",
    "    inputs_both = [inputs_1, inputs_2]\n",
    "    \n",
    "    PCs = np.zeros([N, 2, num_eigs])\n",
    "    for order in range(2):\n",
    "        diff_vec = []\n",
    "        for q in range(3):\n",
    "            indices = np.where(inputs_both[order][q,:] == 1)[0]\n",
    "            for index in range(len(indices)):\n",
    "                for index2 in range(index):\n",
    "                    if index != index2:\n",
    "                        diff_vec.append(g[:,indices[index]] - g[:,indices[index2]])\n",
    "        diff_vec = np.stack(diff_vec).T\n",
    "        PCs[:,order,:] = get_PCs(diff_vec, num_eigs = num_eigs)      \n",
    "\n",
    "    U, S, V = np.linalg.svd(PCs[:,0,:].T@PCs[:,1,:])\n",
    "    angles = np.arccos(S)/np.pi*180\n",
    "    return angles\n",
    "\n",
    "@jit\n",
    "def loss_pos(g):\n",
    "    g_neg = (g[:-1,:] - jnp.abs(g[:-1,:]))/2\n",
    "    L_pos = -jnp.sum(g_neg)\n",
    "    return L_pos\n",
    "\n",
    "@jit\n",
    "def loss_act(g):\n",
    "    return jnp.sum(jnp.power(g[:-1,:], 2))\n",
    "\n",
    "@jit\n",
    "def loss_weight(W):\n",
    "    return jnp.sum(jnp.power(W[:,:-1], 2))\n",
    "\n",
    "@jit\n",
    "def loss_weight_I(I):\n",
    "    return jnp.sum(jnp.power(I[:,:-1],2))\n",
    "\n",
    "\n",
    "@jit\n",
    "def generate_R(g, outputs):\n",
    "    mat0 = jnp.matmul(g, g.T)\n",
    "    mat1 = jnp.matmul(g, outputs.T)\n",
    "    mat2 = jnp.matmul(jnp.linalg.inv(mat0 + 0.0001*jnp.eye(N+1)), mat1)\n",
    "    return mat2\n",
    "\n",
    "@jit\n",
    "def loss_R(R):\n",
    "    return jnp.linalg.norm(generate_R(g, targets))**2\n",
    "\n",
    "@jit\n",
    "def loss_fit(g, R, outputs):\n",
    "    preds = R.T@g\n",
    "    return jnp.linalg.norm(outputs - preds)\n",
    "\n",
    "@jit\n",
    "def loss(params, inputs, outputs):\n",
    "    g = generate_rep(params, inputs)\n",
    "    R = generate_R(g, outputs)\n",
    "    \n",
    "    return mu_fit*jnn.relu(loss_fit(g, R, outputs)-fit_thresh) + mu_G*loss_act(g) + mu_W*(loss_weight(params[\"W\"])) + mu_R*(loss_weight_I(params[\"I\"]) + loss_weight(R)) + mu_pos*loss_pos(g)"
   ]
  },
  {
   "cell_type": "code",
   "execution_count": 5,
   "id": "268b9191-2c12-4e6d-a048-c3aea7d57876",
   "metadata": {},
   "outputs": [
    {
     "data": {
      "text/plain": [
       "(50, 4)"
      ]
     },
     "execution_count": 5,
     "metadata": {},
     "output_type": "execute_result"
    }
   ],
   "source": [
    "params['I'].shape"
   ]
  },
  {
   "cell_type": "code",
   "execution_count": 60,
   "id": "e1f2b552-7cc7-403d-b224-0d4272a7d80c",
   "metadata": {},
   "outputs": [
    {
     "data": {
      "text/plain": [
       "<matplotlib.image.AxesImage at 0x7f4296e4c170>"
      ]
     },
     "execution_count": 60,
     "metadata": {},
     "output_type": "execute_result"
    },
    {
     "data": {
      "image/png": "[encoded data removed]",
      "text/plain": [
       "<Figure size 640x480 with 1 Axes>"
      ]
     },
     "metadata": {},
     "output_type": "display_data"
    }
   ],
   "source": [
    "plt.imshow(outputs)"
   ]
  },
  {
   "cell_type": "code",
   "execution_count": 79,
   "id": "1d44c2af-0fc8-4df2-b859-aef86cc5d32f",
   "metadata": {},
   "outputs": [],
   "source": [
    "g = generate_rep(params, inputs)"
   ]
  },
  {
   "cell_type": "code",
   "execution_count": 80,
   "id": "451c86f9-0aa1-47a2-8695-4764edc046c0",
   "metadata": {},
   "outputs": [
    {
     "data": {
      "text/plain": [
       "<matplotlib.colorbar.Colorbar at 0x7f42969bdcd0>"
      ]
     },
     "execution_count": 80,
     "metadata": {},
     "output_type": "execute_result"
    },
    {
     "data": {
      "image/png": "[encoded data removed]",
      "text/plain": [
       "<Figure size 2000x500 with 2 Axes>"
      ]
     },
     "metadata": {},
     "output_type": "display_data"
    }
   ],
   "source": [
    "plt.figure(figsize = (20, 5))\n",
    "plt.imshow(g[:-1,2::task_len].T, cmap='coolwarm')\n",
    "plt.colorbar()"
   ]
  },
  {
   "cell_type": "code",
   "execution_count": 55,
   "id": "0ccc5984-f83f-4431-81d6-f677e3afe67e",
   "metadata": {},
   "outputs": [
    {
     "data": {
      "text/plain": [
       "<matplotlib.colorbar.Colorbar at 0x7f4296fbe510>"
      ]
     },
     "execution_count": 55,
     "metadata": {},
     "output_type": "execute_result"
    },
    {
     "data": {
      "image/png": "[encoded data removed]",
      "text/plain": [
       "<Figure size 2000x500 with 2 Axes>"
      ]
     },
     "metadata": {},
     "output_type": "display_data"
    }
   ],
   "source": [
    "plt.figure(figsize = (20, 5))\n",
    "plt.imshow(g[:-1,2::task_len].T, cmap='coolwarm')\n",
    "plt.colorbar()"
   ]
  },
  {
   "cell_type": "code",
   "execution_count": 15,
   "id": "4df26b71-6138-44c7-b854-4b7bcbe930b8",
   "metadata": {},
   "outputs": [
    {
     "data": {
      "text/plain": [
       "1"
      ]
     },
     "execution_count": 15,
     "metadata": {},
     "output_type": "execute_result"
    }
   ],
   "source": [
    "config['repeats']"
   ]
  }
 ],
 "metadata": {
  "kernelspec": {
   "display_name": "modularise",
   "language": "python",
   "name": "modularise"
  },
  "language_info": {
   "codemirror_mode": {
    "name": "ipython",
    "version": 3
   },
   "file_extension": ".py",
   "mimetype": "text/x-python",
   "name": "python",
   "nbconvert_exporter": "python",
   "pygments_lexer": "ipython3",
   "version": "3.12.3"
  }
 },
 "nbformat": 4,
 "nbformat_minor": 5
}
