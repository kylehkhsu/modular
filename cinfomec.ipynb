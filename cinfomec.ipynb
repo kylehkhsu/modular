{
 "cells": [
  {
   "cell_type": "code",
   "execution_count": 1,
   "id": "initial_id",
   "metadata": {
    "collapsed": true,
    "ExecuteTime": {
     "end_time": "2024-05-18T13:44:49.184437Z",
     "start_time": "2024-05-18T13:44:49.103859Z"
    }
   },
   "outputs": [],
   "source": [
    "# import infomec\n",
    "import numpy as np\n",
    "import matplotlib.pyplot as plt\n",
    "import seaborn as sns\n",
    "\n",
    "from sklearn.preprocessing import LabelEncoder\n",
    "from sklearn.feature_selection import mutual_info_classif\n",
    "\n",
    "def entropy(x):\n",
    "    _, counts = np.unique(x, return_counts=True, axis=0)\n",
    "    p_x = counts / x.shape[0]\n",
    "    return -np.sum(p_x * np.log(p_x))\n",
    "\n",
    "def conditional_entropy(x, y):\n",
    "    \"\"\"H(X|Y) = H(X, Y) - H(Y)\"\"\"\n",
    "    H_xy = entropy(np.concatenate([x, y], axis=1))\n",
    "    H_y = entropy(y)\n",
    "    return H_xy - H_y\n",
    "\n",
    "def compute_ncmi(s, z, n_neighbors=3):\n",
    "    \"\"\"\n",
    "    Normalized conditional mutual information between sources s and latents z.\n",
    "    The [i, j] element is the conditional mutual information between the i-th source and the j-th latent \n",
    "    given the rest of the sources, normalized by the conditional entropy of the i-th source given the rest\n",
    "    of the sources.\n",
    "    I(z_j; s_i | s_{-i}) = I(z_j; s_i, s_{-i}) - I(z_j; s_{-i}) = I(z_j; s) - I(z_j; s_{-i})\n",
    "    NCMI[i, j] = I(z_j; s_i | s_{-i}) / H(s_i | s_{-i})\n",
    "    \"\"\"\n",
    "    \n",
    "    ds = s.shape[1]\n",
    "    dz = z.shape[1]\n",
    "    \n",
    "    I_z_j_and_s_joint = np.empty(shape=(dz,))\n",
    "    s_joint = LabelEncoder().fit_transform([str(s_sample) for s_sample in s])\n",
    "    for j in range(dz):\n",
    "        I_z_j_and_s_joint[j] = mutual_info_classif(z[:, j].reshape(-1, 1), s_joint, n_neighbors=n_neighbors).squeeze()\n",
    "    \n",
    "    ncmi = np.empty(shape=(ds, dz))\n",
    "    for i in range(ds):\n",
    "        s_rest = s[:, np.arange(ds) != i]\n",
    "        s_rest_str = LabelEncoder().fit_transform([str(s_sample) for s_sample in s_rest])\n",
    "        for j in range(dz):\n",
    "            I_z_j_and_s_rest = mutual_info_classif(z[:, j].reshape(-1, 1), s_rest_str, n_neighbors=n_neighbors).squeeze()\n",
    "            ncmi[i, j] = I_z_j_and_s_joint[j] - I_z_j_and_s_rest\n",
    "        H_s_i_given_s_rest = conditional_entropy(s[:, i].reshape(-1, 1), s_rest)\n",
    "        ncmi[i, :] /= H_s_i_given_s_rest\n",
    "    return ncmi\n",
    "\n",
    "def compute_cinfomec(s, z):\n",
    "    \"\"\"\n",
    "    Compute CInfoM, CInfoC, and InfoE between discrete sources s and continuous latents z.\n",
    "    s: np.ndarray, shape=(n_samples, n_sources)\n",
    "    z: np.ndarray, shape=(n_samples, n_latents)\n",
    "    \n",
    "    Inactive latents are heuristically identified by their range being less than a proportion of the range of the most active latent. Inactive latents are ignored in the computation of CInfoM and CInfoC.\n",
    "    \"\"\"\n",
    "    ncmi = compute_ncmi(s, z)\n",
    "    ncmi[ncmi < 0] = 0\n",
    "    \n",
    "    z_ranges = np.max(z, axis=0) - np.min(z, axis=0)\n",
    "    max_z_range = np.max(z_ranges)\n",
    "    z_active = z_ranges > 0.1 * max_z_range\n",
    "    \n",
    "    ds = s.shape[1]\n",
    "    ncmi_active = ncmi[:, z_active]\n",
    "    dz_active = np.sum(z_active)\n",
    "    if dz_active == 0:\n",
    "        return {\n",
    "            'CInfoM': 0,\n",
    "            'CInfoC': 0,\n",
    "            # 'InfoE': 0,\n",
    "            'NCMI': ncmi,\n",
    "            'z_active': z_active\n",
    "        }\n",
    "    cinfom = (np.mean(np.max(ncmi_active, axis=0) / np.sum(ncmi_active, axis=0)) - 1 / ds) / (\n",
    "                1 - 1 / ds)\n",
    "    cinfoc = (np.mean(np.max(ncmi_active, axis=1) / np.sum(ncmi_active, axis=1)) - 1 / dz_active) / (\n",
    "                1 - 1 / dz_active)\n",
    "    # infoe = infomec.compute_infoe(s, z, 'discrete', 'continuous')\n",
    "    return {\n",
    "        'CInfoM': cinfom,\n",
    "        'CInfoC': cinfoc,\n",
    "        # 'InfoE': infoe,\n",
    "        'NCMI': ncmi,\n",
    "        'z_active': z_active\n",
    "    }"
   ]
  },
  {
   "cell_type": "code",
   "execution_count": 2,
   "outputs": [
    {
     "data": {
      "text/plain": "<Axes: >"
     },
     "execution_count": 2,
     "metadata": {},
     "output_type": "execute_result"
    },
    {
     "data": {
      "text/plain": "<Figure size 640x480 with 1 Axes>",
      "image/png": "[encoded data removed]"
     },
     "metadata": {},
     "output_type": "display_data"
    }
   ],
   "source": [
    "s = np.mgrid[0:1:11j, 0:1:11j]\n",
    "s = s.reshape(2, -1).T\n",
    "slice = 0.99\n",
    "s = s[s[:, 1] > -s[:, 0] + slice]\n",
    "s = np.concatenate([s, s, s, s, s], axis=0)\n",
    "sns.scatterplot(x=s[:, 0], y=s[:, 1])"
   ],
   "metadata": {
    "collapsed": false,
    "ExecuteTime": {
     "end_time": "2024-05-18T13:44:54.610983Z",
     "start_time": "2024-05-18T13:44:54.449022Z"
    }
   },
   "id": "ac2a47802311112a"
  },
  {
   "cell_type": "code",
   "execution_count": 6,
   "outputs": [
    {
     "data": {
      "text/plain": "{'CInfoM': 0.3044644341194309,\n 'CInfoC': 0.3044454809550956,\n 'NCMI': array([[2.17903391, 1.14217586],\n        [1.16667967, 2.15104103]]),\n 'z_active': array([ True,  True])}"
     },
     "execution_count": 6,
     "metadata": {},
     "output_type": "execute_result"
    }
   ],
   "source": [
    "compute_cinfomec(s, s)"
   ],
   "metadata": {
    "collapsed": false,
    "ExecuteTime": {
     "end_time": "2024-05-18T13:46:50.488085Z",
     "start_time": "2024-05-18T13:46:50.384095Z"
    }
   },
   "id": "dc3c0dcaa9773136"
  },
  {
   "cell_type": "code",
   "execution_count": 7,
   "outputs": [
    {
     "data": {
      "text/plain": "<Figure size 800x400 with 8 Axes>",
      "image/png": "[encoded data removed]"
     },
     "metadata": {},
     "output_type": "display_data"
    }
   ],
   "source": [
    "std = 0.0001\n",
    "z0 = s[:, 0] + std * np.random.randn(s.shape[0])\n",
    "z0[z0 < 0.5] = 0\n",
    "z1 = s[:, 0] + std * np.random.randn(s.shape[0])\n",
    "z1[z1 >= 0.5] = 0\n",
    "z2 = s[:, 1] + std * np.random.randn(s.shape[0])\n",
    "z2[z2 < 0.5] = 0\n",
    "z3 = s[:, 1] + std * np.random.randn(s.shape[0])\n",
    "z3[z3 >= 0.5] = 0\n",
    "z = np.stack([z0, z1, z2, z3], axis=1)\n",
    "ns = s.shape[1]\n",
    "nz = z.shape[1]\n",
    "fig, axes = plt.subplots(ns, nz, figsize=(2 * nz, 2 * ns))\n",
    "for i in range(ns):\n",
    "    for j in range(nz):\n",
    "        ax = axes[i][j]\n",
    "        sns.scatterplot(\n",
    "            ax=ax,\n",
    "            x=z[:, j],\n",
    "            y=s[:, i],\n",
    "            rasterized=True\n",
    "        )\n",
    "        ax.set_xlabel(rf'$z_{{{j}}}$')\n",
    "        ax.set_ylabel(rf'$s_{{{i}}}$')\n",
    "fig.tight_layout()"
   ],
   "metadata": {
    "collapsed": false,
    "ExecuteTime": {
     "end_time": "2024-05-18T13:47:04.757911Z",
     "start_time": "2024-05-18T13:47:03.852701Z"
    }
   },
   "id": "534aae6778f28c1e"
  },
  {
   "cell_type": "code",
   "execution_count": 32,
   "outputs": [],
   "source": [],
   "metadata": {
    "collapsed": false,
    "ExecuteTime": {
     "end_time": "2024-05-17T17:21:40.143325Z",
     "start_time": "2024-05-17T17:21:40.104054Z"
    }
   },
   "id": "40d15145318db0de"
  },
  {
   "cell_type": "code",
   "execution_count": 5,
   "outputs": [
    {
     "data": {
      "text/plain": "{'CInfoM': 1.0,\n 'CInfoC': 0.6310409554427988,\n 'NCMI': array([[0.80964111, 0.3238953 , 0.        , 0.        ],\n        [0.        , 0.        , 0.84580371, 0.30919215]]),\n 'z_active': array([ True,  True,  True,  True])}"
     },
     "execution_count": 5,
     "metadata": {},
     "output_type": "execute_result"
    }
   ],
   "source": [
    "compute_cinfomec(s, z)"
   ],
   "metadata": {
    "collapsed": false,
    "ExecuteTime": {
     "end_time": "2024-05-18T13:45:28.767224Z",
     "start_time": "2024-05-18T13:45:28.584967Z"
    }
   },
   "id": "c6d0136151652546"
  },
  {
   "cell_type": "code",
   "execution_count": 17,
   "outputs": [],
   "source": [],
   "metadata": {
    "collapsed": false,
    "ExecuteTime": {
     "end_time": "2024-05-17T08:58:14.225580Z",
     "start_time": "2024-05-17T08:58:14.224078Z"
    }
   },
   "id": "fa4d60fb4bb8624e"
  },
  {
   "cell_type": "code",
   "execution_count": null,
   "outputs": [],
   "source": [],
   "metadata": {
    "collapsed": false
   },
   "id": "a8aa779eec076b83"
  }
 ],
 "metadata": {
  "kernelspec": {
   "display_name": "Python 3",
   "language": "python",
   "name": "python3"
  },
  "language_info": {
   "codemirror_mode": {
    "name": "ipython",
    "version": 2
   },
   "file_extension": ".py",
   "mimetype": "text/x-python",
   "name": "python",
   "nbconvert_exporter": "python",
   "pygments_lexer": "ipython2",
   "version": "2.7.6"
  }
 },
 "nbformat": 4,
 "nbformat_minor": 5
}
