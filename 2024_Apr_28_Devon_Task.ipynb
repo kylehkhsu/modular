{
 "cells": [
  {
   "cell_type": "markdown",
   "id": "24fdc079-0e1a-4f0d-b6b4-be3ec67aade7",
   "metadata": {},
   "source": [
    "# 28th April 2024 - Devon Networks\n",
    "\n",
    "Can we make a Devon style task modularise?"
   ]
  },
  {
   "cell_type": "code",
   "execution_count": 1,
   "id": "6d1d074f-8f78-4d45-92da-d0c65d07cd9d",
   "metadata": {},
   "outputs": [],
   "source": [
    "import numpy as np\n",
    "import jax.numpy as jnp\n",
    "import matplotlib.pyplot as plt\n",
    "from jax import vmap, value_and_grad, grad, jit, random\n",
    "import jax.nn as jnn\n",
    "import math\n",
    "import optax\n",
    "import scipy"
   ]
  },
  {
   "cell_type": "code",
   "execution_count": 122,
   "id": "091a2faa-ac87-42a1-b14e-bf62c72303c8",
   "metadata": {},
   "outputs": [
    {
     "data": {
      "image/png": "[encoded data removed]",
      "text/plain": [
       "<Figure size 640x480 with 1 Axes>"
      ]
     },
     "metadata": {},
     "output_type": "display_data"
    }
   ],
   "source": [
    "# Let's create the data\n",
    "data_option = 1\n",
    "\n",
    "if data_option == 0:\n",
    "    data = np.zeros([8, 8+3])\n",
    "    data[:,3:] = np.eye(8)\n",
    "    input_plus_bias_size = 12\n",
    "elif data_option == 1:\n",
    "    data = np.zeros([8, 4])\n",
    "    data[:,3] = np.arange(8)\n",
    "    input_plus_bias_size = 5\n",
    "\n",
    "counter = 0\n",
    "for n in range(2):\n",
    "    for m in range(2):\n",
    "        for l in range(2):\n",
    "            data[counter,0] = n\n",
    "            data[counter,1] = m\n",
    "            data[counter,2] = l\n",
    "            counter += 1\n",
    "\n",
    "plt.imshow(data)\n",
    "data = data.T\n",
    "\n"
   ]
  },
  {
   "cell_type": "code",
   "execution_count": 123,
   "id": "1c55d32e-3198-4c81-8108-94d082e95cb9",
   "metadata": {},
   "outputs": [
    {
     "name": "stdout",
     "output_type": "stream",
     "text": [
      "605423.75\n"
     ]
    }
   ],
   "source": [
    "# Let's try optimisation with implicit R for now\n",
    "H = 20\n",
    "I = np.random.normal(0,1, [H,input_plus_bias_size])\n",
    "data_with_bias = np.vstack([data, np.ones([1,data.shape[1]])])\n",
    "act_reg = 2\n",
    "weight_reg = 2\n",
    "\n",
    "@jit\n",
    "def generate_rep(I, inputs):\n",
    "    g = jnn.relu(I@inputs)\n",
    "    g_bias = jnp.vstack([g, jnp.ones(g.shape[1])[None,:]])\n",
    "    return g_bias\n",
    "\n",
    "if weight_reg == 1:\n",
    "    @jit\n",
    "    def loss_weight_I(I):\n",
    "        return jnp.sum(jnp.abs(I[:,:-1]))\n",
    "        \n",
    "    @jit\n",
    "    def loss_R(R):\n",
    "        R_sub = R[:-1,:]\n",
    "        return jnp.sum(jnp.abs(R_sub))\n",
    "        \n",
    "elif weight_reg == 2:\n",
    "    @jit\n",
    "    def loss_weight_I(I):\n",
    "        return jnp.sum(jnp.power(I[:,:-1],2))\n",
    "        \n",
    "    @jit\n",
    "    def loss_R(R):\n",
    "        R_sub = R[:-1,:]\n",
    "        return jnp.sum(jnp.power(R_sub, 2))\n",
    "\n",
    "@jit\n",
    "def generate_R(g, outputs):\n",
    "    mat0 = jnp.matmul(g, g.T)\n",
    "    mat1 = jnp.matmul(g, outputs.T)\n",
    "    mat2 = jnp.matmul(jnp.linalg.inv(mat0 + 0.01*jnp.eye(H+1)), mat1)\n",
    "    return mat2\n",
    "\n",
    "@jit\n",
    "def loss_fit(g, R, outputs):\n",
    "    preds = R.T@g\n",
    "    return jnp.linalg.norm(outputs - preds) \n",
    "\n",
    "\n",
    "if act_reg == 2:\n",
    "    @jit\n",
    "    def loss_act(g):\n",
    "        return jnp.sum(jnp.power(g[:-1,:], 2))\n",
    "elif act_reg == 1:\n",
    "    @jit\n",
    "    def loss_act(g):\n",
    "        return jnp.sum(jnp.abs(g[:-1,:]))\n",
    "elif act_reg == 0:\n",
    "    @jit\n",
    "    def loss_act(g):\n",
    "        return 0\n",
    "        \n",
    "mu_fit = 100000\n",
    "mu_G = 5\n",
    "mu_R = 1\n",
    "mu_I = 1\n",
    "fit_thresh = 0.01\n",
    "\n",
    "@jit\n",
    "def loss(params, inputs, outputs):\n",
    "    g = generate_rep(params[\"I\"], inputs)\n",
    "    R = generate_R(g, outputs)\n",
    "\n",
    "    return mu_fit*jnn.relu(loss_fit(g, R, outputs)-fit_thresh) + mu_G*loss_act(g) + mu_I*loss_weight_I(params[\"I\"]) + mu_R*loss_weight_I(R)\n",
    "    \n",
    "@jit\n",
    "def update(params, inputs, outputs, opt_state):\n",
    "    \"\"\" Compute the gradient for a batch and update the parameters \"\"\"\n",
    "    value, grads = value_and_grad(loss)(params, inputs, outputs)\n",
    "    updates, opt_state = optimizer.update(grads, opt_state)\n",
    "    params = optax.apply_updates(params, updates)\n",
    "    return params, opt_state, value\n",
    "\n",
    "random_seed = 4341321432\n",
    "learning_rate = 1e-4\n",
    "\n",
    "re_init = 1\n",
    "if re_init:\n",
    "    key = random.PRNGKey(random_seed)\n",
    "    I = random.normal(key, (H, input_plus_bias_size))*0.001\n",
    "    I = I.at[:,-1].set(2)\n",
    "    optimizer = optax.adam(learning_rate)\n",
    "    # Obtain the `opt_state` that contains statistics for the optimizer.\n",
    "    params = {'I': I}\n",
    "    opt_state = optimizer.init(params)\n",
    "print(loss(params, data_with_bias, data))\n",
    "min_loss = np.infty"
   ]
  },
  {
   "cell_type": "code",
   "execution_count": 124,
   "id": "33f225a4-aee2-4903-b944-fe32c623dd9f",
   "metadata": {},
   "outputs": [
    {
     "name": "stdout",
     "output_type": "stream",
     "text": [
      "Step 0, Loss: 605423.75000, Fit: 5.90994, Act: 639.97845, R: 28.40848, I: 0.00010\n",
      "New min! 605423.75\n",
      "Step 10000, Loss: 2099.67871, Fit: 0.01306, Act: 366.18161, R: 2.40731, I: 2.20290\n",
      "New min! 1997.0731201171875\n",
      "Step 20000, Loss: 623.20801, Fit: 0.01127, Act: 120.38751, R: 1.41638, I: 5.02388\n",
      "New min! 608.3815307617188\n",
      "Step 30000, Loss: 446.62769, Fit: 0.01005, Act: 88.04756, R: 1.46594, I: 4.88084\n",
      "New min! 446.16998291015625\n",
      "Step 40000, Loss: 340.02991, Fit: 0.00952, Act: 66.76359, R: 1.55699, I: 4.63275\n",
      "New min! 340.0299072265625\n",
      "Step 50000, Loss: 290.88324, Fit: 0.00985, Act: 56.93853, R: 1.63279, I: 4.56345\n",
      "New min! 290.44696044921875\n",
      "Step 60000, Loss: 317.63376, Fit: 0.01031, Act: 49.74508, R: 1.63089, I: 4.67130\n",
      "New min! 254.8871612548828\n",
      "Step 70000, Loss: 213.55914, Fit: 0.00976, Act: 41.40572, R: 1.63945, I: 4.89095\n",
      "New min! 212.92030334472656\n",
      "Step 80000, Loss: 235.52324, Fit: 0.00925, Act: 38.00290, R: 1.65101, I: 5.06804\n",
      "New min! 196.1227264404297\n",
      "Step 90000, Loss: 193.24194, Fit: 0.00946, Act: 37.27311, R: 1.64955, I: 5.21856\n",
      "Step 100000, Loss: 213.05269, Fit: 0.00906, Act: 37.29203, R: 1.63201, I: 5.33538\n",
      "New min! 190.82028198242188\n",
      "Step 110000, Loss: 189.67110, Fit: 0.00984, Act: 36.54700, R: 1.64717, I: 5.24316\n",
      "New min! 188.241455078125\n",
      "Step 120000, Loss: 187.47472, Fit: 0.00964, Act: 36.12084, R: 1.64499, I: 5.21464\n",
      "New min! 185.33074951171875\n",
      "Step 130000, Loss: 182.20946, Fit: 0.00919, Act: 35.07327, R: 1.64757, I: 5.27275\n",
      "New min! 180.350341796875\n",
      "Step 140000, Loss: 175.48656, Fit: 0.00963, Act: 33.65940, R: 1.66147, I: 5.53176\n",
      "New min! 172.9735565185547\n",
      "Step 150000, Loss: 167.91711, Fit: 0.00949, Act: 32.14540, R: 1.67460, I: 5.52083\n",
      "New min! 166.83355712890625\n",
      "Step 160000, Loss: 158.78165, Fit: 0.00969, Act: 30.31959, R: 1.67981, I: 5.51767\n",
      "New min! 157.3820343017578\n",
      "Step 170000, Loss: 146.76874, Fit: 0.00987, Act: 27.94976, R: 1.68639, I: 5.32631\n",
      "New min! 146.26504516601562\n",
      "Step 180000, Loss: 142.06902, Fit: 0.00997, Act: 27.05545, R: 1.69280, I: 5.09895\n",
      "New min! 141.5153350830078\n",
      "Step 190000, Loss: 140.57172, Fit: 0.00982, Act: 26.79498, R: 1.70107, I: 4.91796\n",
      "New min! 140.16641235351562\n",
      "Step 200000, Loss: 140.30896, Fit: 0.00994, Act: 26.75544, R: 1.69982, I: 4.82656\n",
      "New min! 139.41470336914062\n",
      "Step 210000, Loss: 139.34825, Fit: 0.00996, Act: 26.59859, R: 1.69475, I: 4.71581\n",
      "New min! 138.65150451660156\n",
      "Step 220000, Loss: 139.41437, Fit: 0.00991, Act: 26.61861, R: 1.68673, I: 4.63714\n",
      "New min! 138.4888458251953\n",
      "Step 230000, Loss: 138.47784, Fit: 0.00996, Act: 26.44289, R: 1.68752, I: 4.55546\n",
      "New min! 138.12460327148438\n",
      "Step 240000, Loss: 138.34561, Fit: 0.00990, Act: 26.43475, R: 1.68466, I: 4.48947\n",
      "New min! 137.80726623535156\n",
      "Step 250000, Loss: 138.27452, Fit: 0.00989, Act: 26.43407, R: 1.67982, I: 4.41708\n",
      "New min! 137.2410430908203\n",
      "Step 260000, Loss: 138.01701, Fit: 0.00987, Act: 26.40344, R: 1.67657, I: 4.36875\n",
      "New min! 137.1829376220703\n",
      "Step 270000, Loss: 138.22173, Fit: 0.00986, Act: 26.45480, R: 1.67168, I: 4.33687\n",
      "New min! 136.98141479492188\n",
      "Step 280000, Loss: 137.72552, Fit: 0.00983, Act: 26.34862, R: 1.67423, I: 4.29971\n",
      "New min! 136.95912170410156\n",
      "Step 290000, Loss: 137.31966, Fit: 0.00998, Act: 26.28230, R: 1.67695, I: 4.26485\n",
      "New min! 136.87832641601562\n",
      "Step 300000, Loss: 137.57249, Fit: 0.00991, Act: 26.32661, R: 1.67114, I: 4.24677\n",
      "New min! 136.87335205078125\n",
      "Step 310000, Loss: 137.37962, Fit: 0.00994, Act: 26.29206, R: 1.67271, I: 4.22154\n",
      "Step 320000, Loss: 139.15950, Fit: 0.00996, Act: 26.24886, R: 1.67213, I: 4.20468\n",
      "Step 330000, Loss: 137.53049, Fit: 0.00989, Act: 26.32885, R: 1.66681, I: 4.19812\n",
      "New min! 136.6872100830078\n",
      "Step 340000, Loss: 137.36850, Fit: 0.00989, Act: 26.30606, R: 1.66835, I: 4.17335\n",
      "Step 350000, Loss: 137.25909, Fit: 0.00985, Act: 26.28396, R: 1.66826, I: 4.16245\n",
      "New min! 136.61509704589844\n",
      "Step 360000, Loss: 139.55708, Fit: 0.01003, Act: 26.18915, R: 1.67158, I: 4.14679\n",
      "Step 370000, Loss: 137.19756, Fit: 0.00988, Act: 26.27326, R: 1.66755, I: 4.14250\n",
      "Step 380000, Loss: 137.27510, Fit: 0.00996, Act: 26.28998, R: 1.66555, I: 4.13292\n",
      "Step 390000, Loss: 137.65851, Fit: 0.00990, Act: 26.36590, R: 1.66212, I: 4.12684\n",
      "Step 400000, Loss: 136.98593, Fit: 0.00995, Act: 26.25241, R: 1.66647, I: 4.10697\n",
      "Step 410000, Loss: 137.20628, Fit: 0.00994, Act: 26.28633, R: 1.66449, I: 4.10074\n",
      "New min! 136.4888153076172\n",
      "Step 420000, Loss: 136.94336, Fit: 0.00983, Act: 26.23633, R: 1.66736, I: 4.08407\n",
      "New min! 136.48265075683594\n",
      "Step 430000, Loss: 137.16481, Fit: 0.00985, Act: 26.28193, R: 1.66434, I: 4.07758\n",
      "Step 440000, Loss: 136.81161, Fit: 0.00998, Act: 26.21304, R: 1.66720, I: 4.06860\n",
      "Step 450000, Loss: 144.04146, Fit: 0.00996, Act: 26.26531, R: 1.66580, I: 4.05854\n",
      "Step 460000, Loss: 137.20184, Fit: 0.00995, Act: 26.29263, R: 1.66498, I: 4.06124\n",
      "Step 470000, Loss: 136.58415, Fit: 0.00995, Act: 26.16852, R: 1.66874, I: 4.04866\n",
      "Step 480000, Loss: 136.82991, Fit: 0.00995, Act: 26.22487, R: 1.66645, I: 4.04127\n",
      "Step 490000, Loss: 137.10768, Fit: 0.00988, Act: 26.27656, R: 1.66278, I: 4.04379\n",
      "New min! 136.36709594726562\n",
      "Step 500000, Loss: 136.96227, Fit: 0.01000, Act: 26.25887, R: 1.66455, I: 4.02809\n",
      "New min! 136.35366821289062\n",
      "Step 510000, Loss: 137.15652, Fit: 0.00994, Act: 26.28927, R: 1.66267, I: 4.02909\n",
      "New min! 136.33897399902344\n",
      "Step 520000, Loss: 136.72653, Fit: 0.01001, Act: 26.20501, R: 1.66678, I: 4.01065\n",
      "Step 530000, Loss: 137.05107, Fit: 0.00992, Act: 26.27158, R: 1.66250, I: 4.02187\n",
      "Step 540000, Loss: 136.65308, Fit: 0.00994, Act: 26.19229, R: 1.66650, I: 4.00902\n",
      "Step 550000, Loss: 136.77995, Fit: 0.01006, Act: 26.22129, R: 1.66697, I: 4.00085\n",
      "Step 560000, Loss: 136.76578, Fit: 0.00994, Act: 26.22239, R: 1.66504, I: 3.99813\n",
      "Step 570000, Loss: 136.71277, Fit: 0.00996, Act: 26.20825, R: 1.66542, I: 3.99587\n",
      "Step 580000, Loss: 137.01141, Fit: 0.00995, Act: 26.20075, R: 1.66517, I: 3.99706\n",
      "Step 590000, Loss: 137.00591, Fit: 0.01000, Act: 26.27364, R: 1.66298, I: 3.99692\n",
      "Step 600000, Loss: 136.68700, Fit: 0.00991, Act: 26.21163, R: 1.66505, I: 3.98321\n",
      "Step 610000, Loss: 136.86848, Fit: 0.00997, Act: 26.24182, R: 1.66330, I: 3.98297\n",
      "Step 620000, Loss: 137.22084, Fit: 0.01000, Act: 26.31796, R: 1.66040, I: 3.98349\n",
      "Step 630000, Loss: 136.71890, Fit: 0.00988, Act: 26.21253, R: 1.66327, I: 3.97802\n",
      "Step 640000, Loss: 136.61681, Fit: 0.00997, Act: 26.19775, R: 1.66724, I: 3.96333\n",
      "Step 650000, Loss: 136.62473, Fit: 0.00995, Act: 26.19909, R: 1.66518, I: 3.97075\n",
      "Step 660000, Loss: 136.83519, Fit: 0.00998, Act: 26.24289, R: 1.66350, I: 3.96937\n",
      "Step 670000, Loss: 136.63042, Fit: 0.00999, Act: 26.19899, R: 1.66631, I: 3.96016\n",
      "Step 680000, Loss: 137.25085, Fit: 0.00992, Act: 26.21989, R: 1.66578, I: 3.95496\n",
      "New min! 136.20394897460938\n",
      "Step 690000, Loss: 136.46240, Fit: 0.01004, Act: 26.16407, R: 1.66690, I: 3.95253\n",
      "Step 700000, Loss: 136.67931, Fit: 0.00999, Act: 26.21769, R: 1.66531, I: 3.94708\n",
      "New min! 136.1573486328125\n",
      "Step 710000, Loss: 136.73961, Fit: 0.01003, Act: 26.22208, R: 1.66376, I: 3.95092\n",
      "Step 720000, Loss: 136.70764, Fit: 0.00996, Act: 26.22301, R: 1.66344, I: 3.94689\n",
      "Step 730000, Loss: 139.03479, Fit: 0.00998, Act: 26.28166, R: 1.66154, I: 3.94553\n",
      "Step 740000, Loss: 136.75093, Fit: 0.00995, Act: 26.24100, R: 1.66351, I: 3.93743\n",
      "Step 750000, Loss: 136.67455, Fit: 0.00997, Act: 26.21748, R: 1.66393, I: 3.93547\n",
      "Step 760000, Loss: 136.67439, Fit: 0.00999, Act: 26.21561, R: 1.66511, I: 3.92522\n",
      "Step 770000, Loss: 136.69655, Fit: 0.00996, Act: 26.22144, R: 1.66366, I: 3.92794\n",
      "New min! 136.11793518066406\n",
      "Step 780000, Loss: 136.41782, Fit: 0.00996, Act: 26.16763, R: 1.66669, I: 3.91628\n",
      "Step 790000, Loss: 137.45859, Fit: 0.00994, Act: 26.14756, R: 1.66675, I: 3.91517\n",
      "New min! 136.10162353515625\n",
      "Step 800000, Loss: 136.42007, Fit: 0.00997, Act: 26.16548, R: 1.66498, I: 3.91784\n",
      "New min! 136.0634765625\n",
      "Step 810000, Loss: 136.53589, Fit: 0.01000, Act: 26.20007, R: 1.66371, I: 3.91350\n",
      "Step 820000, Loss: 136.57439, Fit: 0.00996, Act: 26.20038, R: 1.66349, I: 3.91145\n",
      "New min! 136.03048706054688\n",
      "Step 830000, Loss: 136.57555, Fit: 0.00999, Act: 26.19682, R: 1.66313, I: 3.90885\n",
      "Step 840000, Loss: 136.24922, Fit: 0.01000, Act: 26.13645, R: 1.66505, I: 3.90357\n",
      "Step 850000, Loss: 136.27437, Fit: 0.01000, Act: 26.13823, R: 1.66477, I: 3.90377\n",
      "Step 860000, Loss: 136.32529, Fit: 0.00997, Act: 26.15574, R: 1.66467, I: 3.89696\n",
      "New min! 135.99839782714844\n",
      "Step 870000, Loss: 136.18079, Fit: 0.01002, Act: 26.11923, R: 1.66534, I: 3.89641\n",
      "Step 880000, Loss: 136.55122, Fit: 0.00997, Act: 26.20062, R: 1.66181, I: 3.89688\n",
      "Step 890000, Loss: 136.56122, Fit: 0.00996, Act: 26.15677, R: 1.66432, I: 3.89030\n",
      "Step 900000, Loss: 136.71852, Fit: 0.01003, Act: 26.22355, R: 1.65962, I: 3.89820\n",
      "New min! 135.9635467529297\n",
      "Step 910000, Loss: 136.26775, Fit: 0.00998, Act: 26.14204, R: 1.66319, I: 3.89012\n",
      "Step 920000, Loss: 136.35748, Fit: 0.00997, Act: 26.16492, R: 1.66224, I: 3.88893\n",
      "Step 930000, Loss: 136.14877, Fit: 0.00998, Act: 26.12330, R: 1.66466, I: 3.88269\n",
      "Step 940000, Loss: 136.19279, Fit: 0.00999, Act: 26.12581, R: 1.66366, I: 3.88447\n",
      "Step 950000, Loss: 136.89474, Fit: 0.00994, Act: 26.27274, R: 1.65777, I: 3.89203\n",
      "Step 960000, Loss: 136.58612, Fit: 0.00998, Act: 26.20357, R: 1.66066, I: 3.88641\n",
      "New min! 135.94276428222656\n",
      "Step 970000, Loss: 136.18399, Fit: 0.00999, Act: 26.12709, R: 1.66361, I: 3.87934\n",
      "Step 980000, Loss: 136.18022, Fit: 0.00999, Act: 26.12906, R: 1.66343, I: 3.87656\n",
      "New min! 135.93336486816406\n",
      "Step 990000, Loss: 136.11671, Fit: 0.00998, Act: 26.12169, R: 1.66333, I: 3.87537\n",
      "Step 1000000, Loss: 136.18665, Fit: 0.01000, Act: 26.12865, R: 1.66266, I: 3.87435\n",
      "Step 1010000, Loss: 136.24757, Fit: 0.00998, Act: 26.13955, R: 1.66223, I: 3.87291\n",
      "Step 1020000, Loss: 136.28325, Fit: 0.00996, Act: 26.14701, R: 1.66181, I: 3.87277\n",
      "Step 1030000, Loss: 136.29590, Fit: 0.00998, Act: 26.14727, R: 1.66212, I: 3.86836\n",
      "New min! 135.92086791992188\n",
      "Step 1040000, Loss: 136.34723, Fit: 0.00994, Act: 26.16321, R: 1.66109, I: 3.87007\n",
      "Step 1050000, Loss: 136.13911, Fit: 0.00997, Act: 26.12294, R: 1.66362, I: 3.86573\n",
      "Step 1060000, Loss: 136.75850, Fit: 0.00999, Act: 26.14628, R: 1.66174, I: 3.86932\n",
      "Step 1070000, Loss: 136.27794, Fit: 0.01000, Act: 26.14765, R: 1.66238, I: 3.86364\n",
      "Step 1080000, Loss: 136.26562, Fit: 0.00996, Act: 26.14283, R: 1.66153, I: 3.86696\n",
      "New min! 135.874755859375\n",
      "Step 1090000, Loss: 136.35143, Fit: 0.00998, Act: 26.16356, R: 1.66216, I: 3.85922\n",
      "Step 1100000, Loss: 136.20499, Fit: 0.00997, Act: 26.14104, R: 1.66397, I: 3.85638\n",
      "Step 1110000, Loss: 136.10806, Fit: 0.01001, Act: 26.11862, R: 1.66379, I: 3.85681\n",
      "Step 1120000, Loss: 136.04210, Fit: 0.00996, Act: 26.10245, R: 1.66501, I: 3.85240\n",
      "Step 1130000, Loss: 136.21803, Fit: 0.00997, Act: 26.13826, R: 1.66380, I: 3.85147\n",
      "Step 1140000, Loss: 136.27831, Fit: 0.01000, Act: 26.15309, R: 1.66226, I: 3.85350\n",
      "Step 1150000, Loss: 136.39316, Fit: 0.00995, Act: 26.17746, R: 1.66252, I: 3.85006\n",
      "Step 1160000, Loss: 136.15955, Fit: 0.00998, Act: 26.13099, R: 1.66605, I: 3.83872\n"
     ]
    },
    {
     "ename": "KeyboardInterrupt",
     "evalue": "",
     "output_type": "error",
     "traceback": [
      "\u001b[0;31m---------------------------------------------------------------------------\u001b[0m",
      "\u001b[0;31mKeyboardInterrupt\u001b[0m                         Traceback (most recent call last)",
      "Cell \u001b[0;32mIn[124], line 6\u001b[0m\n\u001b[1;32m      3\u001b[0m print_iter \u001b[38;5;241m=\u001b[39m \u001b[38;5;241m10000\u001b[39m\n\u001b[1;32m      5\u001b[0m \u001b[38;5;28;01mfor\u001b[39;00m t \u001b[38;5;129;01min\u001b[39;00m \u001b[38;5;28mrange\u001b[39m(T):\n\u001b[0;32m----> 6\u001b[0m     params, opt_state, loss \u001b[38;5;241m=\u001b[39m update(params, data_with_bias, data, opt_state)\n\u001b[1;32m      8\u001b[0m     \u001b[38;5;28;01mif\u001b[39;00m t \u001b[38;5;241m%\u001b[39m print_iter \u001b[38;5;241m==\u001b[39m \u001b[38;5;241m0\u001b[39m:\n\u001b[1;32m      9\u001b[0m         g \u001b[38;5;241m=\u001b[39m generate_rep(params[\u001b[38;5;124m\"\u001b[39m\u001b[38;5;124mI\u001b[39m\u001b[38;5;124m\"\u001b[39m], data_with_bias)\n",
      "File \u001b[0;32m<string>:1\u001b[0m, in \u001b[0;36m<lambda>\u001b[0;34m(_cls, count, mu, nu)\u001b[0m\n",
      "\u001b[0;31mKeyboardInterrupt\u001b[0m: "
     ]
    }
   ],
   "source": [
    "# Optimisation, run and re-run until it stops hitting new records\n",
    "T = 10000000\n",
    "print_iter = 10000\n",
    "\n",
    "for t in range(T):\n",
    "    params, opt_state, loss = update(params, data_with_bias, data, opt_state)\n",
    "\n",
    "    if t % print_iter == 0:\n",
    "        g = generate_rep(params[\"I\"], data_with_bias)\n",
    "        R = generate_R(g, data)\n",
    "\n",
    "        L_f = loss_fit(g, R, data)\n",
    "        L_a = loss_act(g)\n",
    "        L_R = loss_weight_I(R)\n",
    "        L_I = loss_weight_I(params[\"I\"])    \n",
    "        print(f\"Step {t}, Loss: {loss:.5f}, Fit: {L_f:.5f}, Act: {L_a:.5f}, R: {L_R:.5f}, I: {L_I:.5f}\")\n",
    "        #print(f\"Step {t}, Loss: {loss:.5f}\")#, Fit: {L_f:.5f}, Act: {L_a:.5f}, Wei: {L_w:.5f}, R: {L_R:.5f}, Pos: {L_p:.5f}, PI: {L_PI:.5f}\")\n",
    "\n",
    "        min_this_step = 0\n",
    "\n",
    "    if loss < min_loss:\n",
    "        params_best = params\n",
    "        min_loss = loss\n",
    "        if min_this_step == 0:\n",
    "            print(f'New min! {loss}')\n",
    "            min_this_step = 1"
   ]
  },
  {
   "cell_type": "code",
   "execution_count": 125,
   "id": "1dc53b00-b287-4179-83eb-ac776715a842",
   "metadata": {},
   "outputs": [
    {
     "name": "stdout",
     "output_type": "stream",
     "text": [
      "135.87476\n"
     ]
    }
   ],
   "source": [
    "print(min_loss)"
   ]
  },
  {
   "cell_type": "code",
   "execution_count": 126,
   "id": "e8d89f92-57a8-4b27-b748-ccd64d118c71",
   "metadata": {},
   "outputs": [
    {
     "data": {
      "text/plain": [
       "(21, 8)"
      ]
     },
     "execution_count": 126,
     "metadata": {},
     "output_type": "execute_result"
    }
   ],
   "source": [
    "g = generate_rep(params_best[\"I\"], data_with_bias)\n",
    "g.shape"
   ]
  },
  {
   "cell_type": "code",
   "execution_count": 127,
   "id": "687a55f3-e21a-459a-992e-0d3857a198b8",
   "metadata": {},
   "outputs": [
    {
     "data": {
      "text/plain": [
       "<matplotlib.colorbar.Colorbar at 0x2945b9310>"
      ]
     },
     "execution_count": 127,
     "metadata": {},
     "output_type": "execute_result"
    },
    {
     "data": {
      "image/png": "[encoded data removed]",
      "text/plain": [
       "<Figure size 640x480 with 2 Axes>"
      ]
     },
     "metadata": {},
     "output_type": "display_data"
    }
   ],
   "source": [
    "plt.imshow(g)\n",
    "plt.colorbar()"
   ]
  },
  {
   "cell_type": "code",
   "execution_count": 128,
   "id": "e532fca3-d033-4da7-b9b6-08d9b3a1d6e0",
   "metadata": {},
   "outputs": [
    {
     "data": {
      "text/plain": [
       "<matplotlib.image.AxesImage at 0x294653fd0>"
      ]
     },
     "execution_count": 128,
     "metadata": {},
     "output_type": "execute_result"
    },
    {
     "data": {
      "image/png": "[encoded data removed]",
      "text/plain": [
       "<Figure size 640x480 with 1 Axes>"
      ]
     },
     "metadata": {},
     "output_type": "display_data"
    }
   ],
   "source": [
    "plt.imshow(data)"
   ]
  },
  {
   "cell_type": "code",
   "execution_count": 129,
   "id": "86d997d2-d2c8-4d7e-9ea9-41a9af0fd652",
   "metadata": {},
   "outputs": [
    {
     "data": {
      "text/plain": [
       "<matplotlib.image.AxesImage at 0x2946a8f90>"
      ]
     },
     "execution_count": 129,
     "metadata": {},
     "output_type": "execute_result"
    },
    {
     "data": {
      "image/png": "[encoded data removed]",
      "text/plain": [
       "<Figure size 640x480 with 1 Axes>"
      ]
     },
     "metadata": {},
     "output_type": "display_data"
    }
   ],
   "source": [
    "plt.imshow(g@data.T)"
   ]
  },
  {
   "cell_type": "code",
   "execution_count": 102,
   "id": "ecf30335-b4b5-4ca5-b880-addb320ad000",
   "metadata": {},
   "outputs": [
    {
     "data": {
      "text/plain": [
       "-2"
      ]
     },
     "execution_count": 102,
     "metadata": {},
     "output_type": "execute_result"
    }
   ],
   "source": [
    "np.power(-2, 1)"
   ]
  },
  {
   "cell_type": "code",
   "execution_count": 134,
   "id": "15effef7-7a6b-4b63-ac33-db73313b119e",
   "metadata": {},
   "outputs": [
    {
     "data": {
      "text/plain": [
       "<matplotlib.collections.PathCollection at 0x29488e610>"
      ]
     },
     "execution_count": 134,
     "metadata": {},
     "output_type": "execute_result"
    },
    {
     "data": {
      "image/png": "[encoded data removed]",
      "text/plain": [
       "<Figure size 640x480 with 1 Axes>"
      ]
     },
     "metadata": {},
     "output_type": "display_data"
    }
   ],
   "source": [
    "plt.scatter(data[1,:], data[3,:])"
   ]
  }
 ],
 "metadata": {
  "kernelspec": {
   "display_name": "rep_theo",
   "language": "python",
   "name": "rep_theo"
  },
  "language_info": {
   "codemirror_mode": {
    "name": "ipython",
    "version": 3
   },
   "file_extension": ".py",
   "mimetype": "text/x-python",
   "name": "python",
   "nbconvert_exporter": "python",
   "pygments_lexer": "ipython3",
   "version": "3.11.0"
  }
 },
 "nbformat": 4,
 "nbformat_minor": 5
}
