{
 "cells": [
  {
   "cell_type": "code",
   "execution_count": 1,
   "id": "initial_id",
   "metadata": {
    "collapsed": true,
    "ExecuteTime": {
     "end_time": "2024-05-22T09:49:57.765484Z",
     "start_time": "2024-05-22T09:49:55.631913Z"
    }
   },
   "outputs": [
    {
     "name": "stdout",
     "output_type": "stream",
     "text": [
      "env: LD_LIBRARY_PATH=/home/kylehsu/miniforge3/envs/modular/lib/:/home/kylehsu/miniforge3/envs/modular/lib/python3.12/site-packages/nvidia/cudnn/lib:\n"
     ]
    },
    {
     "name": "stderr",
     "output_type": "stream",
     "text": [
      "2024-05-22 02:49:57.297551: W tensorflow/compiler/tf2tensorrt/utils/py_utils.cc:38] TF-TRT Warning: Could not find TensorRT\n",
      "2024-05-22 02:49:57.966138: W tensorflow/core/common_runtime/gpu/gpu_device.cc:2251] Cannot dlopen some GPU libraries. Please make sure the missing libraries mentioned above are installed properly if you would like to use GPU. Follow the guide at https://www.tensorflow.org/install/gpu for how to download and setup the required libraries for your platform.\n",
      "Skipping registering GPU devices...\n"
     ]
    }
   ],
   "source": [
    "%matplotlib ipympl\n",
    "%env LD_LIBRARY_PATH=/home/kylehsu/miniforge3/envs/modular/lib/:/home/kylehsu/miniforge3/envs/modular/lib/python3.12/site-packages/nvidia/cudnn/lib:\n",
    "import importlib\n",
    "import metrics\n",
    "importlib.reload(metrics)\n",
    "from metrics import compute_linear_metrics\n",
    "import numpy as np\n",
    "from pprint import pprint\n",
    "import matplotlib.pyplot as plt\n",
    "import seaborn as sns\n",
    "import wandb\n",
    "import omegaconf\n",
    "import pathlib\n",
    "import hydra\n",
    "import jax\n",
    "import jax.numpy as jnp\n",
    "import equinox as eqx\n",
    "import tensorflow as tf\n",
    "import tensorflow_datasets as tfds\n",
    "import tqdm.notebook as tqdm\n",
    "from scripts.train_toy import MLPAutoencoder, evaluate, generate_square_data\n",
    "from scripts.train_autoencoder import batched_x_to_image\n",
    "import disentangle\n",
    "sns.set_theme()"
   ]
  },
  {
   "cell_type": "code",
   "execution_count": 2,
   "outputs": [
    {
     "name": "stderr",
     "output_type": "stream",
     "text": [
      "WARNING:jax._src.xla_bridge:CUDA backend failed to initialize: Unable to use CUDA because of the following issues with CUDA components:\n",
      "Outdated cuDNN installation found.\n",
      "Version JAX was built against: 8906\n",
      "Minimum supported: 8900\n",
      "Installed version: 8003\n",
      "The local installation version must be no lower than 8900..(Set TF_CPP_MIN_LOG_LEVEL=0 and rerun for more info.)\n"
     ]
    },
    {
     "data": {
      "text/plain": "  0%|          | 0/1562 [00:00<?, ?it/s]",
      "application/vnd.jupyter.widget-view+json": {
       "version_major": 2,
       "version_minor": 0,
       "model_id": "506a5fe9d86448ddb03baa6303551079"
      }
     },
     "metadata": {},
     "output_type": "display_data"
    },
    {
     "ename": "KeyboardInterrupt",
     "evalue": "",
     "output_type": "error",
     "traceback": [
      "\u001B[0;31m---------------------------------------------------------------------------\u001B[0m",
      "\u001B[0;31mKeyboardInterrupt\u001B[0m                         Traceback (most recent call last)",
      "Cell \u001B[0;32mIn[2], line 18\u001B[0m\n\u001B[1;32m     16\u001B[0m \u001B[38;5;28;01mfor\u001B[39;00m i, batch \u001B[38;5;129;01min\u001B[39;00m tqdm\u001B[38;5;241m.\u001B[39mtqdm(\u001B[38;5;28menumerate\u001B[39m(val_set), total\u001B[38;5;241m=\u001B[39mconfig\u001B[38;5;241m.\u001B[39mdata\u001B[38;5;241m.\u001B[39mnum_val \u001B[38;5;241m/\u001B[39m\u001B[38;5;241m/\u001B[39m config\u001B[38;5;241m.\u001B[39mdata\u001B[38;5;241m.\u001B[39mbatch_size):\n\u001B[1;32m     17\u001B[0m     key, sub_key \u001B[38;5;241m=\u001B[39m jax\u001B[38;5;241m.\u001B[39mrandom\u001B[38;5;241m.\u001B[39msplit(key)\n\u001B[0;32m---> 18\u001B[0m     _, outs \u001B[38;5;241m=\u001B[39m \u001B[43mmodel\u001B[49m\u001B[38;5;241;43m.\u001B[39;49m\u001B[43mbatched_loss\u001B[49m\u001B[43m(\u001B[49m\u001B[43mmodel\u001B[49m\u001B[43m,\u001B[49m\u001B[43m \u001B[49m\u001B[43mbatch\u001B[49m\u001B[43m,\u001B[49m\u001B[43m \u001B[49m\u001B[43mkey\u001B[49m\u001B[38;5;241;43m=\u001B[39;49m\u001B[43msub_key\u001B[49m\u001B[43m)\u001B[49m\n\u001B[1;32m     19\u001B[0m     outs[\u001B[38;5;124m'\u001B[39m\u001B[38;5;124mx_pred\u001B[39m\u001B[38;5;124m'\u001B[39m] \u001B[38;5;241m=\u001B[39m np\u001B[38;5;241m.\u001B[39marray(jax\u001B[38;5;241m.\u001B[39mnn\u001B[38;5;241m.\u001B[39msigmoid(outs[\u001B[38;5;124m'\u001B[39m\u001B[38;5;124mdecoder\u001B[39m\u001B[38;5;124m'\u001B[39m][\u001B[38;5;124m'\u001B[39m\u001B[38;5;124mx_logits\u001B[39m\u001B[38;5;124m'\u001B[39m]) \u001B[38;5;241m*\u001B[39m \u001B[38;5;241m2\u001B[39m \u001B[38;5;241m-\u001B[39m \u001B[38;5;241m1\u001B[39m)\n\u001B[1;32m     20\u001B[0m     outs\u001B[38;5;241m.\u001B[39mpop(\u001B[38;5;124m'\u001B[39m\u001B[38;5;124mdecoder\u001B[39m\u001B[38;5;124m'\u001B[39m)\n",
      "File \u001B[0;32m/home/kylehsu/miniforge3/envs/modular/lib/python3.12/site-packages/equinox/_module.py:1189\u001B[0m, in \u001B[0;36mPartial.__call__\u001B[0;34m(self, *args, **kwargs)\u001B[0m\n\u001B[1;32m   1176\u001B[0m \u001B[38;5;28;01mdef\u001B[39;00m \u001B[38;5;21m__call__\u001B[39m(\u001B[38;5;28mself\u001B[39m, \u001B[38;5;241m*\u001B[39margs, \u001B[38;5;241m*\u001B[39m\u001B[38;5;241m*\u001B[39mkwargs):\n\u001B[1;32m   1177\u001B[0m \u001B[38;5;250m    \u001B[39m\u001B[38;5;124;03m\"\"\"Call the wrapped `self.func`.\u001B[39;00m\n\u001B[1;32m   1178\u001B[0m \n\u001B[1;32m   1179\u001B[0m \u001B[38;5;124;03m    **Arguments:**\u001B[39;00m\n\u001B[0;32m   (...)\u001B[0m\n\u001B[1;32m   1187\u001B[0m \u001B[38;5;124;03m    The result of the wrapped function.\u001B[39;00m\n\u001B[1;32m   1188\u001B[0m \u001B[38;5;124;03m    \"\"\"\u001B[39;00m\n\u001B[0;32m-> 1189\u001B[0m     \u001B[38;5;28;01mreturn\u001B[39;00m \u001B[38;5;28;43mself\u001B[39;49m\u001B[38;5;241;43m.\u001B[39;49m\u001B[43mfunc\u001B[49m\u001B[43m(\u001B[49m\u001B[38;5;241;43m*\u001B[39;49m\u001B[38;5;28;43mself\u001B[39;49m\u001B[38;5;241;43m.\u001B[39;49m\u001B[43margs\u001B[49m\u001B[43m,\u001B[49m\u001B[43m \u001B[49m\u001B[38;5;241;43m*\u001B[39;49m\u001B[43margs\u001B[49m\u001B[43m,\u001B[49m\u001B[43m \u001B[49m\u001B[38;5;241;43m*\u001B[39;49m\u001B[38;5;241;43m*\u001B[39;49m\u001B[43mkwargs\u001B[49m\u001B[43m,\u001B[49m\u001B[43m \u001B[49m\u001B[38;5;241;43m*\u001B[39;49m\u001B[38;5;241;43m*\u001B[39;49m\u001B[38;5;28;43mself\u001B[39;49m\u001B[38;5;241;43m.\u001B[39;49m\u001B[43mkeywords\u001B[49m\u001B[43m)\u001B[49m\n",
      "    \u001B[0;31m[... skipping hidden 3 frame]\u001B[0m\n",
      "File \u001B[0;32m/home/kylehsu/miniforge3/envs/modular/lib/python3.12/site-packages/equinox/_module.py:910\u001B[0m, in \u001B[0;36m_unflatten_module\u001B[0;34m(cls, aux, dynamic_field_values)\u001B[0m\n\u001B[1;32m    900\u001B[0m     aux \u001B[38;5;241m=\u001B[39m _FlattenedData(\n\u001B[1;32m    901\u001B[0m         \u001B[38;5;28mtuple\u001B[39m(dynamic_field_names),\n\u001B[1;32m    902\u001B[0m         \u001B[38;5;28mtuple\u001B[39m(static_field_names),\n\u001B[0;32m   (...)\u001B[0m\n\u001B[1;32m    905\u001B[0m         \u001B[38;5;28mtuple\u001B[39m(wrapper_field_values),\n\u001B[1;32m    906\u001B[0m     )\n\u001B[1;32m    907\u001B[0m     \u001B[38;5;28;01mreturn\u001B[39;00m \u001B[38;5;28mtuple\u001B[39m(dynamic_field_values), aux\n\u001B[0;32m--> 910\u001B[0m \u001B[38;5;28;01mdef\u001B[39;00m \u001B[38;5;21m_unflatten_module\u001B[39m(\u001B[38;5;28mcls\u001B[39m: \u001B[38;5;28mtype\u001B[39m[\u001B[38;5;124m\"\u001B[39m\u001B[38;5;124mModule\u001B[39m\u001B[38;5;124m\"\u001B[39m], aux: _FlattenedData, dynamic_field_values):\n\u001B[1;32m    911\u001B[0m     \u001B[38;5;66;03m# This doesn't go via `__init__`. A user may have done something nontrivial there,\u001B[39;00m\n\u001B[1;32m    912\u001B[0m     \u001B[38;5;66;03m# and the field values may be dummy values as used in various places throughout JAX.\u001B[39;00m\n\u001B[1;32m    913\u001B[0m     \u001B[38;5;66;03m# See also\u001B[39;00m\n\u001B[1;32m    914\u001B[0m     \u001B[38;5;66;03m# https://jax.readthedocs.io/en/latest/pytrees.html#custom-pytrees-and-initialization,\u001B[39;00m\n\u001B[1;32m    915\u001B[0m     \u001B[38;5;66;03m# which was (I believe) inspired by Equinox's approach here.\u001B[39;00m\n\u001B[1;32m    916\u001B[0m     module \u001B[38;5;241m=\u001B[39m \u001B[38;5;28mobject\u001B[39m\u001B[38;5;241m.\u001B[39m\u001B[38;5;21m__new__\u001B[39m(\u001B[38;5;28mcls\u001B[39m)\n\u001B[1;32m    917\u001B[0m     \u001B[38;5;28;01mfor\u001B[39;00m name, value \u001B[38;5;129;01min\u001B[39;00m \u001B[38;5;28mzip\u001B[39m(aux\u001B[38;5;241m.\u001B[39mdynamic_field_names, dynamic_field_values):\n",
      "\u001B[0;31mKeyboardInterrupt\u001B[0m: "
     ]
    }
   ],
   "source": [
    "api = wandb.Api()\n",
    "run_path = 'iris_viscam/modular/81k5w7gi'\n",
    "step = 9999\n",
    "run = api.run(run_path)\n",
    "config = omegaconf.OmegaConf.create(run.config)\n",
    "\n",
    "dataset_info, train_set, val_set = disentangle.datasets.load(config)\n",
    "config.model.latent_size = 2 * dataset_info['num_sources']\n",
    "keys = iter(jax.random.split(jax.random.PRNGKey(config.experiment.seed), 100))\n",
    "model = hydra.utils.instantiate(config.model)(key=next(keys))\n",
    "model_file = wandb.restore(f'checkpoints/step={step}/model.eqx', run_path=run_path)\n",
    "model = eqx.tree_deserialise_leaves(model_file.name, model)\n",
    "\n",
    "key = next(keys)\n",
    "outs_list = []\n",
    "for i, batch in tqdm.tqdm(enumerate(val_set), total=config.data.num_val // config.data.batch_size):\n",
    "    key, sub_key = jax.random.split(key)\n",
    "    _, outs = model.batched_loss(model, batch, key=sub_key)\n",
    "    outs['x_pred'] = np.array(jax.nn.sigmoid(outs['decoder']['x_logits']) * 2 - 1)\n",
    "    outs.pop('decoder')\n",
    "    outs['log']['metrics/psnr'] = np.array(jax.vmap(disentangle.metrics.peak_signal_to_noise_ratio)(\n",
    "        batched_x_to_image(outs['x_pred']),\n",
    "        batched_x_to_image(batch['x'])\n",
    "    ))\n",
    "    outs['x'] = batch['x']\n",
    "    outs['s'] = batch['s']\n",
    "    outs['z_c'] = np.array(outs['z_c'])\n",
    "    outs['z_q'] = np.array(outs['z_q'])\n",
    "    if i > 2:\n",
    "        for k in [k for k in outs.keys() if k.startswith('x')]:\n",
    "            outs[k] = np.zeros((0, *outs[k].shape[1:]), dtype=outs[k].dtype)\n",
    "    outs_list.append(outs)\n",
    "\n",
    "with jax.default_device(jax.devices('cpu')[0]):\n",
    "    outs = jax.tree_map(lambda *leaves: jnp.concatenate(leaves) if leaves[0].ndim > 0 else jnp.stack(leaves), *outs_list)"
   ],
   "metadata": {
    "collapsed": false,
    "ExecuteTime": {
     "end_time": "2024-05-22T09:51:20.162899Z",
     "start_time": "2024-05-22T09:50:01.864512Z"
    }
   },
   "id": "9643cb193777dfa1"
  },
  {
   "cell_type": "code",
   "execution_count": 22,
   "outputs": [
    {
     "name": "stderr",
     "output_type": "stream",
     "text": [
      "/home/kylehsu/miniforge3/envs/modular/lib/python3.12/site-packages/sklearn/metrics/_classification.py:2981: UserWarning: The y_pred values do not sum to one. Starting from 1.5 thiswill result in an error.\n",
      "  warnings.warn(\n",
      "/home/kylehsu/miniforge3/envs/modular/lib/python3.12/site-packages/sklearn/metrics/_classification.py:2981: UserWarning: The y_pred values do not sum to one. Starting from 1.5 thiswill result in an error.\n",
      "  warnings.warn(\n",
      "/home/kylehsu/miniforge3/envs/modular/lib/python3.12/site-packages/sklearn/metrics/_classification.py:2981: UserWarning: The y_pred values do not sum to one. Starting from 1.5 thiswill result in an error.\n",
      "  warnings.warn(\n",
      "/home/kylehsu/miniforge3/envs/modular/lib/python3.12/site-packages/sklearn/metrics/_classification.py:2981: UserWarning: The y_pred values do not sum to one. Starting from 1.5 thiswill result in an error.\n",
      "  warnings.warn(\n",
      "/home/kylehsu/miniforge3/envs/modular/lib/python3.12/site-packages/sklearn/metrics/_classification.py:2981: UserWarning: The y_pred values do not sum to one. Starting from 1.5 thiswill result in an error.\n",
      "  warnings.warn(\n",
      "/home/kylehsu/miniforge3/envs/modular/lib/python3.12/site-packages/sklearn/metrics/_classification.py:2981: UserWarning: The y_pred values do not sum to one. Starting from 1.5 thiswill result in an error.\n",
      "  warnings.warn(\n",
      "/home/kylehsu/miniforge3/envs/modular/lib/python3.12/site-packages/sklearn/metrics/_classification.py:2981: UserWarning: The y_pred values do not sum to one. Starting from 1.5 thiswill result in an error.\n",
      "  warnings.warn(\n",
      "/home/kylehsu/miniforge3/envs/modular/lib/python3.12/site-packages/sklearn/metrics/_classification.py:2981: UserWarning: The y_pred values do not sum to one. Starting from 1.5 thiswill result in an error.\n",
      "  warnings.warn(\n",
      "/home/kylehsu/miniforge3/envs/modular/lib/python3.12/site-packages/sklearn/metrics/_classification.py:2981: UserWarning: The y_pred values do not sum to one. Starting from 1.5 thiswill result in an error.\n",
      "  warnings.warn(\n",
      "/home/kylehsu/miniforge3/envs/modular/lib/python3.12/site-packages/sklearn/metrics/_classification.py:2981: UserWarning: The y_pred values do not sum to one. Starting from 1.5 thiswill result in an error.\n",
      "  warnings.warn(\n",
      "/home/kylehsu/miniforge3/envs/modular/lib/python3.12/site-packages/sklearn/metrics/_classification.py:2981: UserWarning: The y_pred values do not sum to one. Starting from 1.5 thiswill result in an error.\n",
      "  warnings.warn(\n",
      "/home/kylehsu/miniforge3/envs/modular/lib/python3.12/site-packages/sklearn/metrics/_classification.py:2981: UserWarning: The y_pred values do not sum to one. Starting from 1.5 thiswill result in an error.\n",
      "  warnings.warn(\n",
      "/home/kylehsu/miniforge3/envs/modular/lib/python3.12/site-packages/sklearn/metrics/_classification.py:2981: UserWarning: The y_pred values do not sum to one. Starting from 1.5 thiswill result in an error.\n",
      "  warnings.warn(\n",
      "/home/kylehsu/miniforge3/envs/modular/lib/python3.12/site-packages/sklearn/metrics/_classification.py:2981: UserWarning: The y_pred values do not sum to one. Starting from 1.5 thiswill result in an error.\n",
      "  warnings.warn(\n",
      "/home/kylehsu/miniforge3/envs/modular/lib/python3.12/site-packages/sklearn/metrics/_classification.py:2981: UserWarning: The y_pred values do not sum to one. Starting from 1.5 thiswill result in an error.\n",
      "  warnings.warn(\n",
      "/home/kylehsu/miniforge3/envs/modular/lib/python3.12/site-packages/sklearn/metrics/_classification.py:2981: UserWarning: The y_pred values do not sum to one. Starting from 1.5 thiswill result in an error.\n",
      "  warnings.warn(\n",
      "/home/kylehsu/miniforge3/envs/modular/lib/python3.12/site-packages/sklearn/metrics/_classification.py:2981: UserWarning: The y_pred values do not sum to one. Starting from 1.5 thiswill result in an error.\n",
      "  warnings.warn(\n",
      "/home/kylehsu/miniforge3/envs/modular/lib/python3.12/site-packages/sklearn/metrics/_classification.py:2981: UserWarning: The y_pred values do not sum to one. Starting from 1.5 thiswill result in an error.\n",
      "  warnings.warn(\n",
      "/home/kylehsu/miniforge3/envs/modular/lib/python3.12/site-packages/sklearn/metrics/_classification.py:2981: UserWarning: The y_pred values do not sum to one. Starting from 1.5 thiswill result in an error.\n",
      "  warnings.warn(\n",
      "/home/kylehsu/miniforge3/envs/modular/lib/python3.12/site-packages/sklearn/metrics/_classification.py:2981: UserWarning: The y_pred values do not sum to one. Starting from 1.5 thiswill result in an error.\n",
      "  warnings.warn(\n",
      "/home/kylehsu/miniforge3/envs/modular/lib/python3.12/site-packages/sklearn/metrics/_classification.py:2981: UserWarning: The y_pred values do not sum to one. Starting from 1.5 thiswill result in an error.\n",
      "  warnings.warn(\n",
      "/home/kylehsu/miniforge3/envs/modular/lib/python3.12/site-packages/sklearn/metrics/_classification.py:2981: UserWarning: The y_pred values do not sum to one. Starting from 1.5 thiswill result in an error.\n",
      "  warnings.warn(\n",
      "/home/kylehsu/miniforge3/envs/modular/lib/python3.12/site-packages/sklearn/metrics/_classification.py:2981: UserWarning: The y_pred values do not sum to one. Starting from 1.5 thiswill result in an error.\n",
      "  warnings.warn(\n",
      "/home/kylehsu/miniforge3/envs/modular/lib/python3.12/site-packages/sklearn/metrics/_classification.py:2981: UserWarning: The y_pred values do not sum to one. Starting from 1.5 thiswill result in an error.\n",
      "  warnings.warn(\n",
      "/home/kylehsu/miniforge3/envs/modular/lib/python3.12/site-packages/sklearn/metrics/_classification.py:2981: UserWarning: The y_pred values do not sum to one. Starting from 1.5 thiswill result in an error.\n",
      "  warnings.warn(\n",
      "/home/kylehsu/miniforge3/envs/modular/lib/python3.12/site-packages/sklearn/metrics/_classification.py:2981: UserWarning: The y_pred values do not sum to one. Starting from 1.5 thiswill result in an error.\n",
      "  warnings.warn(\n",
      "/home/kylehsu/miniforge3/envs/modular/lib/python3.12/site-packages/sklearn/metrics/_classification.py:2981: UserWarning: The y_pred values do not sum to one. Starting from 1.5 thiswill result in an error.\n",
      "  warnings.warn(\n",
      "/home/kylehsu/miniforge3/envs/modular/lib/python3.12/site-packages/sklearn/metrics/_classification.py:2981: UserWarning: The y_pred values do not sum to one. Starting from 1.5 thiswill result in an error.\n",
      "  warnings.warn(\n",
      "/home/kylehsu/miniforge3/envs/modular/lib/python3.12/site-packages/sklearn/metrics/_classification.py:2981: UserWarning: The y_pred values do not sum to one. Starting from 1.5 thiswill result in an error.\n",
      "  warnings.warn(\n",
      "/home/kylehsu/miniforge3/envs/modular/lib/python3.12/site-packages/sklearn/metrics/_classification.py:2981: UserWarning: The y_pred values do not sum to one. Starting from 1.5 thiswill result in an error.\n",
      "  warnings.warn(\n",
      "/home/kylehsu/miniforge3/envs/modular/lib/python3.12/site-packages/sklearn/metrics/_classification.py:2981: UserWarning: The y_pred values do not sum to one. Starting from 1.5 thiswill result in an error.\n",
      "  warnings.warn(\n",
      "/home/kylehsu/miniforge3/envs/modular/lib/python3.12/site-packages/sklearn/metrics/_classification.py:2981: UserWarning: The y_pred values do not sum to one. Starting from 1.5 thiswill result in an error.\n",
      "  warnings.warn(\n",
      "/home/kylehsu/miniforge3/envs/modular/lib/python3.12/site-packages/sklearn/metrics/_classification.py:2981: UserWarning: The y_pred values do not sum to one. Starting from 1.5 thiswill result in an error.\n",
      "  warnings.warn(\n",
      "/home/kylehsu/miniforge3/envs/modular/lib/python3.12/site-packages/sklearn/metrics/_classification.py:2981: UserWarning: The y_pred values do not sum to one. Starting from 1.5 thiswill result in an error.\n",
      "  warnings.warn(\n",
      "/home/kylehsu/miniforge3/envs/modular/lib/python3.12/site-packages/sklearn/metrics/_classification.py:2981: UserWarning: The y_pred values do not sum to one. Starting from 1.5 thiswill result in an error.\n",
      "  warnings.warn(\n",
      "/home/kylehsu/miniforge3/envs/modular/lib/python3.12/site-packages/sklearn/metrics/_classification.py:2981: UserWarning: The y_pred values do not sum to one. Starting from 1.5 thiswill result in an error.\n",
      "  warnings.warn(\n",
      "/home/kylehsu/miniforge3/envs/modular/lib/python3.12/site-packages/sklearn/metrics/_classification.py:2981: UserWarning: The y_pred values do not sum to one. Starting from 1.5 thiswill result in an error.\n",
      "  warnings.warn(\n",
      "/home/kylehsu/miniforge3/envs/modular/lib/python3.12/site-packages/sklearn/metrics/_classification.py:2981: UserWarning: The y_pred values do not sum to one. Starting from 1.5 thiswill result in an error.\n",
      "  warnings.warn(\n",
      "/home/kylehsu/miniforge3/envs/modular/lib/python3.12/site-packages/sklearn/metrics/_classification.py:2981: UserWarning: The y_pred values do not sum to one. Starting from 1.5 thiswill result in an error.\n",
      "  warnings.warn(\n",
      "/home/kylehsu/miniforge3/envs/modular/lib/python3.12/site-packages/sklearn/metrics/_classification.py:2981: UserWarning: The y_pred values do not sum to one. Starting from 1.5 thiswill result in an error.\n",
      "  warnings.warn(\n",
      "/home/kylehsu/miniforge3/envs/modular/lib/python3.12/site-packages/sklearn/metrics/_classification.py:2981: UserWarning: The y_pred values do not sum to one. Starting from 1.5 thiswill result in an error.\n",
      "  warnings.warn(\n",
      "/home/kylehsu/miniforge3/envs/modular/lib/python3.12/site-packages/sklearn/metrics/_classification.py:2981: UserWarning: The y_pred values do not sum to one. Starting from 1.5 thiswill result in an error.\n",
      "  warnings.warn(\n",
      "/home/kylehsu/miniforge3/envs/modular/lib/python3.12/site-packages/sklearn/metrics/_classification.py:2981: UserWarning: The y_pred values do not sum to one. Starting from 1.5 thiswill result in an error.\n",
      "  warnings.warn(\n",
      "/home/kylehsu/miniforge3/envs/modular/lib/python3.12/site-packages/sklearn/metrics/_classification.py:2981: UserWarning: The y_pred values do not sum to one. Starting from 1.5 thiswill result in an error.\n",
      "  warnings.warn(\n",
      "/home/kylehsu/miniforge3/envs/modular/lib/python3.12/site-packages/sklearn/metrics/_classification.py:2981: UserWarning: The y_pred values do not sum to one. Starting from 1.5 thiswill result in an error.\n",
      "  warnings.warn(\n",
      "/home/kylehsu/miniforge3/envs/modular/lib/python3.12/site-packages/sklearn/metrics/_classification.py:2981: UserWarning: The y_pred values do not sum to one. Starting from 1.5 thiswill result in an error.\n",
      "  warnings.warn(\n",
      "/home/kylehsu/miniforge3/envs/modular/lib/python3.12/site-packages/sklearn/metrics/_classification.py:2981: UserWarning: The y_pred values do not sum to one. Starting from 1.5 thiswill result in an error.\n",
      "  warnings.warn(\n",
      "/home/kylehsu/miniforge3/envs/modular/lib/python3.12/site-packages/sklearn/metrics/_classification.py:2981: UserWarning: The y_pred values do not sum to one. Starting from 1.5 thiswill result in an error.\n",
      "  warnings.warn(\n",
      "/home/kylehsu/miniforge3/envs/modular/lib/python3.12/site-packages/sklearn/metrics/_classification.py:2981: UserWarning: The y_pred values do not sum to one. Starting from 1.5 thiswill result in an error.\n",
      "  warnings.warn(\n",
      "/home/kylehsu/miniforge3/envs/modular/lib/python3.12/site-packages/sklearn/metrics/_classification.py:2981: UserWarning: The y_pred values do not sum to one. Starting from 1.5 thiswill result in an error.\n",
      "  warnings.warn(\n",
      "/home/kylehsu/miniforge3/envs/modular/lib/python3.12/site-packages/sklearn/metrics/_classification.py:2981: UserWarning: The y_pred values do not sum to one. Starting from 1.5 thiswill result in an error.\n",
      "  warnings.warn(\n",
      "/home/kylehsu/miniforge3/envs/modular/lib/python3.12/site-packages/sklearn/metrics/_classification.py:2981: UserWarning: The y_pred values do not sum to one. Starting from 1.5 thiswill result in an error.\n",
      "  warnings.warn(\n",
      "/home/kylehsu/miniforge3/envs/modular/lib/python3.12/site-packages/sklearn/metrics/_classification.py:2981: UserWarning: The y_pred values do not sum to one. Starting from 1.5 thiswill result in an error.\n",
      "  warnings.warn(\n",
      "/home/kylehsu/miniforge3/envs/modular/lib/python3.12/site-packages/sklearn/metrics/_classification.py:2981: UserWarning: The y_pred values do not sum to one. Starting from 1.5 thiswill result in an error.\n",
      "  warnings.warn(\n",
      "/home/kylehsu/miniforge3/envs/modular/lib/python3.12/site-packages/sklearn/metrics/_classification.py:2981: UserWarning: The y_pred values do not sum to one. Starting from 1.5 thiswill result in an error.\n",
      "  warnings.warn(\n",
      "/home/kylehsu/miniforge3/envs/modular/lib/python3.12/site-packages/sklearn/metrics/_classification.py:2981: UserWarning: The y_pred values do not sum to one. Starting from 1.5 thiswill result in an error.\n",
      "  warnings.warn(\n",
      "/home/kylehsu/miniforge3/envs/modular/lib/python3.12/site-packages/sklearn/metrics/_classification.py:2981: UserWarning: The y_pred values do not sum to one. Starting from 1.5 thiswill result in an error.\n",
      "  warnings.warn(\n",
      "/home/kylehsu/miniforge3/envs/modular/lib/python3.12/site-packages/sklearn/metrics/_classification.py:2981: UserWarning: The y_pred values do not sum to one. Starting from 1.5 thiswill result in an error.\n",
      "  warnings.warn(\n",
      "/home/kylehsu/miniforge3/envs/modular/lib/python3.12/site-packages/sklearn/metrics/_classification.py:2981: UserWarning: The y_pred values do not sum to one. Starting from 1.5 thiswill result in an error.\n",
      "  warnings.warn(\n",
      "/home/kylehsu/miniforge3/envs/modular/lib/python3.12/site-packages/sklearn/metrics/_classification.py:2981: UserWarning: The y_pred values do not sum to one. Starting from 1.5 thiswill result in an error.\n",
      "  warnings.warn(\n",
      "/home/kylehsu/miniforge3/envs/modular/lib/python3.12/site-packages/sklearn/metrics/_classification.py:2981: UserWarning: The y_pred values do not sum to one. Starting from 1.5 thiswill result in an error.\n",
      "  warnings.warn(\n",
      "/home/kylehsu/miniforge3/envs/modular/lib/python3.12/site-packages/sklearn/metrics/_classification.py:2981: UserWarning: The y_pred values do not sum to one. Starting from 1.5 thiswill result in an error.\n",
      "  warnings.warn(\n",
      "/home/kylehsu/miniforge3/envs/modular/lib/python3.12/site-packages/sklearn/metrics/_classification.py:2981: UserWarning: The y_pred values do not sum to one. Starting from 1.5 thiswill result in an error.\n",
      "  warnings.warn(\n",
      "/home/kylehsu/miniforge3/envs/modular/lib/python3.12/site-packages/sklearn/metrics/_classification.py:2981: UserWarning: The y_pred values do not sum to one. Starting from 1.5 thiswill result in an error.\n",
      "  warnings.warn(\n",
      "/home/kylehsu/miniforge3/envs/modular/lib/python3.12/site-packages/sklearn/metrics/_classification.py:2981: UserWarning: The y_pred values do not sum to one. Starting from 1.5 thiswill result in an error.\n",
      "  warnings.warn(\n",
      "/home/kylehsu/miniforge3/envs/modular/lib/python3.12/site-packages/sklearn/metrics/_classification.py:2981: UserWarning: The y_pred values do not sum to one. Starting from 1.5 thiswill result in an error.\n",
      "  warnings.warn(\n",
      "/home/kylehsu/miniforge3/envs/modular/lib/python3.12/site-packages/sklearn/metrics/_classification.py:2981: UserWarning: The y_pred values do not sum to one. Starting from 1.5 thiswill result in an error.\n",
      "  warnings.warn(\n",
      "/home/kylehsu/miniforge3/envs/modular/lib/python3.12/site-packages/sklearn/metrics/_classification.py:2981: UserWarning: The y_pred values do not sum to one. Starting from 1.5 thiswill result in an error.\n",
      "  warnings.warn(\n",
      "/home/kylehsu/miniforge3/envs/modular/lib/python3.12/site-packages/sklearn/metrics/_classification.py:2981: UserWarning: The y_pred values do not sum to one. Starting from 1.5 thiswill result in an error.\n",
      "  warnings.warn(\n",
      "/home/kylehsu/miniforge3/envs/modular/lib/python3.12/site-packages/sklearn/metrics/_classification.py:2981: UserWarning: The y_pred values do not sum to one. Starting from 1.5 thiswill result in an error.\n",
      "  warnings.warn(\n",
      "/home/kylehsu/miniforge3/envs/modular/lib/python3.12/site-packages/sklearn/metrics/_classification.py:2981: UserWarning: The y_pred values do not sum to one. Starting from 1.5 thiswill result in an error.\n",
      "  warnings.warn(\n",
      "/home/kylehsu/miniforge3/envs/modular/lib/python3.12/site-packages/sklearn/metrics/_classification.py:2981: UserWarning: The y_pred values do not sum to one. Starting from 1.5 thiswill result in an error.\n",
      "  warnings.warn(\n",
      "/home/kylehsu/miniforge3/envs/modular/lib/python3.12/site-packages/sklearn/metrics/_classification.py:2981: UserWarning: The y_pred values do not sum to one. Starting from 1.5 thiswill result in an error.\n",
      "  warnings.warn(\n",
      "/home/kylehsu/miniforge3/envs/modular/lib/python3.12/site-packages/sklearn/metrics/_classification.py:2981: UserWarning: The y_pred values do not sum to one. Starting from 1.5 thiswill result in an error.\n",
      "  warnings.warn(\n",
      "/home/kylehsu/miniforge3/envs/modular/lib/python3.12/site-packages/sklearn/metrics/_classification.py:2981: UserWarning: The y_pred values do not sum to one. Starting from 1.5 thiswill result in an error.\n",
      "  warnings.warn(\n",
      "/home/kylehsu/miniforge3/envs/modular/lib/python3.12/site-packages/sklearn/metrics/_classification.py:2981: UserWarning: The y_pred values do not sum to one. Starting from 1.5 thiswill result in an error.\n",
      "  warnings.warn(\n",
      "/home/kylehsu/miniforge3/envs/modular/lib/python3.12/site-packages/sklearn/metrics/_classification.py:2981: UserWarning: The y_pred values do not sum to one. Starting from 1.5 thiswill result in an error.\n",
      "  warnings.warn(\n",
      "/home/kylehsu/miniforge3/envs/modular/lib/python3.12/site-packages/sklearn/metrics/_classification.py:2981: UserWarning: The y_pred values do not sum to one. Starting from 1.5 thiswill result in an error.\n",
      "  warnings.warn(\n",
      "/home/kylehsu/miniforge3/envs/modular/lib/python3.12/site-packages/sklearn/metrics/_classification.py:2981: UserWarning: The y_pred values do not sum to one. Starting from 1.5 thiswill result in an error.\n",
      "  warnings.warn(\n",
      "/home/kylehsu/miniforge3/envs/modular/lib/python3.12/site-packages/sklearn/metrics/_classification.py:2981: UserWarning: The y_pred values do not sum to one. Starting from 1.5 thiswill result in an error.\n",
      "  warnings.warn(\n",
      "/home/kylehsu/miniforge3/envs/modular/lib/python3.12/site-packages/sklearn/metrics/_classification.py:2981: UserWarning: The y_pred values do not sum to one. Starting from 1.5 thiswill result in an error.\n",
      "  warnings.warn(\n",
      "/home/kylehsu/miniforge3/envs/modular/lib/python3.12/site-packages/sklearn/metrics/_classification.py:2981: UserWarning: The y_pred values do not sum to one. Starting from 1.5 thiswill result in an error.\n",
      "  warnings.warn(\n",
      "/home/kylehsu/miniforge3/envs/modular/lib/python3.12/site-packages/sklearn/metrics/_classification.py:2981: UserWarning: The y_pred values do not sum to one. Starting from 1.5 thiswill result in an error.\n",
      "  warnings.warn(\n",
      "/home/kylehsu/miniforge3/envs/modular/lib/python3.12/site-packages/sklearn/metrics/_classification.py:2981: UserWarning: The y_pred values do not sum to one. Starting from 1.5 thiswill result in an error.\n",
      "  warnings.warn(\n",
      "/home/kylehsu/miniforge3/envs/modular/lib/python3.12/site-packages/sklearn/metrics/_classification.py:2981: UserWarning: The y_pred values do not sum to one. Starting from 1.5 thiswill result in an error.\n",
      "  warnings.warn(\n",
      "/home/kylehsu/miniforge3/envs/modular/lib/python3.12/site-packages/sklearn/metrics/_classification.py:2981: UserWarning: The y_pred values do not sum to one. Starting from 1.5 thiswill result in an error.\n",
      "  warnings.warn(\n",
      "/home/kylehsu/miniforge3/envs/modular/lib/python3.12/site-packages/sklearn/metrics/_classification.py:2981: UserWarning: The y_pred values do not sum to one. Starting from 1.5 thiswill result in an error.\n",
      "  warnings.warn(\n",
      "/home/kylehsu/miniforge3/envs/modular/lib/python3.12/site-packages/sklearn/metrics/_classification.py:2981: UserWarning: The y_pred values do not sum to one. Starting from 1.5 thiswill result in an error.\n",
      "  warnings.warn(\n",
      "/home/kylehsu/miniforge3/envs/modular/lib/python3.12/site-packages/sklearn/metrics/_classification.py:2981: UserWarning: The y_pred values do not sum to one. Starting from 1.5 thiswill result in an error.\n",
      "  warnings.warn(\n",
      "/home/kylehsu/miniforge3/envs/modular/lib/python3.12/site-packages/sklearn/metrics/_classification.py:2981: UserWarning: The y_pred values do not sum to one. Starting from 1.5 thiswill result in an error.\n",
      "  warnings.warn(\n",
      "/home/kylehsu/miniforge3/envs/modular/lib/python3.12/site-packages/sklearn/metrics/_classification.py:2981: UserWarning: The y_pred values do not sum to one. Starting from 1.5 thiswill result in an error.\n",
      "  warnings.warn(\n",
      "/home/kylehsu/miniforge3/envs/modular/lib/python3.12/site-packages/sklearn/metrics/_classification.py:2981: UserWarning: The y_pred values do not sum to one. Starting from 1.5 thiswill result in an error.\n",
      "  warnings.warn(\n",
      "/home/kylehsu/miniforge3/envs/modular/lib/python3.12/site-packages/sklearn/metrics/_classification.py:2981: UserWarning: The y_pred values do not sum to one. Starting from 1.5 thiswill result in an error.\n",
      "  warnings.warn(\n",
      "/home/kylehsu/miniforge3/envs/modular/lib/python3.12/site-packages/sklearn/metrics/_classification.py:2981: UserWarning: The y_pred values do not sum to one. Starting from 1.5 thiswill result in an error.\n",
      "  warnings.warn(\n",
      "/home/kylehsu/miniforge3/envs/modular/lib/python3.12/site-packages/sklearn/metrics/_classification.py:2981: UserWarning: The y_pred values do not sum to one. Starting from 1.5 thiswill result in an error.\n",
      "  warnings.warn(\n",
      "/home/kylehsu/miniforge3/envs/modular/lib/python3.12/site-packages/sklearn/metrics/_classification.py:2981: UserWarning: The y_pred values do not sum to one. Starting from 1.5 thiswill result in an error.\n",
      "  warnings.warn(\n",
      "/home/kylehsu/miniforge3/envs/modular/lib/python3.12/site-packages/sklearn/metrics/_classification.py:2981: UserWarning: The y_pred values do not sum to one. Starting from 1.5 thiswill result in an error.\n",
      "  warnings.warn(\n",
      "/home/kylehsu/miniforge3/envs/modular/lib/python3.12/site-packages/sklearn/metrics/_classification.py:2981: UserWarning: The y_pred values do not sum to one. Starting from 1.5 thiswill result in an error.\n",
      "  warnings.warn(\n",
      "/home/kylehsu/miniforge3/envs/modular/lib/python3.12/site-packages/sklearn/metrics/_classification.py:2981: UserWarning: The y_pred values do not sum to one. Starting from 1.5 thiswill result in an error.\n",
      "  warnings.warn(\n",
      "/home/kylehsu/miniforge3/envs/modular/lib/python3.12/site-packages/sklearn/metrics/_classification.py:2981: UserWarning: The y_pred values do not sum to one. Starting from 1.5 thiswill result in an error.\n",
      "  warnings.warn(\n",
      "/home/kylehsu/miniforge3/envs/modular/lib/python3.12/site-packages/sklearn/metrics/_classification.py:2981: UserWarning: The y_pred values do not sum to one. Starting from 1.5 thiswill result in an error.\n",
      "  warnings.warn(\n",
      "/home/kylehsu/miniforge3/envs/modular/lib/python3.12/site-packages/sklearn/metrics/_classification.py:2981: UserWarning: The y_pred values do not sum to one. Starting from 1.5 thiswill result in an error.\n",
      "  warnings.warn(\n",
      "/home/kylehsu/miniforge3/envs/modular/lib/python3.12/site-packages/sklearn/metrics/_classification.py:2981: UserWarning: The y_pred values do not sum to one. Starting from 1.5 thiswill result in an error.\n",
      "  warnings.warn(\n",
      "/home/kylehsu/miniforge3/envs/modular/lib/python3.12/site-packages/sklearn/metrics/_classification.py:2981: UserWarning: The y_pred values do not sum to one. Starting from 1.5 thiswill result in an error.\n",
      "  warnings.warn(\n",
      "/home/kylehsu/miniforge3/envs/modular/lib/python3.12/site-packages/sklearn/metrics/_classification.py:2981: UserWarning: The y_pred values do not sum to one. Starting from 1.5 thiswill result in an error.\n",
      "  warnings.warn(\n",
      "/home/kylehsu/miniforge3/envs/modular/lib/python3.12/site-packages/sklearn/metrics/_classification.py:2981: UserWarning: The y_pred values do not sum to one. Starting from 1.5 thiswill result in an error.\n",
      "  warnings.warn(\n",
      "/home/kylehsu/miniforge3/envs/modular/lib/python3.12/site-packages/sklearn/metrics/_classification.py:2981: UserWarning: The y_pred values do not sum to one. Starting from 1.5 thiswill result in an error.\n",
      "  warnings.warn(\n",
      "/home/kylehsu/miniforge3/envs/modular/lib/python3.12/site-packages/sklearn/metrics/_classification.py:2981: UserWarning: The y_pred values do not sum to one. Starting from 1.5 thiswill result in an error.\n",
      "  warnings.warn(\n",
      "/home/kylehsu/miniforge3/envs/modular/lib/python3.12/site-packages/sklearn/metrics/_classification.py:2981: UserWarning: The y_pred values do not sum to one. Starting from 1.5 thiswill result in an error.\n",
      "  warnings.warn(\n",
      "/home/kylehsu/miniforge3/envs/modular/lib/python3.12/site-packages/sklearn/metrics/_classification.py:2981: UserWarning: The y_pred values do not sum to one. Starting from 1.5 thiswill result in an error.\n",
      "  warnings.warn(\n",
      "/home/kylehsu/miniforge3/envs/modular/lib/python3.12/site-packages/sklearn/metrics/_classification.py:2981: UserWarning: The y_pred values do not sum to one. Starting from 1.5 thiswill result in an error.\n",
      "  warnings.warn(\n",
      "/home/kylehsu/miniforge3/envs/modular/lib/python3.12/site-packages/sklearn/metrics/_classification.py:2981: UserWarning: The y_pred values do not sum to one. Starting from 1.5 thiswill result in an error.\n",
      "  warnings.warn(\n",
      "/home/kylehsu/miniforge3/envs/modular/lib/python3.12/site-packages/sklearn/metrics/_classification.py:2981: UserWarning: The y_pred values do not sum to one. Starting from 1.5 thiswill result in an error.\n",
      "  warnings.warn(\n",
      "/home/kylehsu/miniforge3/envs/modular/lib/python3.12/site-packages/sklearn/metrics/_classification.py:2981: UserWarning: The y_pred values do not sum to one. Starting from 1.5 thiswill result in an error.\n",
      "  warnings.warn(\n",
      "/home/kylehsu/miniforge3/envs/modular/lib/python3.12/site-packages/sklearn/metrics/_classification.py:2981: UserWarning: The y_pred values do not sum to one. Starting from 1.5 thiswill result in an error.\n",
      "  warnings.warn(\n",
      "/home/kylehsu/miniforge3/envs/modular/lib/python3.12/site-packages/sklearn/metrics/_classification.py:2981: UserWarning: The y_pred values do not sum to one. Starting from 1.5 thiswill result in an error.\n",
      "  warnings.warn(\n",
      "/home/kylehsu/miniforge3/envs/modular/lib/python3.12/site-packages/sklearn/metrics/_classification.py:2981: UserWarning: The y_pred values do not sum to one. Starting from 1.5 thiswill result in an error.\n",
      "  warnings.warn(\n",
      "/home/kylehsu/miniforge3/envs/modular/lib/python3.12/site-packages/sklearn/metrics/_classification.py:2981: UserWarning: The y_pred values do not sum to one. Starting from 1.5 thiswill result in an error.\n",
      "  warnings.warn(\n",
      "/home/kylehsu/miniforge3/envs/modular/lib/python3.12/site-packages/sklearn/metrics/_classification.py:2981: UserWarning: The y_pred values do not sum to one. Starting from 1.5 thiswill result in an error.\n",
      "  warnings.warn(\n",
      "/home/kylehsu/miniforge3/envs/modular/lib/python3.12/site-packages/sklearn/metrics/_classification.py:2981: UserWarning: The y_pred values do not sum to one. Starting from 1.5 thiswill result in an error.\n",
      "  warnings.warn(\n",
      "/home/kylehsu/miniforge3/envs/modular/lib/python3.12/site-packages/sklearn/metrics/_classification.py:2981: UserWarning: The y_pred values do not sum to one. Starting from 1.5 thiswill result in an error.\n",
      "  warnings.warn(\n",
      "/home/kylehsu/miniforge3/envs/modular/lib/python3.12/site-packages/sklearn/metrics/_classification.py:2981: UserWarning: The y_pred values do not sum to one. Starting from 1.5 thiswill result in an error.\n",
      "  warnings.warn(\n",
      "/home/kylehsu/miniforge3/envs/modular/lib/python3.12/site-packages/sklearn/metrics/_classification.py:2981: UserWarning: The y_pred values do not sum to one. Starting from 1.5 thiswill result in an error.\n",
      "  warnings.warn(\n",
      "/home/kylehsu/miniforge3/envs/modular/lib/python3.12/site-packages/sklearn/metrics/_classification.py:2981: UserWarning: The y_pred values do not sum to one. Starting from 1.5 thiswill result in an error.\n",
      "  warnings.warn(\n",
      "/home/kylehsu/miniforge3/envs/modular/lib/python3.12/site-packages/sklearn/metrics/_classification.py:2981: UserWarning: The y_pred values do not sum to one. Starting from 1.5 thiswill result in an error.\n",
      "  warnings.warn(\n",
      "/home/kylehsu/miniforge3/envs/modular/lib/python3.12/site-packages/sklearn/metrics/_classification.py:2981: UserWarning: The y_pred values do not sum to one. Starting from 1.5 thiswill result in an error.\n",
      "  warnings.warn(\n",
      "/home/kylehsu/miniforge3/envs/modular/lib/python3.12/site-packages/sklearn/metrics/_classification.py:2981: UserWarning: The y_pred values do not sum to one. Starting from 1.5 thiswill result in an error.\n",
      "  warnings.warn(\n",
      "/home/kylehsu/miniforge3/envs/modular/lib/python3.12/site-packages/sklearn/metrics/_classification.py:2981: UserWarning: The y_pred values do not sum to one. Starting from 1.5 thiswill result in an error.\n",
      "  warnings.warn(\n",
      "/home/kylehsu/miniforge3/envs/modular/lib/python3.12/site-packages/sklearn/metrics/_classification.py:2981: UserWarning: The y_pred values do not sum to one. Starting from 1.5 thiswill result in an error.\n",
      "  warnings.warn(\n",
      "/home/kylehsu/miniforge3/envs/modular/lib/python3.12/site-packages/sklearn/metrics/_classification.py:2981: UserWarning: The y_pred values do not sum to one. Starting from 1.5 thiswill result in an error.\n",
      "  warnings.warn(\n",
      "/home/kylehsu/miniforge3/envs/modular/lib/python3.12/site-packages/sklearn/metrics/_classification.py:2981: UserWarning: The y_pred values do not sum to one. Starting from 1.5 thiswill result in an error.\n",
      "  warnings.warn(\n",
      "/home/kylehsu/miniforge3/envs/modular/lib/python3.12/site-packages/sklearn/metrics/_classification.py:2981: UserWarning: The y_pred values do not sum to one. Starting from 1.5 thiswill result in an error.\n",
      "  warnings.warn(\n",
      "/home/kylehsu/miniforge3/envs/modular/lib/python3.12/site-packages/sklearn/metrics/_classification.py:2981: UserWarning: The y_pred values do not sum to one. Starting from 1.5 thiswill result in an error.\n",
      "  warnings.warn(\n",
      "/home/kylehsu/miniforge3/envs/modular/lib/python3.12/site-packages/sklearn/metrics/_classification.py:2981: UserWarning: The y_pred values do not sum to one. Starting from 1.5 thiswill result in an error.\n",
      "  warnings.warn(\n",
      "/home/kylehsu/miniforge3/envs/modular/lib/python3.12/site-packages/sklearn/metrics/_classification.py:2981: UserWarning: The y_pred values do not sum to one. Starting from 1.5 thiswill result in an error.\n",
      "  warnings.warn(\n",
      "/home/kylehsu/miniforge3/envs/modular/lib/python3.12/site-packages/sklearn/metrics/_classification.py:2981: UserWarning: The y_pred values do not sum to one. Starting from 1.5 thiswill result in an error.\n",
      "  warnings.warn(\n",
      "/home/kylehsu/miniforge3/envs/modular/lib/python3.12/site-packages/sklearn/metrics/_classification.py:2981: UserWarning: The y_pred values do not sum to one. Starting from 1.5 thiswill result in an error.\n",
      "  warnings.warn(\n",
      "/home/kylehsu/miniforge3/envs/modular/lib/python3.12/site-packages/sklearn/metrics/_classification.py:2981: UserWarning: The y_pred values do not sum to one. Starting from 1.5 thiswill result in an error.\n",
      "  warnings.warn(\n",
      "/home/kylehsu/miniforge3/envs/modular/lib/python3.12/site-packages/sklearn/metrics/_classification.py:2981: UserWarning: The y_pred values do not sum to one. Starting from 1.5 thiswill result in an error.\n",
      "  warnings.warn(\n",
      "/home/kylehsu/miniforge3/envs/modular/lib/python3.12/site-packages/sklearn/metrics/_classification.py:2981: UserWarning: The y_pred values do not sum to one. Starting from 1.5 thiswill result in an error.\n",
      "  warnings.warn(\n",
      "/home/kylehsu/miniforge3/envs/modular/lib/python3.12/site-packages/sklearn/metrics/_classification.py:2981: UserWarning: The y_pred values do not sum to one. Starting from 1.5 thiswill result in an error.\n",
      "  warnings.warn(\n",
      "/home/kylehsu/miniforge3/envs/modular/lib/python3.12/site-packages/sklearn/metrics/_classification.py:2981: UserWarning: The y_pred values do not sum to one. Starting from 1.5 thiswill result in an error.\n",
      "  warnings.warn(\n",
      "/home/kylehsu/miniforge3/envs/modular/lib/python3.12/site-packages/sklearn/metrics/_classification.py:2981: UserWarning: The y_pred values do not sum to one. Starting from 1.5 thiswill result in an error.\n",
      "  warnings.warn(\n",
      "/home/kylehsu/miniforge3/envs/modular/lib/python3.12/site-packages/sklearn/metrics/_classification.py:2981: UserWarning: The y_pred values do not sum to one. Starting from 1.5 thiswill result in an error.\n",
      "  warnings.warn(\n",
      "/home/kylehsu/miniforge3/envs/modular/lib/python3.12/site-packages/sklearn/metrics/_classification.py:2981: UserWarning: The y_pred values do not sum to one. Starting from 1.5 thiswill result in an error.\n",
      "  warnings.warn(\n",
      "/home/kylehsu/miniforge3/envs/modular/lib/python3.12/site-packages/sklearn/metrics/_classification.py:2981: UserWarning: The y_pred values do not sum to one. Starting from 1.5 thiswill result in an error.\n",
      "  warnings.warn(\n",
      "/home/kylehsu/miniforge3/envs/modular/lib/python3.12/site-packages/sklearn/metrics/_classification.py:2981: UserWarning: The y_pred values do not sum to one. Starting from 1.5 thiswill result in an error.\n",
      "  warnings.warn(\n",
      "/home/kylehsu/miniforge3/envs/modular/lib/python3.12/site-packages/sklearn/metrics/_classification.py:2981: UserWarning: The y_pred values do not sum to one. Starting from 1.5 thiswill result in an error.\n",
      "  warnings.warn(\n",
      "/home/kylehsu/miniforge3/envs/modular/lib/python3.12/site-packages/sklearn/metrics/_classification.py:2981: UserWarning: The y_pred values do not sum to one. Starting from 1.5 thiswill result in an error.\n",
      "  warnings.warn(\n",
      "/home/kylehsu/miniforge3/envs/modular/lib/python3.12/site-packages/sklearn/metrics/_classification.py:2981: UserWarning: The y_pred values do not sum to one. Starting from 1.5 thiswill result in an error.\n",
      "  warnings.warn(\n",
      "/home/kylehsu/miniforge3/envs/modular/lib/python3.12/site-packages/sklearn/metrics/_classification.py:2981: UserWarning: The y_pred values do not sum to one. Starting from 1.5 thiswill result in an error.\n",
      "  warnings.warn(\n",
      "/home/kylehsu/miniforge3/envs/modular/lib/python3.12/site-packages/sklearn/metrics/_classification.py:2981: UserWarning: The y_pred values do not sum to one. Starting from 1.5 thiswill result in an error.\n",
      "  warnings.warn(\n",
      "/home/kylehsu/miniforge3/envs/modular/lib/python3.12/site-packages/sklearn/metrics/_classification.py:2981: UserWarning: The y_pred values do not sum to one. Starting from 1.5 thiswill result in an error.\n",
      "  warnings.warn(\n",
      "/home/kylehsu/miniforge3/envs/modular/lib/python3.12/site-packages/sklearn/metrics/_classification.py:2981: UserWarning: The y_pred values do not sum to one. Starting from 1.5 thiswill result in an error.\n",
      "  warnings.warn(\n",
      "/home/kylehsu/miniforge3/envs/modular/lib/python3.12/site-packages/sklearn/metrics/_classification.py:2981: UserWarning: The y_pred values do not sum to one. Starting from 1.5 thiswill result in an error.\n",
      "  warnings.warn(\n",
      "/home/kylehsu/miniforge3/envs/modular/lib/python3.12/site-packages/sklearn/metrics/_classification.py:2981: UserWarning: The y_pred values do not sum to one. Starting from 1.5 thiswill result in an error.\n",
      "  warnings.warn(\n",
      "/home/kylehsu/miniforge3/envs/modular/lib/python3.12/site-packages/sklearn/metrics/_classification.py:2981: UserWarning: The y_pred values do not sum to one. Starting from 1.5 thiswill result in an error.\n",
      "  warnings.warn(\n",
      "/home/kylehsu/miniforge3/envs/modular/lib/python3.12/site-packages/sklearn/metrics/_classification.py:2981: UserWarning: The y_pred values do not sum to one. Starting from 1.5 thiswill result in an error.\n",
      "  warnings.warn(\n",
      "/home/kylehsu/miniforge3/envs/modular/lib/python3.12/site-packages/sklearn/metrics/_classification.py:2981: UserWarning: The y_pred values do not sum to one. Starting from 1.5 thiswill result in an error.\n",
      "  warnings.warn(\n",
      "/home/kylehsu/miniforge3/envs/modular/lib/python3.12/site-packages/sklearn/metrics/_classification.py:2981: UserWarning: The y_pred values do not sum to one. Starting from 1.5 thiswill result in an error.\n",
      "  warnings.warn(\n",
      "/home/kylehsu/miniforge3/envs/modular/lib/python3.12/site-packages/sklearn/metrics/_classification.py:2981: UserWarning: The y_pred values do not sum to one. Starting from 1.5 thiswill result in an error.\n",
      "  warnings.warn(\n",
      "/home/kylehsu/miniforge3/envs/modular/lib/python3.12/site-packages/sklearn/metrics/_classification.py:2981: UserWarning: The y_pred values do not sum to one. Starting from 1.5 thiswill result in an error.\n",
      "  warnings.warn(\n",
      "/home/kylehsu/miniforge3/envs/modular/lib/python3.12/site-packages/sklearn/metrics/_classification.py:2981: UserWarning: The y_pred values do not sum to one. Starting from 1.5 thiswill result in an error.\n",
      "  warnings.warn(\n",
      "/home/kylehsu/miniforge3/envs/modular/lib/python3.12/site-packages/sklearn/metrics/_classification.py:2981: UserWarning: The y_pred values do not sum to one. Starting from 1.5 thiswill result in an error.\n",
      "  warnings.warn(\n",
      "/home/kylehsu/miniforge3/envs/modular/lib/python3.12/site-packages/sklearn/metrics/_classification.py:2981: UserWarning: The y_pred values do not sum to one. Starting from 1.5 thiswill result in an error.\n",
      "  warnings.warn(\n",
      "/home/kylehsu/miniforge3/envs/modular/lib/python3.12/site-packages/sklearn/metrics/_classification.py:2981: UserWarning: The y_pred values do not sum to one. Starting from 1.5 thiswill result in an error.\n",
      "  warnings.warn(\n",
      "/home/kylehsu/miniforge3/envs/modular/lib/python3.12/site-packages/sklearn/metrics/_classification.py:2981: UserWarning: The y_pred values do not sum to one. Starting from 1.5 thiswill result in an error.\n",
      "  warnings.warn(\n",
      "/home/kylehsu/miniforge3/envs/modular/lib/python3.12/site-packages/sklearn/metrics/_classification.py:2981: UserWarning: The y_pred values do not sum to one. Starting from 1.5 thiswill result in an error.\n",
      "  warnings.warn(\n",
      "/home/kylehsu/miniforge3/envs/modular/lib/python3.12/site-packages/sklearn/metrics/_classification.py:2981: UserWarning: The y_pred values do not sum to one. Starting from 1.5 thiswill result in an error.\n",
      "  warnings.warn(\n",
      "/home/kylehsu/miniforge3/envs/modular/lib/python3.12/site-packages/sklearn/metrics/_classification.py:2981: UserWarning: The y_pred values do not sum to one. Starting from 1.5 thiswill result in an error.\n",
      "  warnings.warn(\n",
      "/home/kylehsu/miniforge3/envs/modular/lib/python3.12/site-packages/sklearn/metrics/_classification.py:2981: UserWarning: The y_pred values do not sum to one. Starting from 1.5 thiswill result in an error.\n",
      "  warnings.warn(\n",
      "/home/kylehsu/miniforge3/envs/modular/lib/python3.12/site-packages/sklearn/metrics/_classification.py:2981: UserWarning: The y_pred values do not sum to one. Starting from 1.5 thiswill result in an error.\n",
      "  warnings.warn(\n",
      "/home/kylehsu/miniforge3/envs/modular/lib/python3.12/site-packages/sklearn/metrics/_classification.py:2981: UserWarning: The y_pred values do not sum to one. Starting from 1.5 thiswill result in an error.\n",
      "  warnings.warn(\n",
      "/home/kylehsu/miniforge3/envs/modular/lib/python3.12/site-packages/sklearn/metrics/_classification.py:2981: UserWarning: The y_pred values do not sum to one. Starting from 1.5 thiswill result in an error.\n",
      "  warnings.warn(\n",
      "/home/kylehsu/miniforge3/envs/modular/lib/python3.12/site-packages/sklearn/metrics/_classification.py:2981: UserWarning: The y_pred values do not sum to one. Starting from 1.5 thiswill result in an error.\n",
      "  warnings.warn(\n",
      "/home/kylehsu/miniforge3/envs/modular/lib/python3.12/site-packages/sklearn/metrics/_classification.py:2981: UserWarning: The y_pred values do not sum to one. Starting from 1.5 thiswill result in an error.\n",
      "  warnings.warn(\n",
      "/home/kylehsu/miniforge3/envs/modular/lib/python3.12/site-packages/sklearn/metrics/_classification.py:2981: UserWarning: The y_pred values do not sum to one. Starting from 1.5 thiswill result in an error.\n",
      "  warnings.warn(\n",
      "/home/kylehsu/miniforge3/envs/modular/lib/python3.12/site-packages/sklearn/metrics/_classification.py:2981: UserWarning: The y_pred values do not sum to one. Starting from 1.5 thiswill result in an error.\n",
      "  warnings.warn(\n",
      "/home/kylehsu/miniforge3/envs/modular/lib/python3.12/site-packages/sklearn/metrics/_classification.py:2981: UserWarning: The y_pred values do not sum to one. Starting from 1.5 thiswill result in an error.\n",
      "  warnings.warn(\n",
      "/home/kylehsu/miniforge3/envs/modular/lib/python3.12/site-packages/sklearn/metrics/_classification.py:2981: UserWarning: The y_pred values do not sum to one. Starting from 1.5 thiswill result in an error.\n",
      "  warnings.warn(\n",
      "/home/kylehsu/miniforge3/envs/modular/lib/python3.12/site-packages/sklearn/metrics/_classification.py:2981: UserWarning: The y_pred values do not sum to one. Starting from 1.5 thiswill result in an error.\n",
      "  warnings.warn(\n"
     ]
    }
   ],
   "source": [
    "s_categorical = np.load('kyle_source_mat.npy', allow_pickle=True).T\n",
    "z = np.load('kyle_rep_mat.npy', allow_pickle=True).T\n",
    "classes_per_source = 9\n",
    "ds = 3\n",
    "s = []\n",
    "for i in range(ds):\n",
    "    s.append(np.argmax(s_categorical[:, i * classes_per_source:(i + 1) * classes_per_source], axis=1))\n",
    "s = np.stack(s, axis=1)\n",
    "linear_metrics = compute_linear_metrics(s, z, 'discrete', 'continuous')\n",
    "    \n",
    "    "
   ],
   "metadata": {
    "collapsed": false,
    "ExecuteTime": {
     "end_time": "2024-05-21T23:52:02.539619Z",
     "start_time": "2024-05-21T23:50:32.911169Z"
    }
   },
   "id": "550d6b00139fa357"
  },
  {
   "cell_type": "code",
   "execution_count": 45,
   "outputs": [],
   "source": [
    "def plot_mi_heatmap(results, k):\n",
    "    mi = results[k]\n",
    "    mi = mi[:, results['z_active']]\n",
    "    fig, ax = plt.subplots(figsize=(0.5 * (mi.shape[1] + 1), 0.5 * (mi.shape[0] + 1)))\n",
    "    sns.heatmap(\n",
    "        mi, ax=ax, annot=True, fmt='.2f', square=True, vmin=0, vmax=1, cbar=False,\n",
    "        annot_kws={'fontsize': 8},\n",
    "        xticklabels=[rf'$\\mathbf{{z}}_{{{i}}}$' for i in results['z_active'].nonzero()[0]],\n",
    "        yticklabels=[rf'$\\mathbf{{s}}_{{{i}}}$' for i in range(mi.shape[0])],\n",
    "        rasterized=True\n",
    "    )\n",
    "    ax.set_title(k)"
   ],
   "metadata": {
    "collapsed": false,
    "ExecuteTime": {
     "end_time": "2024-05-22T00:01:55.514879Z",
     "start_time": "2024-05-22T00:01:55.503140Z"
    }
   },
   "id": "45644f10e0fb4ba5"
  },
  {
   "cell_type": "code",
   "execution_count": 40,
   "outputs": [
    {
     "data": {
      "text/plain": "Canvas(toolbar=Toolbar(toolitems=[('Home', 'Reset original view', 'home', 'home'), ('Back', 'Back to previous …",
      "image/png": "[encoded data removed]",
      "text/html": "\n            <div style=\"display: inline-block;\">\n                <div class=\"jupyter-widgets widget-label\" style=\"text-align: center;\">\n                    Figure\n                </div>\n                <img src='data:image/png;base64,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' width=1000.0/>\n            </div>\n        ",
      "application/vnd.jupyter.widget-view+json": {
       "version_major": 2,
       "version_minor": 0,
       "model_id": "2f5bb1adf0e74a009f852d389f1065ef"
      }
     },
     "metadata": {},
     "output_type": "display_data"
    }
   ],
   "source": [
    "plot_mi_heatmap(linear_metrics, 'linear_nmi')"
   ],
   "metadata": {
    "collapsed": false,
    "ExecuteTime": {
     "end_time": "2024-05-22T00:00:42.179939Z",
     "start_time": "2024-05-22T00:00:41.878277Z"
    }
   },
   "id": "dab6c89c2ccb5f61"
  },
  {
   "cell_type": "code",
   "execution_count": 41,
   "outputs": [
    {
     "data": {
      "text/plain": "Canvas(toolbar=Toolbar(toolitems=[('Home', 'Reset original view', 'home', 'home'), ('Back', 'Back to previous …",
      "image/png": "[encoded data removed]",
      "text/html": "\n            <div style=\"display: inline-block;\">\n                <div class=\"jupyter-widgets widget-label\" style=\"text-align: center;\">\n                    Figure\n                </div>\n                <img src='data:image/png;base64,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' width=1000.0/>\n            </div>\n        ",
      "application/vnd.jupyter.widget-view+json": {
       "version_major": 2,
       "version_minor": 0,
       "model_id": "7c480aad71a047bc8c954dca6e1d87e1"
      }
     },
     "metadata": {},
     "output_type": "display_data"
    }
   ],
   "source": [
    "plot_mi_heatmap(linear_metrics, 'linear_ncmi')\n"
   ],
   "metadata": {
    "collapsed": false,
    "ExecuteTime": {
     "end_time": "2024-05-22T00:00:46.481140Z",
     "start_time": "2024-05-22T00:00:46.178382Z"
    }
   },
   "id": "3c4ee514d4e39b60"
  },
  {
   "cell_type": "code",
   "execution_count": 38,
   "outputs": [
    {
     "name": "stderr",
     "output_type": "stream",
     "text": [
      "/home/kylehsu/miniforge3/envs/modular/lib/python3.12/site-packages/sklearn/metrics/_classification.py:2981: UserWarning: The y_pred values do not sum to one. Starting from 1.5 thiswill result in an error.\n",
      "  warnings.warn(\n",
      "/home/kylehsu/miniforge3/envs/modular/lib/python3.12/site-packages/sklearn/metrics/_classification.py:2981: UserWarning: The y_pred values do not sum to one. Starting from 1.5 thiswill result in an error.\n",
      "  warnings.warn(\n",
      "/home/kylehsu/miniforge3/envs/modular/lib/python3.12/site-packages/sklearn/metrics/_classification.py:2981: UserWarning: The y_pred values do not sum to one. Starting from 1.5 thiswill result in an error.\n",
      "  warnings.warn(\n",
      "/home/kylehsu/miniforge3/envs/modular/lib/python3.12/site-packages/sklearn/metrics/_classification.py:2981: UserWarning: The y_pred values do not sum to one. Starting from 1.5 thiswill result in an error.\n",
      "  warnings.warn(\n",
      "/home/kylehsu/miniforge3/envs/modular/lib/python3.12/site-packages/sklearn/metrics/_classification.py:2981: UserWarning: The y_pred values do not sum to one. Starting from 1.5 thiswill result in an error.\n",
      "  warnings.warn(\n",
      "/home/kylehsu/miniforge3/envs/modular/lib/python3.12/site-packages/sklearn/metrics/_classification.py:2981: UserWarning: The y_pred values do not sum to one. Starting from 1.5 thiswill result in an error.\n",
      "  warnings.warn(\n",
      "/home/kylehsu/miniforge3/envs/modular/lib/python3.12/site-packages/sklearn/metrics/_classification.py:2981: UserWarning: The y_pred values do not sum to one. Starting from 1.5 thiswill result in an error.\n",
      "  warnings.warn(\n",
      "/home/kylehsu/miniforge3/envs/modular/lib/python3.12/site-packages/sklearn/metrics/_classification.py:2981: UserWarning: The y_pred values do not sum to one. Starting from 1.5 thiswill result in an error.\n",
      "  warnings.warn(\n",
      "/home/kylehsu/miniforge3/envs/modular/lib/python3.12/site-packages/sklearn/metrics/_classification.py:2981: UserWarning: The y_pred values do not sum to one. Starting from 1.5 thiswill result in an error.\n",
      "  warnings.warn(\n",
      "/home/kylehsu/miniforge3/envs/modular/lib/python3.12/site-packages/sklearn/metrics/_classification.py:2981: UserWarning: The y_pred values do not sum to one. Starting from 1.5 thiswill result in an error.\n",
      "  warnings.warn(\n",
      "/home/kylehsu/miniforge3/envs/modular/lib/python3.12/site-packages/sklearn/metrics/_classification.py:2981: UserWarning: The y_pred values do not sum to one. Starting from 1.5 thiswill result in an error.\n",
      "  warnings.warn(\n",
      "/home/kylehsu/miniforge3/envs/modular/lib/python3.12/site-packages/sklearn/metrics/_classification.py:2981: UserWarning: The y_pred values do not sum to one. Starting from 1.5 thiswill result in an error.\n",
      "  warnings.warn(\n",
      "/home/kylehsu/miniforge3/envs/modular/lib/python3.12/site-packages/sklearn/metrics/_classification.py:2981: UserWarning: The y_pred values do not sum to one. Starting from 1.5 thiswill result in an error.\n",
      "  warnings.warn(\n",
      "/home/kylehsu/miniforge3/envs/modular/lib/python3.12/site-packages/sklearn/metrics/_classification.py:2981: UserWarning: The y_pred values do not sum to one. Starting from 1.5 thiswill result in an error.\n",
      "  warnings.warn(\n",
      "/home/kylehsu/miniforge3/envs/modular/lib/python3.12/site-packages/sklearn/metrics/_classification.py:2981: UserWarning: The y_pred values do not sum to one. Starting from 1.5 thiswill result in an error.\n",
      "  warnings.warn(\n",
      "/home/kylehsu/miniforge3/envs/modular/lib/python3.12/site-packages/sklearn/metrics/_classification.py:2981: UserWarning: The y_pred values do not sum to one. Starting from 1.5 thiswill result in an error.\n",
      "  warnings.warn(\n",
      "/home/kylehsu/miniforge3/envs/modular/lib/python3.12/site-packages/sklearn/metrics/_classification.py:2981: UserWarning: The y_pred values do not sum to one. Starting from 1.5 thiswill result in an error.\n",
      "  warnings.warn(\n",
      "/home/kylehsu/miniforge3/envs/modular/lib/python3.12/site-packages/sklearn/metrics/_classification.py:2981: UserWarning: The y_pred values do not sum to one. Starting from 1.5 thiswill result in an error.\n",
      "  warnings.warn(\n",
      "/home/kylehsu/miniforge3/envs/modular/lib/python3.12/site-packages/sklearn/metrics/_classification.py:2981: UserWarning: The y_pred values do not sum to one. Starting from 1.5 thiswill result in an error.\n",
      "  warnings.warn(\n",
      "/home/kylehsu/miniforge3/envs/modular/lib/python3.12/site-packages/sklearn/metrics/_classification.py:2981: UserWarning: The y_pred values do not sum to one. Starting from 1.5 thiswill result in an error.\n",
      "  warnings.warn(\n",
      "/home/kylehsu/miniforge3/envs/modular/lib/python3.12/site-packages/sklearn/metrics/_classification.py:2981: UserWarning: The y_pred values do not sum to one. Starting from 1.5 thiswill result in an error.\n",
      "  warnings.warn(\n",
      "/home/kylehsu/miniforge3/envs/modular/lib/python3.12/site-packages/sklearn/metrics/_classification.py:2981: UserWarning: The y_pred values do not sum to one. Starting from 1.5 thiswill result in an error.\n",
      "  warnings.warn(\n",
      "/home/kylehsu/miniforge3/envs/modular/lib/python3.12/site-packages/sklearn/metrics/_classification.py:2981: UserWarning: The y_pred values do not sum to one. Starting from 1.5 thiswill result in an error.\n",
      "  warnings.warn(\n",
      "/home/kylehsu/miniforge3/envs/modular/lib/python3.12/site-packages/sklearn/metrics/_classification.py:2981: UserWarning: The y_pred values do not sum to one. Starting from 1.5 thiswill result in an error.\n",
      "  warnings.warn(\n",
      "/home/kylehsu/miniforge3/envs/modular/lib/python3.12/site-packages/sklearn/metrics/_classification.py:2981: UserWarning: The y_pred values do not sum to one. Starting from 1.5 thiswill result in an error.\n",
      "  warnings.warn(\n",
      "/home/kylehsu/miniforge3/envs/modular/lib/python3.12/site-packages/sklearn/metrics/_classification.py:2981: UserWarning: The y_pred values do not sum to one. Starting from 1.5 thiswill result in an error.\n",
      "  warnings.warn(\n",
      "/home/kylehsu/miniforge3/envs/modular/lib/python3.12/site-packages/sklearn/metrics/_classification.py:2981: UserWarning: The y_pred values do not sum to one. Starting from 1.5 thiswill result in an error.\n",
      "  warnings.warn(\n",
      "/home/kylehsu/miniforge3/envs/modular/lib/python3.12/site-packages/sklearn/metrics/_classification.py:2981: UserWarning: The y_pred values do not sum to one. Starting from 1.5 thiswill result in an error.\n",
      "  warnings.warn(\n",
      "/home/kylehsu/miniforge3/envs/modular/lib/python3.12/site-packages/sklearn/metrics/_classification.py:2981: UserWarning: The y_pred values do not sum to one. Starting from 1.5 thiswill result in an error.\n",
      "  warnings.warn(\n",
      "/home/kylehsu/miniforge3/envs/modular/lib/python3.12/site-packages/sklearn/metrics/_classification.py:2981: UserWarning: The y_pred values do not sum to one. Starting from 1.5 thiswill result in an error.\n",
      "  warnings.warn(\n",
      "/home/kylehsu/miniforge3/envs/modular/lib/python3.12/site-packages/sklearn/metrics/_classification.py:2981: UserWarning: The y_pred values do not sum to one. Starting from 1.5 thiswill result in an error.\n",
      "  warnings.warn(\n",
      "/home/kylehsu/miniforge3/envs/modular/lib/python3.12/site-packages/sklearn/metrics/_classification.py:2981: UserWarning: The y_pred values do not sum to one. Starting from 1.5 thiswill result in an error.\n",
      "  warnings.warn(\n",
      "/home/kylehsu/miniforge3/envs/modular/lib/python3.12/site-packages/sklearn/metrics/_classification.py:2981: UserWarning: The y_pred values do not sum to one. Starting from 1.5 thiswill result in an error.\n",
      "  warnings.warn(\n",
      "/home/kylehsu/miniforge3/envs/modular/lib/python3.12/site-packages/sklearn/metrics/_classification.py:2981: UserWarning: The y_pred values do not sum to one. Starting from 1.5 thiswill result in an error.\n",
      "  warnings.warn(\n",
      "/home/kylehsu/miniforge3/envs/modular/lib/python3.12/site-packages/sklearn/metrics/_classification.py:2981: UserWarning: The y_pred values do not sum to one. Starting from 1.5 thiswill result in an error.\n",
      "  warnings.warn(\n",
      "/home/kylehsu/miniforge3/envs/modular/lib/python3.12/site-packages/sklearn/metrics/_classification.py:2981: UserWarning: The y_pred values do not sum to one. Starting from 1.5 thiswill result in an error.\n",
      "  warnings.warn(\n",
      "/home/kylehsu/miniforge3/envs/modular/lib/python3.12/site-packages/sklearn/metrics/_classification.py:2981: UserWarning: The y_pred values do not sum to one. Starting from 1.5 thiswill result in an error.\n",
      "  warnings.warn(\n",
      "/home/kylehsu/miniforge3/envs/modular/lib/python3.12/site-packages/sklearn/metrics/_classification.py:2981: UserWarning: The y_pred values do not sum to one. Starting from 1.5 thiswill result in an error.\n",
      "  warnings.warn(\n",
      "/home/kylehsu/miniforge3/envs/modular/lib/python3.12/site-packages/sklearn/metrics/_classification.py:2981: UserWarning: The y_pred values do not sum to one. Starting from 1.5 thiswill result in an error.\n",
      "  warnings.warn(\n",
      "/home/kylehsu/miniforge3/envs/modular/lib/python3.12/site-packages/sklearn/metrics/_classification.py:2981: UserWarning: The y_pred values do not sum to one. Starting from 1.5 thiswill result in an error.\n",
      "  warnings.warn(\n",
      "/home/kylehsu/miniforge3/envs/modular/lib/python3.12/site-packages/sklearn/metrics/_classification.py:2981: UserWarning: The y_pred values do not sum to one. Starting from 1.5 thiswill result in an error.\n",
      "  warnings.warn(\n",
      "/home/kylehsu/miniforge3/envs/modular/lib/python3.12/site-packages/sklearn/metrics/_classification.py:2981: UserWarning: The y_pred values do not sum to one. Starting from 1.5 thiswill result in an error.\n",
      "  warnings.warn(\n",
      "/home/kylehsu/miniforge3/envs/modular/lib/python3.12/site-packages/sklearn/metrics/_classification.py:2981: UserWarning: The y_pred values do not sum to one. Starting from 1.5 thiswill result in an error.\n",
      "  warnings.warn(\n",
      "/home/kylehsu/miniforge3/envs/modular/lib/python3.12/site-packages/sklearn/metrics/_classification.py:2981: UserWarning: The y_pred values do not sum to one. Starting from 1.5 thiswill result in an error.\n",
      "  warnings.warn(\n",
      "/home/kylehsu/miniforge3/envs/modular/lib/python3.12/site-packages/sklearn/metrics/_classification.py:2981: UserWarning: The y_pred values do not sum to one. Starting from 1.5 thiswill result in an error.\n",
      "  warnings.warn(\n",
      "/home/kylehsu/miniforge3/envs/modular/lib/python3.12/site-packages/sklearn/metrics/_classification.py:2981: UserWarning: The y_pred values do not sum to one. Starting from 1.5 thiswill result in an error.\n",
      "  warnings.warn(\n",
      "/home/kylehsu/miniforge3/envs/modular/lib/python3.12/site-packages/sklearn/metrics/_classification.py:2981: UserWarning: The y_pred values do not sum to one. Starting from 1.5 thiswill result in an error.\n",
      "  warnings.warn(\n",
      "/home/kylehsu/miniforge3/envs/modular/lib/python3.12/site-packages/sklearn/metrics/_classification.py:2981: UserWarning: The y_pred values do not sum to one. Starting from 1.5 thiswill result in an error.\n",
      "  warnings.warn(\n"
     ]
    }
   ],
   "source": [
    "linear_metrics_removed = compute_linear_metrics(s[:, :2], z, 'discrete', 'continuous')\n"
   ],
   "metadata": {
    "collapsed": false,
    "ExecuteTime": {
     "end_time": "2024-05-21T23:59:52.638024Z",
     "start_time": "2024-05-21T23:59:16.096950Z"
    }
   },
   "id": "35bcfe96de7a4329"
  },
  {
   "cell_type": "code",
   "execution_count": 46,
   "outputs": [
    {
     "data": {
      "text/plain": "Canvas(toolbar=Toolbar(toolitems=[('Home', 'Reset original view', 'home', 'home'), ('Back', 'Back to previous …",
      "image/png": "[encoded data removed]",
      "text/html": "\n            <div style=\"display: inline-block;\">\n                <div class=\"jupyter-widgets widget-label\" style=\"text-align: center;\">\n                    Figure\n                </div>\n                <img src='data:image/png;base64,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' width=1050.0/>\n            </div>\n        ",
      "application/vnd.jupyter.widget-view+json": {
       "version_major": 2,
       "version_minor": 0,
       "model_id": "3e80e2531e784f3bb3aa5114b6dbb3b5"
      }
     },
     "metadata": {},
     "output_type": "display_data"
    }
   ],
   "source": [
    "plot_mi_heatmap(linear_metrics_removed, 'linear_ncmi')\n"
   ],
   "metadata": {
    "collapsed": false,
    "ExecuteTime": {
     "end_time": "2024-05-22T00:01:58.882893Z",
     "start_time": "2024-05-22T00:01:58.693907Z"
    }
   },
   "id": "f40c2ab0de77a26a"
  },
  {
   "cell_type": "code",
   "execution_count": 30,
   "outputs": [
    {
     "name": "stderr",
     "output_type": "stream",
     "text": [
      "2024-05-21 00:57:18.978399: W tensorflow/core/framework/local_rendezvous.cc:404] Local rendezvous is aborting with status: OUT_OF_RANGE: End of sequence\n"
     ]
    }
   ],
   "source": [
    "api = wandb.Api()\n",
    "run_path = 'iris_viscam/modular/2rz2ch6t'\n",
    "step = 99999\n",
    "run = api.run(run_path)\n",
    "config = omegaconf.OmegaConf.create(run.config)\n",
    "\n",
    "keys = iter(jax.random.split(jax.random.PRNGKey(config.experiment.seed), 100))\n",
    "model = hydra.utils.instantiate(config.model)(key=next(keys))\n",
    "model_file = wandb.restore(f'checkpoints/step={step}/model.eqx', run_path=run_path)\n",
    "model = eqx.tree_deserialise_leaves(model_file.name, model)\n",
    "\n",
    "data_key = jax.random.PRNGKey(config.data.seed)\n",
    "dataset = generate_square_data(\n",
    "                config.data.d_source,\n",
    "                config.data.n_values_per_source,\n",
    "                config.data.slice,\n",
    "                config.data.correlated_sampling_factor,\n",
    "                config.data.covariance,\n",
    "                key=data_key\n",
    "            )\n",
    "train_set = tf.data.Dataset.from_tensor_slices(dataset)\n",
    "val_set = train_set.shuffle(train_set.cardinality(), seed=config.data.seed).take(config.data.n_val)\n",
    "val_set = val_set.batch(config.data.batch_size) \\\n",
    "    .prefetch(buffer_size=tf.data.AUTOTUNE)\n",
    "val_set = tfds.as_numpy(val_set)\n",
    "auxs = []\n",
    "key = next(keys)\n",
    "for i, batch in enumerate(val_set):\n",
    "    key, sub_key = jax.random.split(key)\n",
    "    _, aux = model.loss(model, batch, key=sub_key)\n",
    "    aux['x'] = batch['x']\n",
    "    aux['s'] = batch['s']\n",
    "    auxs.append(aux)\n",
    "\n",
    "auxs = jax.tree.map(lambda *leaves: jnp.concatenate(leaves) if leaves[0].ndim > 0 else jnp.stack(leaves), *auxs)"
   ],
   "metadata": {
    "collapsed": false,
    "ExecuteTime": {
     "end_time": "2024-05-21T07:57:18.988375Z",
     "start_time": "2024-05-21T07:57:18.112213Z"
    }
   },
   "id": "db6db39699e8336"
  },
  {
   "cell_type": "code",
   "execution_count": 54,
   "outputs": [
    {
     "name": "stderr",
     "output_type": "stream",
     "text": [
      "/home/kylehsu/miniforge3/envs/modular/lib/python3.12/site-packages/sklearn/metrics/_classification.py:2981: UserWarning: The y_pred values do not sum to one. Starting from 1.5 thiswill result in an error.\n",
      "  warnings.warn(\n"
     ]
    },
    {
     "name": "stdout",
     "output_type": "stream",
     "text": [
      "{'cinfoc': Array(0., dtype=float32),\n",
      " 'cinfom': 0.0,\n",
      " 'infoc': Array(0.08019476, dtype=float32),\n",
      " 'infoe': 0.9279558833296703,\n",
      " 'infom': 0.2372467484954488,\n",
      " 'linear_cinfoc': Array(0.3337327, dtype=float32),\n",
      " 'linear_cinfom': 1.0,\n",
      " 'linear_ncmi': array([[0.41169753, 0.        , 0.        , 0.41256484],\n",
      "       [0.        , 0.40128764, 0.40140463, 0.        ]]),\n",
      " 'ncmi': array([[1., 1., 1., 1.],\n",
      "       [1., 1., 1., 1.]]),\n",
      " 'nmi': array([[0.96968901, 0.60474432, 0.604503  , 0.95941239],\n",
      "       [0.58840188, 0.97143495, 0.9712198 , 0.58940318]]),\n",
      " 'z_active': Array([ True,  True,  True,  True], dtype=bool)}\n"
     ]
    },
    {
     "name": "stderr",
     "output_type": "stream",
     "text": [
      "/home/kylehsu/miniforge3/envs/modular/lib/python3.12/site-packages/sklearn/metrics/_classification.py:2981: UserWarning: The y_pred values do not sum to one. Starting from 1.5 thiswill result in an error.\n",
      "  warnings.warn(\n"
     ]
    }
   ],
   "source": [
    "import metrics\n",
    "importlib.reload(metrics)\n",
    "pprint(metrics.compute_metrics(auxs['s'], auxs['z'], 'discrete', 'continuous'))"
   ],
   "metadata": {
    "collapsed": false,
    "ExecuteTime": {
     "end_time": "2024-05-21T09:08:56.033084Z",
     "start_time": "2024-05-21T09:08:50.355358Z"
    }
   },
   "id": "e025df20e2d4cd2a"
  },
  {
   "cell_type": "code",
   "execution_count": 37,
   "outputs": [
    {
     "name": "stdout",
     "output_type": "stream",
     "text": [
      "{'cinfoc': Array(0., dtype=float32),\n",
      " 'cinfom': 0.0016712239640883642,\n",
      " 'infoc': Array(0., dtype=float32),\n",
      " 'infoe': 0.9842226626354909,\n",
      " 'infom': 0.0008337880205928627,\n",
      " 'ncmi': array([[0.99329229, 0.99329229, 0.99329229, 0.99329229],\n",
      "       [0.98997781, 0.98997781, 0.98997781, 0.98997781]]),\n",
      " 'nmi': array([[0.98736792, 0.98736792, 0.98736792, 0.98736792],\n",
      "       [0.98572278, 0.98572278, 0.98572278, 0.98572278]]),\n",
      " 'z_active': Array([ True,  True,  True,  True], dtype=bool)}\n"
     ]
    }
   ],
   "source": [
    "pprint(metrics.compute_metrics(auxs['s'], auxs['z'], 'discrete', 'discrete'))\n"
   ],
   "metadata": {
    "collapsed": false,
    "ExecuteTime": {
     "end_time": "2024-05-21T08:00:04.193385Z",
     "start_time": "2024-05-21T08:00:00.666620Z"
    }
   },
   "id": "1b6f310704a62b28"
  },
  {
   "cell_type": "code",
   "execution_count": 11,
   "outputs": [
    {
     "name": "stdout",
     "output_type": "stream",
     "text": [
      "{'cinfoc': 0.9981406667028545,\n",
      " 'cinfom': 0.9981492007789792,\n",
      " 'infoc': 1.0,\n",
      " 'infoe': 0.9999344137281407,\n",
      " 'infom': 1.0,\n",
      " 'ncmi': array([[0.99811074, 0.00185928],\n",
      "       [0.        , 1.00272163]]),\n",
      " 'nmi': array([[1.00086235, 0.        ],\n",
      "       [0.        , 1.00086235]]),\n",
      " 'z_active': array([ True,  True])}\n"
     ]
    },
    {
     "name": "stderr",
     "output_type": "stream",
     "text": [
      "/home/kylehsu/miniforge3/envs/modular/lib/python3.12/site-packages/sklearn/metrics/_classification.py:2981: UserWarning: The y_pred values do not sum to one. Starting from 1.5 thiswill result in an error.\n",
      "  warnings.warn(\n",
      "/home/kylehsu/miniforge3/envs/modular/lib/python3.12/site-packages/sklearn/metrics/_classification.py:2981: UserWarning: The y_pred values do not sum to one. Starting from 1.5 thiswill result in an error.\n",
      "  warnings.warn(\n"
     ]
    }
   ],
   "source": [
    "s = np.mgrid[0:1:11j, 0:1:11j]\n",
    "s = s.reshape(2, -1).T\n",
    "slice = 0\n",
    "s = s[s[:, 1] >= -s[:, 0] + slice]\n",
    "pprint(metrics.compute_metrics(s, s))"
   ],
   "metadata": {
    "collapsed": false,
    "ExecuteTime": {
     "end_time": "2024-05-19T02:28:25.973652Z",
     "start_time": "2024-05-19T02:28:25.197919Z"
    }
   },
   "id": "292dde74f9bbef41"
  },
  {
   "cell_type": "code",
   "execution_count": 18,
   "outputs": [
    {
     "ename": "AttributeError",
     "evalue": "'numpy.ndarray' object has no attribute 'numel'",
     "output_type": "error",
     "traceback": [
      "\u001B[0;31m---------------------------------------------------------------------------\u001B[0m",
      "\u001B[0;31mAttributeError\u001B[0m                            Traceback (most recent call last)",
      "Cell \u001B[0;32mIn[18], line 7\u001B[0m\n\u001B[1;32m      5\u001B[0m z \u001B[38;5;241m=\u001B[39m s\u001B[38;5;241m.\u001B[39mcopy()\n\u001B[1;32m      6\u001B[0m z[:, \u001B[38;5;241m-\u001B[39m\u001B[38;5;241m1\u001B[39m] \u001B[38;5;241m*\u001B[39m\u001B[38;5;241m=\u001B[39m \u001B[38;5;241m1e-3\u001B[39m\n\u001B[0;32m----> 7\u001B[0m \u001B[43mz\u001B[49m\u001B[38;5;241;43m.\u001B[39;49m\u001B[43mnumel\u001B[49m() \u001B[38;5;241m*\u001B[39m \u001B[38;5;241m4\u001B[39m \u001B[38;5;241m/\u001B[39m \u001B[38;5;241m1024\u001B[39m \u001B[38;5;241m/\u001B[39m \u001B[38;5;241m1024\u001B[39m\n\u001B[1;32m      8\u001B[0m pprint(metrics\u001B[38;5;241m.\u001B[39mcompute_metrics(s, z))\n",
      "\u001B[0;31mAttributeError\u001B[0m: 'numpy.ndarray' object has no attribute 'numel'"
     ]
    }
   ],
   "source": [
    "s = np.mgrid[0:1:11j, 0:1:11j]\n",
    "s = s.reshape(2, -1).T\n",
    "slice = 0.5\n",
    "s = s[s[:, 1] >= -s[:, 0] + slice]\n",
    "z = s.copy()\n",
    "z[:, -1] *= 1e-3\n",
    "z.numel() * 4 / 1024 / 1024\n",
    "pprint(metrics.compute_metrics(s, z))"
   ],
   "metadata": {
    "collapsed": false,
    "ExecuteTime": {
     "end_time": "2024-05-21T07:21:24.706769Z",
     "start_time": "2024-05-21T07:21:24.617451Z"
    }
   },
   "id": "4d0d79729cf89c3a"
  },
  {
   "cell_type": "code",
   "execution_count": 14,
   "outputs": [
    {
     "data": {
      "text/plain": "array([1.e+00, 1.e-07])"
     },
     "execution_count": 14,
     "metadata": {},
     "output_type": "execute_result"
    }
   ],
   "source": [
    "np.max(z, axis=0) - np.min(z, axis=0)"
   ],
   "metadata": {
    "collapsed": false,
    "ExecuteTime": {
     "end_time": "2024-05-21T06:56:19.869913Z",
     "start_time": "2024-05-21T06:56:19.869045Z"
    }
   },
   "id": "343478b97b566863"
  },
  {
   "cell_type": "code",
   "execution_count": 13,
   "outputs": [
    {
     "name": "stdout",
     "output_type": "stream",
     "text": [
      "{'cinfoc': 1.0,\n",
      " 'cinfom': 1.0,\n",
      " 'infoc': 0.7858851840884387,\n",
      " 'infoe': 0.9998921156030449,\n",
      " 'infom': 0.7858855558308169,\n",
      " 'ncmi': array([[1.00609001, 0.        ],\n",
      "       [0.        , 1.00632463]]),\n",
      " 'nmi': array([[1.00152391, 0.11880434],\n",
      "       [0.12132096, 1.00128751]]),\n",
      " 'z_active': array([ True,  True])}\n"
     ]
    },
    {
     "name": "stderr",
     "output_type": "stream",
     "text": [
      "/home/kylehsu/miniforge3/envs/modular/lib/python3.12/site-packages/sklearn/metrics/_classification.py:2981: UserWarning: The y_pred values do not sum to one. Starting from 1.5 thiswill result in an error.\n",
      "  warnings.warn(\n",
      "/home/kylehsu/miniforge3/envs/modular/lib/python3.12/site-packages/sklearn/metrics/_classification.py:2981: UserWarning: The y_pred values do not sum to one. Starting from 1.5 thiswill result in an error.\n",
      "  warnings.warn(\n"
     ]
    }
   ],
   "source": [
    "s = np.mgrid[0:1:11j, 0:1:11j]\n",
    "s = s.reshape(2, -1).T\n",
    "slice = 1.\n",
    "s = s[s[:, 1] >= -s[:, 0] + slice]\n",
    "pprint(metrics.compute_metrics(s, s))"
   ],
   "metadata": {
    "collapsed": false,
    "ExecuteTime": {
     "end_time": "2024-05-19T02:28:26.148188Z",
     "start_time": "2024-05-19T02:28:25.871624Z"
    }
   },
   "id": "5ba1cb85832481fd"
  },
  {
   "cell_type": "code",
   "execution_count": 14,
   "outputs": [
    {
     "name": "stderr",
     "output_type": "stream",
     "text": [
      "/home/kylehsu/miniforge3/envs/modular/lib/python3.12/site-packages/sklearn/metrics/_classification.py:2981: UserWarning: The y_pred values do not sum to one. Starting from 1.5 thiswill result in an error.\n",
      "  warnings.warn(\n"
     ]
    },
    {
     "name": "stdout",
     "output_type": "stream",
     "text": [
      "{'cinfoc': 0.9980132527024852,\n",
      " 'cinfom': 0.9980132741728238,\n",
      " 'infoc': 0.835944239424224,\n",
      " 'infoe': 0.9997857962828036,\n",
      " 'infom': 0.8359442063233415,\n",
      " 'ncmi': array([[1.00691366, 0.        ],\n",
      "       [0.00200444, 1.00690276]]),\n",
      " 'nmi': array([[1.0004467 , 0.08708482],\n",
      "       [0.0917212 , 1.00045684]]),\n",
      " 'z_active': array([ True,  True])}\n"
     ]
    },
    {
     "name": "stderr",
     "output_type": "stream",
     "text": [
      "/home/kylehsu/miniforge3/envs/modular/lib/python3.12/site-packages/sklearn/metrics/_classification.py:2981: UserWarning: The y_pred values do not sum to one. Starting from 1.5 thiswill result in an error.\n",
      "  warnings.warn(\n"
     ]
    }
   ],
   "source": [
    "s = np.mgrid[0:1:31j, 0:1:31j]\n",
    "s = s.reshape(2, -1).T\n",
    "slice = 1.\n",
    "s = s[s[:, 1] >= -s[:, 0] + slice]\n",
    "pprint(metrics.compute_metrics(s, s))"
   ],
   "metadata": {
    "collapsed": false,
    "ExecuteTime": {
     "end_time": "2024-05-19T02:28:30.364426Z",
     "start_time": "2024-05-19T02:28:26.147915Z"
    }
   },
   "id": "b18dccf3f9b96fe"
  },
  {
   "cell_type": "code",
   "execution_count": 15,
   "outputs": [
    {
     "name": "stderr",
     "output_type": "stream",
     "text": [
      "/home/kylehsu/miniforge3/envs/modular/lib/python3.12/site-packages/sklearn/metrics/_classification.py:2981: UserWarning: The y_pred values do not sum to one. Starting from 1.5 thiswill result in an error.\n",
      "  warnings.warn(\n",
      "/home/kylehsu/miniforge3/envs/modular/lib/python3.12/site-packages/sklearn/metrics/_classification.py:2981: UserWarning: The y_pred values do not sum to one. Starting from 1.5 thiswill result in an error.\n",
      "  warnings.warn(\n"
     ]
    },
    {
     "name": "stdout",
     "output_type": "stream",
     "text": [
      "{'cinfoc': 0.18194358092044371,\n",
      " 'cinfom': 0.546083377418566,\n",
      " 'infoc': 0.15002373195225407,\n",
      " 'infoe': 0.9995844339208685,\n",
      " 'infom': 0.45013099919029753,\n",
      " 'ncmi': array([[1.0037588 , 0.38625516, 0.33311998, 1.00374949],\n",
      "       [0.23854583, 1.0036264 , 1.003683  , 0.23348896]]),\n",
      " 'nmi': array([[0.99970045, 0.45874914, 0.41225953, 0.99992858],\n",
      "       [0.32934197, 0.99957503, 0.99968203, 0.32514818]]),\n",
      " 'z_active': array([ True,  True,  True,  True])}\n"
     ]
    }
   ],
   "source": [
    "s_and_z = np.load('s_and_z_101.npz', allow_pickle=True)\n",
    "s = s_and_z['s']\n",
    "z = s_and_z['z']\n",
    "pprint(metrics.compute_metrics(s, z))\n"
   ],
   "metadata": {
    "collapsed": false,
    "ExecuteTime": {
     "end_time": "2024-05-19T02:30:06.297961Z",
     "start_time": "2024-05-19T02:28:30.363658Z"
    }
   },
   "id": "84a6bd31b6e59fed"
  },
  {
   "cell_type": "code",
   "execution_count": 15,
   "outputs": [],
   "source": [],
   "metadata": {
    "collapsed": false,
    "ExecuteTime": {
     "end_time": "2024-05-19T02:30:06.298203Z",
     "start_time": "2024-05-19T02:30:06.297545Z"
    }
   },
   "id": "8911db2cb9d4cca7"
  }
 ],
 "metadata": {
  "kernelspec": {
   "display_name": "Python 3",
   "language": "python",
   "name": "python3"
  },
  "language_info": {
   "codemirror_mode": {
    "name": "ipython",
    "version": 2
   },
   "file_extension": ".py",
   "mimetype": "text/x-python",
   "name": "python",
   "nbconvert_exporter": "python",
   "pygments_lexer": "ipython2",
   "version": "2.7.6"
  }
 },
 "nbformat": 4,
 "nbformat_minor": 5
}
