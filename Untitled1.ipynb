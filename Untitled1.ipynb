{
 "cells": [
  {
   "cell_type": "markdown",
   "id": "519c5092-64c0-4eec-81c7-8b4b87feab76",
   "metadata": {},
   "source": [
    "# 30th April\n",
    "\n",
    "Testing one hot modularisation conditions"
   ]
  },
  {
   "cell_type": "code",
   "execution_count": 1,
   "id": "dcee9233-65cd-45d5-9233-59735684a536",
   "metadata": {},
   "outputs": [],
   "source": [
    "import numpy as np\n",
    "import jax.numpy as jnp\n",
    "import matplotlib.pyplot as plt\n",
    "from jax import vmap, value_and_grad, grad, jit, random\n",
    "import jax.nn as jnn\n",
    "import math\n",
    "import optax\n",
    "import scipy\n",
    "from mpl_toolkits.mplot3d import Axes3D"
   ]
  },
  {
   "cell_type": "code",
   "execution_count": 148,
   "id": "37a8537b-325c-4cc2-824f-edb5bc45535c",
   "metadata": {},
   "outputs": [
    {
     "data": {
      "text/plain": [
       "<matplotlib.image.AxesImage at 0x2a08f7110>"
      ]
     },
     "execution_count": 148,
     "metadata": {},
     "output_type": "execute_result"
    },
    {
     "data": {
      "image/png": "[encoded data removed]",
      "text/plain": [
       "<Figure size 640x480 with 1 Axes>"
      ]
     },
     "metadata": {},
     "output_type": "display_data"
    }
   ],
   "source": [
    "dim = 9\n",
    "\n",
    "x = np.zeros([dim*2, dim*(dim-1)])\n",
    "\n",
    "counter = 0\n",
    "for n in range(dim):\n",
    "    for m in range(dim):\n",
    "        if n != m:# and np.mod(n+1,dim) != m:# and np.mod(n+2,dim) != m:\n",
    "            x[n,counter] = 1\n",
    "            x[m+dim,counter] = 1\n",
    "            counter += 1\n",
    "x = x[:,:counter]\n",
    "plt.imshow(x)"
   ]
  },
  {
   "cell_type": "code",
   "execution_count": 197,
   "id": "9f069557-ee4e-4fb1-b904-1d40337af479",
   "metadata": {},
   "outputs": [
    {
     "name": "stdout",
     "output_type": "stream",
     "text": [
      "12105412.0\n"
     ]
    }
   ],
   "source": [
    "H = 40\n",
    "I = np.random.normal(0,1, [H,dim*2+1])\n",
    "points = x\n",
    "points_bias = np.vstack([x, np.ones([1,x.shape[1]])])\n",
    "\n",
    "@jit\n",
    "def generate_rep(I, inputs):\n",
    "    g = jnn.relu(I@inputs)\n",
    "    #g = I@inputs\n",
    "    g_bias = jnp.vstack([g, jnp.ones(g.shape[1])[None,:]])\n",
    "    return g_bias\n",
    "\n",
    "@jit\n",
    "def loss_weight_I(I):\n",
    "    return jnp.sum(jnp.power(I[:,:-1],2))\n",
    "\n",
    "@jit\n",
    "def generate_R(g, outputs):\n",
    "    mat0 = jnp.matmul(g, g.T)\n",
    "    mat1 = jnp.matmul(g, outputs.T)\n",
    "    mat2 = jnp.matmul(jnp.linalg.inv(mat0 + 0.01*jnp.eye(H+1)), mat1)\n",
    "    return mat2\n",
    "\n",
    "@jit\n",
    "def loss_fit(g, R, outputs):\n",
    "    preds = R.T@g\n",
    "    return jnp.linalg.norm(outputs - preds) \n",
    "\n",
    "@jit\n",
    "def loss_R(R):\n",
    "    R_sub = R[:-1,:]\n",
    "    return jnp.sum(jnp.power(R_sub, 2))\n",
    "\n",
    "@jit\n",
    "def loss_act(g):\n",
    "    return jnp.sum(jnp.power(g[:-1,:], 2))\n",
    "\n",
    "mu_fit = 1000000\n",
    "mu_G = 100\n",
    "mu_R = 1\n",
    "mu_I = 1\n",
    "fit_thresh = 0.01\n",
    "\n",
    "@jit\n",
    "def loss(params, inputs, outputs):\n",
    "    g = generate_rep(params[\"I\"], inputs)\n",
    "    R = generate_R(g, points)\n",
    "\n",
    "    return mu_fit*jnn.relu(loss_fit(g, R, outputs)-fit_thresh) + mu_G*loss_act(g) + mu_I*loss_weight_I(params[\"I\"]) + mu_R*loss_weight_I(R)\n",
    "    \n",
    "@jit\n",
    "def update(params, inputs, outputs, opt_state):\n",
    "    \"\"\" Compute the gradient for a batch and update the parameters \"\"\"\n",
    "    value, grads = value_and_grad(loss)(params, inputs, outputs)\n",
    "    updates, opt_state = optimizer.update(grads, opt_state)\n",
    "    params = optax.apply_updates(params, updates)\n",
    "    return params, opt_state, value\n",
    "\n",
    "random_seed = 43321443153\n",
    "learning_rate = 1e-4\n",
    "\n",
    "re_init = 1\n",
    "if re_init:\n",
    "    key = random.PRNGKey(random_seed)\n",
    "    I = random.normal(key, (H,dim*2+1))*0.001\n",
    "    I = I.at[:,-1].set(2)\n",
    "    optimizer = optax.adam(learning_rate)\n",
    "    # Obtain the `opt_state` that contains statistics for the optimizer.\n",
    "    params = {'I': I}\n",
    "    opt_state = optimizer.init(params)\n",
    "print(loss(params, points_bias, points))\n",
    "min_loss = np.infty"
   ]
  },
  {
   "cell_type": "code",
   "execution_count": 198,
   "id": "bcc7f69c-3213-4777-ac79-f3566af98cc4",
   "metadata": {},
   "outputs": [
    {
     "name": "stdout",
     "output_type": "stream",
     "text": [
      "Step 0, Loss: 12105412.00000, Fit: 10.90341, Act: 11518.00684, R: 420.28741, I: 0.00084\n",
      "New min! 12105412.0\n",
      "Step 10000, Loss: 229734.93750, Fit: 0.02501, Act: 2122.76562, R: 25.02734, I: 19.34117\n",
      "New min! 227335.5625\n",
      "Step 20000, Loss: 19074.99805, Fit: 0.01463, Act: 142.93471, R: 15.56696, I: 93.74816\n",
      "New min! 18771.888671875\n",
      "Step 30000, Loss: 18889.17188, Fit: 0.01474, Act: 142.70795, R: 15.41384, I: 88.56178\n",
      "New min! 18511.896484375\n",
      "Step 40000, Loss: 18846.46094, Fit: 0.01435, Act: 142.58488, R: 15.43402, I: 83.09331\n",
      "Step 50000, Loss: 18775.47070, Fit: 0.01479, Act: 142.69861, R: 15.40749, I: 78.16756\n",
      "Step 60000, Loss: 18815.16992, Fit: 0.01442, Act: 142.49490, R: 15.45350, I: 73.97635\n",
      "New min! 18453.2578125\n",
      "Step 70000, Loss: 18759.71094, Fit: 0.01431, Act: 142.66284, R: 15.41319, I: 70.01360\n",
      "New min! 18439.314453125\n",
      "Step 80000, Loss: 18968.19141, Fit: 0.01465, Act: 142.63440, R: 15.43590, I: 66.62630\n",
      "Step 90000, Loss: 18627.25781, Fit: 0.01441, Act: 142.67677, R: 15.42373, I: 63.64613\n",
      "Step 100000, Loss: 18772.28320, Fit: 0.01445, Act: 142.64986, R: 15.41573, I: 60.98445\n",
      "Step 110000, Loss: 18835.86133, Fit: 0.01445, Act: 142.62766, R: 15.44080, I: 58.64022\n",
      "Step 120000, Loss: 18700.27344, Fit: 0.01416, Act: 142.75894, R: 15.42421, I: 56.59014\n",
      "Step 130000, Loss: 18777.48828, Fit: 0.01443, Act: 142.71025, R: 15.41968, I: 54.68303\n",
      "Step 140000, Loss: 18844.03125, Fit: 0.01433, Act: 142.63225, R: 15.42578, I: 53.00450\n",
      "New min! 18386.388671875\n",
      "Step 150000, Loss: 18843.67578, Fit: 0.01438, Act: 142.65656, R: 15.41897, I: 51.43723\n",
      "Step 160000, Loss: 18885.04688, Fit: 0.01444, Act: 142.49290, R: 15.43914, I: 50.00432\n",
      "Step 170000, Loss: 18958.93164, Fit: 0.01459, Act: 142.68716, R: 15.42047, I: 48.65636\n",
      "Step 180000, Loss: 18736.53516, Fit: 0.01440, Act: 142.73634, R: 15.41520, I: 47.43981\n",
      "Step 190000, Loss: 18753.76367, Fit: 0.01482, Act: 142.59854, R: 15.41748, I: 46.34071\n",
      "Step 200000, Loss: 18754.72070, Fit: 0.01443, Act: 142.80609, R: 15.40044, I: 45.30128\n",
      "Step 210000, Loss: 18750.75781, Fit: 0.01433, Act: 142.68451, R: 15.42420, I: 44.28819\n",
      "Step 220000, Loss: 18731.25586, Fit: 0.01444, Act: 142.63104, R: 15.43953, I: 43.37144\n",
      "Step 230000, Loss: 18797.51172, Fit: 0.01450, Act: 142.78473, R: 15.40175, I: 42.46746\n",
      "Step 240000, Loss: 18777.04883, Fit: 0.01442, Act: 142.66011, R: 15.41766, I: 41.60878\n",
      "Step 250000, Loss: 18736.99414, Fit: 0.01445, Act: 142.69742, R: 15.41418, I: 40.78951\n",
      "Step 260000, Loss: 18774.09375, Fit: 0.01442, Act: 142.77007, R: 15.40156, I: 40.01912\n",
      "Step 270000, Loss: 18722.08008, Fit: 0.01451, Act: 142.64775, R: 15.41572, I: 39.24515\n",
      "Step 280000, Loss: 18702.66016, Fit: 0.01434, Act: 142.64622, R: 15.41496, I: 38.54503\n",
      "Step 290000, Loss: 18643.91992, Fit: 0.01439, Act: 142.87015, R: 15.41930, I: 37.87599\n",
      "Step 300000, Loss: 18840.02344, Fit: 0.01436, Act: 142.68135, R: 15.41778, I: 37.22021\n",
      "Step 310000, Loss: 18873.00000, Fit: 0.01430, Act: 142.76955, R: 15.40904, I: 36.52277\n",
      "Step 320000, Loss: 18680.63672, Fit: 0.01435, Act: 142.76283, R: 15.40587, I: 35.79706\n",
      "Step 330000, Loss: 18646.51562, Fit: 0.01430, Act: 142.71906, R: 15.40930, I: 35.18277\n",
      "Step 340000, Loss: 18671.54102, Fit: 0.01432, Act: 142.76241, R: 15.40825, I: 34.59634\n",
      "Step 350000, Loss: 18576.12500, Fit: 0.01427, Act: 142.81644, R: 15.42356, I: 34.04339\n",
      "Step 360000, Loss: 18722.93359, Fit: 0.01445, Act: 142.78098, R: 15.40005, I: 33.48438\n",
      "Step 370000, Loss: 18765.53320, Fit: 0.01433, Act: 142.78514, R: 15.40023, I: 32.96902\n",
      "Step 380000, Loss: 18677.35938, Fit: 0.01440, Act: 142.77626, R: 15.40481, I: 32.47207\n",
      "Step 390000, Loss: 18706.27539, Fit: 0.01441, Act: 142.75200, R: 15.41286, I: 31.95220\n",
      "Step 400000, Loss: 18713.67188, Fit: 0.01432, Act: 142.77724, R: 15.40689, I: 31.50698\n",
      "Step 410000, Loss: 18580.97656, Fit: 0.01434, Act: 142.81798, R: 15.39959, I: 31.06794\n",
      "Step 420000, Loss: 18632.71289, Fit: 0.01438, Act: 142.81757, R: 15.40834, I: 30.64815\n",
      "Step 430000, Loss: 18595.43359, Fit: 0.01439, Act: 142.81337, R: 15.39807, I: 30.24485\n",
      "Step 440000, Loss: 18653.07812, Fit: 0.01439, Act: 142.73163, R: 15.40519, I: 29.83494\n",
      "Step 450000, Loss: 18677.76758, Fit: 0.01431, Act: 142.78015, R: 15.40109, I: 29.45647\n",
      "Step 460000, Loss: 18645.86133, Fit: 0.01431, Act: 142.70114, R: 15.40737, I: 29.07945\n",
      "Step 470000, Loss: 18669.72461, Fit: 0.01432, Act: 142.74008, R: 15.40267, I: 28.71801\n",
      "Step 480000, Loss: 18654.45703, Fit: 0.01437, Act: 142.77853, R: 15.40222, I: 28.36368\n",
      "Step 490000, Loss: 18713.33398, Fit: 0.01444, Act: 142.78368, R: 15.40275, I: 28.00769\n",
      "Step 500000, Loss: 18684.63477, Fit: 0.01434, Act: 142.80899, R: 15.41333, I: 27.70360\n",
      "Step 510000, Loss: 18641.87891, Fit: 0.01440, Act: 142.79115, R: 15.39907, I: 27.39420\n",
      "Step 520000, Loss: 18685.68945, Fit: 0.01438, Act: 142.76686, R: 15.41357, I: 27.08827\n",
      "Step 530000, Loss: 18662.83984, Fit: 0.01429, Act: 142.80704, R: 15.39936, I: 26.79631\n",
      "Step 540000, Loss: 18592.66602, Fit: 0.01444, Act: 142.76884, R: 15.41893, I: 26.51555\n",
      "Step 550000, Loss: 18789.85156, Fit: 0.01437, Act: 142.78021, R: 15.40040, I: 26.24187\n",
      "Step 560000, Loss: 18653.57812, Fit: 0.01427, Act: 142.72612, R: 15.40775, I: 25.94713\n",
      "Step 570000, Loss: 18587.03125, Fit: 0.01430, Act: 142.79968, R: 15.39975, I: 25.70070\n",
      "Step 580000, Loss: 18625.95508, Fit: 0.01436, Act: 142.78912, R: 15.40243, I: 25.45378\n",
      "Step 590000, Loss: 18701.00586, Fit: 0.01436, Act: 142.72652, R: 15.40731, I: 25.19724\n",
      "Step 600000, Loss: 18639.49609, Fit: 0.01425, Act: 142.80098, R: 15.39966, I: 24.96473\n",
      "Step 610000, Loss: 18722.51172, Fit: 0.01453, Act: 142.72093, R: 15.40697, I: 24.73136\n",
      "Step 620000, Loss: 18576.46484, Fit: 0.01438, Act: 142.74016, R: 15.41601, I: 24.51049\n",
      "Step 630000, Loss: 18651.58398, Fit: 0.01440, Act: 142.79099, R: 15.39790, I: 24.28985\n",
      "Step 640000, Loss: 18667.12109, Fit: 0.01438, Act: 142.74831, R: 15.40437, I: 24.09353\n",
      "Step 650000, Loss: 18693.93164, Fit: 0.01432, Act: 142.75078, R: 15.40552, I: 23.87745\n",
      "Step 660000, Loss: 18599.03711, Fit: 0.01439, Act: 142.80678, R: 15.40583, I: 23.71101\n",
      "Step 670000, Loss: 18732.15820, Fit: 0.01439, Act: 142.80208, R: 15.39998, I: 23.52788\n",
      "Step 680000, Loss: 18625.78125, Fit: 0.01433, Act: 142.72998, R: 15.41240, I: 23.34968\n",
      "Step 690000, Loss: 18537.60742, Fit: 0.01436, Act: 142.76944, R: 15.40586, I: 23.20321\n",
      "Step 700000, Loss: 18687.83984, Fit: 0.01438, Act: 142.80859, R: 15.39878, I: 23.02877\n",
      "Step 710000, Loss: 18689.58203, Fit: 0.01436, Act: 142.76602, R: 15.40613, I: 22.87209\n",
      "Step 720000, Loss: 18618.10938, Fit: 0.01427, Act: 142.78752, R: 15.41008, I: 22.69172\n",
      "Step 730000, Loss: 18644.78125, Fit: 0.01436, Act: 142.77878, R: 15.41460, I: 22.54261\n",
      "Step 740000, Loss: 18645.33594, Fit: 0.01438, Act: 142.76297, R: 15.40820, I: 22.40440\n",
      "Step 750000, Loss: 18581.19531, Fit: 0.01438, Act: 142.79948, R: 15.40025, I: 22.22910\n",
      "Step 760000, Loss: 18679.68945, Fit: 0.01435, Act: 142.85191, R: 15.40044, I: 22.09852\n",
      "Step 770000, Loss: 18674.25195, Fit: 0.01432, Act: 142.72144, R: 15.42105, I: 21.94957\n",
      "Step 780000, Loss: 18634.83594, Fit: 0.01443, Act: 142.76627, R: 15.42571, I: 21.82444\n",
      "Step 790000, Loss: 18633.87695, Fit: 0.01443, Act: 142.80144, R: 15.40070, I: 21.68282\n",
      "Step 800000, Loss: 18636.15625, Fit: 0.01433, Act: 142.75941, R: 15.40344, I: 21.55709\n",
      "Step 810000, Loss: 18671.12109, Fit: 0.01434, Act: 142.72935, R: 15.42254, I: 21.44378\n",
      "Step 820000, Loss: 18736.23438, Fit: 0.01431, Act: 142.72385, R: 15.43148, I: 21.31901\n",
      "Step 830000, Loss: 18738.91016, Fit: 0.01436, Act: 142.74796, R: 15.40506, I: 21.21805\n",
      "Step 840000, Loss: 18606.25977, Fit: 0.01429, Act: 142.82350, R: 15.41783, I: 21.09905\n",
      "Step 850000, Loss: 18697.37891, Fit: 0.01437, Act: 142.78931, R: 15.40103, I: 20.98247\n",
      "Step 860000, Loss: 18638.13086, Fit: 0.01433, Act: 142.72475, R: 15.41122, I: 20.86375\n",
      "Step 870000, Loss: 18630.67383, Fit: 0.01441, Act: 142.76997, R: 15.40348, I: 20.76419\n",
      "Step 880000, Loss: 18595.89258, Fit: 0.01437, Act: 142.75548, R: 15.40524, I: 20.66936\n",
      "Step 890000, Loss: 18607.73633, Fit: 0.01437, Act: 142.84329, R: 15.40352, I: 20.56744\n",
      "Step 900000, Loss: 18614.81445, Fit: 0.01442, Act: 142.72458, R: 15.40521, I: 20.43731\n",
      "Step 910000, Loss: 18675.83789, Fit: 0.01442, Act: 142.76064, R: 15.41534, I: 20.34813\n",
      "Step 920000, Loss: 18684.84375, Fit: 0.01429, Act: 142.74713, R: 15.40520, I: 20.25360\n",
      "Step 930000, Loss: 18725.54492, Fit: 0.01431, Act: 142.75975, R: 15.40256, I: 20.16740\n",
      "Step 940000, Loss: 18750.31641, Fit: 0.01438, Act: 142.80823, R: 15.40110, I: 20.08275\n",
      "Step 950000, Loss: 18669.41016, Fit: 0.01429, Act: 142.83818, R: 15.39897, I: 19.99247\n",
      "Step 960000, Loss: 18775.47266, Fit: 0.01434, Act: 142.72615, R: 15.40383, I: 19.92347\n",
      "Step 970000, Loss: 18687.45508, Fit: 0.01434, Act: 142.79153, R: 15.40351, I: 19.82319\n",
      "Step 980000, Loss: 18640.66602, Fit: 0.01434, Act: 142.71448, R: 15.40961, I: 19.71740\n",
      "Step 990000, Loss: 18694.73047, Fit: 0.01432, Act: 142.75392, R: 15.40787, I: 19.64580\n",
      "Step 1000000, Loss: 18625.84180, Fit: 0.01431, Act: 142.72353, R: 15.41905, I: 19.55354\n",
      "Step 1010000, Loss: 18687.75977, Fit: 0.01434, Act: 142.80110, R: 15.40355, I: 19.48427\n",
      "Step 1020000, Loss: 18631.31055, Fit: 0.01426, Act: 142.83090, R: 15.40480, I: 19.40154\n",
      "Step 1030000, Loss: 18747.09961, Fit: 0.01428, Act: 142.79523, R: 15.40305, I: 19.33334\n",
      "Step 1040000, Loss: 18573.73242, Fit: 0.01434, Act: 142.75595, R: 15.41006, I: 19.26597\n",
      "Step 1050000, Loss: 18578.51172, Fit: 0.01442, Act: 142.82787, R: 15.41407, I: 19.21278\n",
      "Step 1060000, Loss: 18684.73047, Fit: 0.01441, Act: 142.85826, R: 15.39680, I: 19.13917\n",
      "Step 1070000, Loss: 18673.65430, Fit: 0.01433, Act: 142.76001, R: 15.41506, I: 19.06512\n",
      "Step 1080000, Loss: 18648.99023, Fit: 0.01436, Act: 142.76395, R: 15.41322, I: 19.01144\n",
      "Step 1090000, Loss: 18743.66992, Fit: 0.01441, Act: 142.76727, R: 15.40097, I: 18.95943\n",
      "Step 1100000, Loss: 18694.12109, Fit: 0.01438, Act: 142.78677, R: 15.40593, I: 18.88895\n",
      "Step 1110000, Loss: 18708.60156, Fit: 0.01431, Act: 142.78027, R: 15.40527, I: 18.83390\n",
      "Step 1120000, Loss: 18676.44922, Fit: 0.01437, Act: 142.74649, R: 15.40520, I: 18.77861\n",
      "Step 1130000, Loss: 18707.63867, Fit: 0.01438, Act: 142.73917, R: 15.42401, I: 18.71215\n",
      "Step 1140000, Loss: 18679.63477, Fit: 0.01428, Act: 142.83466, R: 15.40568, I: 18.66280\n",
      "Step 1150000, Loss: 18689.98438, Fit: 0.01430, Act: 142.71490, R: 15.40890, I: 18.60423\n",
      "Step 1160000, Loss: 18675.92773, Fit: 0.01440, Act: 142.69104, R: 15.40840, I: 18.54883\n",
      "Step 1170000, Loss: 18609.12500, Fit: 0.01442, Act: 142.75256, R: 15.40957, I: 18.50499\n",
      "Step 1180000, Loss: 18721.77148, Fit: 0.01438, Act: 142.73257, R: 15.42255, I: 18.45923\n",
      "Step 1190000, Loss: 18625.08984, Fit: 0.01431, Act: 142.86275, R: 15.40273, I: 18.41968\n",
      "Step 1200000, Loss: 18654.63867, Fit: 0.01445, Act: 142.85571, R: 15.40452, I: 18.36593\n",
      "Step 1210000, Loss: 18724.09180, Fit: 0.01439, Act: 142.79681, R: 15.40348, I: 18.31510\n",
      "Step 1220000, Loss: 18615.15820, Fit: 0.01433, Act: 142.74883, R: 15.40515, I: 18.25877\n",
      "Step 1230000, Loss: 18660.66406, Fit: 0.01429, Act: 142.74051, R: 15.40613, I: 18.21175\n",
      "Step 1240000, Loss: 18716.93555, Fit: 0.01440, Act: 142.81148, R: 15.39587, I: 18.17901\n",
      "Step 1250000, Loss: 18676.62695, Fit: 0.01430, Act: 142.72455, R: 15.40602, I: 18.13562\n",
      "Step 1260000, Loss: 18612.69531, Fit: 0.01434, Act: 142.80176, R: 15.43159, I: 18.09823\n",
      "Step 1270000, Loss: 18631.21094, Fit: 0.01430, Act: 142.76465, R: 15.40247, I: 18.05807\n",
      "Step 1280000, Loss: 18688.28516, Fit: 0.01433, Act: 142.78951, R: 15.40233, I: 18.01387\n",
      "Step 1290000, Loss: 18704.72656, Fit: 0.01428, Act: 142.77266, R: 15.40483, I: 17.96915\n",
      "Step 1300000, Loss: 18677.52734, Fit: 0.01428, Act: 142.78801, R: 15.39903, I: 17.96004\n",
      "Step 1310000, Loss: 18769.41211, Fit: 0.01431, Act: 142.79138, R: 15.41965, I: 17.91141\n",
      "Step 1320000, Loss: 18649.09961, Fit: 0.01439, Act: 142.80721, R: 15.39837, I: 17.87909\n",
      "Step 1330000, Loss: 18640.33008, Fit: 0.01434, Act: 142.75424, R: 15.40813, I: 17.84162\n",
      "Step 1340000, Loss: 18672.07812, Fit: 0.01431, Act: 142.76591, R: 15.40437, I: 17.81822\n",
      "Step 1350000, Loss: 18720.65234, Fit: 0.01425, Act: 142.72815, R: 15.40671, I: 17.77515\n",
      "Step 1360000, Loss: 18719.36914, Fit: 0.01437, Act: 142.77194, R: 15.40013, I: 17.75465\n",
      "Step 1370000, Loss: 18642.48242, Fit: 0.01431, Act: 142.83961, R: 15.39929, I: 17.72375\n",
      "Step 1380000, Loss: 18566.96875, Fit: 0.01436, Act: 142.84866, R: 15.39336, I: 17.69320\n",
      "Step 1390000, Loss: 18654.85352, Fit: 0.01436, Act: 142.73180, R: 15.41698, I: 17.65576\n",
      "Step 1400000, Loss: 18685.39062, Fit: 0.01432, Act: 142.73943, R: 15.41568, I: 17.64405\n",
      "Step 1410000, Loss: 18672.30664, Fit: 0.01435, Act: 142.80437, R: 15.39909, I: 17.61477\n",
      "Step 1420000, Loss: 18721.24609, Fit: 0.01443, Act: 142.75526, R: 15.40253, I: 17.58354\n",
      "Step 1430000, Loss: 18689.14062, Fit: 0.01435, Act: 142.79050, R: 15.40185, I: 17.54940\n",
      "Step 1440000, Loss: 18614.67773, Fit: 0.01443, Act: 142.77684, R: 15.40984, I: 17.53070\n",
      "Step 1450000, Loss: 18648.92969, Fit: 0.01431, Act: 142.82370, R: 15.40076, I: 17.50046\n",
      "Step 1460000, Loss: 18653.67969, Fit: 0.01442, Act: 142.77739, R: 15.41107, I: 17.47919\n",
      "Step 1470000, Loss: 18679.87109, Fit: 0.01439, Act: 142.69334, R: 15.41727, I: 17.45472\n",
      "Step 1480000, Loss: 18686.73047, Fit: 0.01435, Act: 142.77768, R: 15.41117, I: 17.43306\n",
      "New min! 18385.490234375\n",
      "Step 1490000, Loss: 18761.93750, Fit: 0.01438, Act: 142.78665, R: 15.41250, I: 17.41418\n",
      "Step 1500000, Loss: 18723.76562, Fit: 0.01435, Act: 142.73109, R: 15.40800, I: 17.37571\n",
      "Step 1510000, Loss: 18665.75781, Fit: 0.01444, Act: 142.81337, R: 15.39978, I: 17.35749\n",
      "Step 1520000, Loss: 18690.84180, Fit: 0.01437, Act: 142.80182, R: 15.40035, I: 17.33348\n",
      "Step 1530000, Loss: 18653.08398, Fit: 0.01426, Act: 142.82974, R: 15.39587, I: 17.30608\n",
      "Step 1540000, Loss: 18632.40820, Fit: 0.01431, Act: 142.74609, R: 15.40852, I: 17.28403\n",
      "Step 1550000, Loss: 18745.46094, Fit: 0.01432, Act: 142.82559, R: 15.39947, I: 17.26919\n",
      "Step 1560000, Loss: 18694.90039, Fit: 0.01430, Act: 142.71669, R: 15.41378, I: 17.23544\n",
      "Step 1570000, Loss: 18689.34961, Fit: 0.01442, Act: 142.80045, R: 15.40092, I: 17.22580\n",
      "Step 1580000, Loss: 18718.05078, Fit: 0.01440, Act: 142.76746, R: 15.40337, I: 17.20388\n",
      "Step 1590000, Loss: 18709.90234, Fit: 0.01438, Act: 142.78476, R: 15.40616, I: 17.17958\n",
      "Step 1600000, Loss: 18724.86523, Fit: 0.01437, Act: 142.79004, R: 15.40942, I: 17.16173\n",
      "Step 1610000, Loss: 18644.06836, Fit: 0.01432, Act: 142.80560, R: 15.42411, I: 17.15446\n",
      "Step 1620000, Loss: 18720.69336, Fit: 0.01427, Act: 142.78561, R: 15.43020, I: 17.13737\n",
      "Step 1630000, Loss: 18614.71875, Fit: 0.01434, Act: 142.78282, R: 15.40596, I: 17.12630\n",
      "Step 1640000, Loss: 18685.90234, Fit: 0.01431, Act: 142.76958, R: 15.40354, I: 17.10098\n",
      "Step 1650000, Loss: 18637.77344, Fit: 0.01440, Act: 142.83592, R: 15.39949, I: 17.09594\n",
      "Step 1660000, Loss: 18624.95312, Fit: 0.01436, Act: 142.77487, R: 15.42169, I: 17.07642\n",
      "Step 1670000, Loss: 18654.35938, Fit: 0.01442, Act: 142.79352, R: 15.39871, I: 17.06499\n",
      "Step 1680000, Loss: 18631.32812, Fit: 0.01434, Act: 142.81755, R: 15.39771, I: 17.04577\n",
      "Step 1690000, Loss: 18602.58984, Fit: 0.01429, Act: 142.78918, R: 15.40201, I: 17.03282\n",
      "Step 1700000, Loss: 18675.53906, Fit: 0.01438, Act: 142.73975, R: 15.40495, I: 17.01292\n",
      "Step 1710000, Loss: 18626.52930, Fit: 0.01430, Act: 142.83888, R: 15.39539, I: 17.01063\n",
      "Step 1720000, Loss: 18657.48242, Fit: 0.01442, Act: 142.75069, R: 15.41145, I: 16.98641\n",
      "Step 1730000, Loss: 18623.91406, Fit: 0.01443, Act: 142.81099, R: 15.41730, I: 16.97482\n",
      "Step 1740000, Loss: 18659.01953, Fit: 0.01446, Act: 142.78696, R: 15.39894, I: 16.96293\n",
      "Step 1750000, Loss: 18624.27148, Fit: 0.01435, Act: 142.76202, R: 15.39908, I: 16.95021\n",
      "Step 1760000, Loss: 18668.17969, Fit: 0.01440, Act: 142.79883, R: 15.40578, I: 16.94874\n",
      "Step 1770000, Loss: 18654.23633, Fit: 0.01432, Act: 142.72177, R: 15.41087, I: 16.92501\n",
      "Step 1780000, Loss: 18681.84961, Fit: 0.01443, Act: 142.74002, R: 15.40460, I: 16.91778\n",
      "Step 1790000, Loss: 18672.24219, Fit: 0.01434, Act: 142.76076, R: 15.40288, I: 16.89811\n",
      "Step 1800000, Loss: 18646.47266, Fit: 0.01431, Act: 142.77473, R: 15.40722, I: 16.89731\n",
      "Step 1810000, Loss: 18603.60352, Fit: 0.01442, Act: 142.71780, R: 15.40528, I: 16.87710\n",
      "Step 1820000, Loss: 18679.18164, Fit: 0.01433, Act: 142.77747, R: 15.40381, I: 16.87254\n",
      "Step 1830000, Loss: 18680.45117, Fit: 0.01433, Act: 142.81395, R: 15.40333, I: 16.86343\n",
      "Step 1840000, Loss: 18655.26172, Fit: 0.01439, Act: 142.77908, R: 15.40294, I: 16.85135\n",
      "Step 1850000, Loss: 18757.47852, Fit: 0.01433, Act: 142.80498, R: 15.42500, I: 16.84680\n",
      "Step 1860000, Loss: 18728.50586, Fit: 0.01432, Act: 142.82166, R: 15.39956, I: 16.84166\n",
      "Step 1870000, Loss: 18690.76562, Fit: 0.01439, Act: 142.80063, R: 15.40026, I: 16.82415\n",
      "Step 1880000, Loss: 18727.88672, Fit: 0.01431, Act: 142.77586, R: 15.41125, I: 16.81425\n",
      "Step 1890000, Loss: 18641.33789, Fit: 0.01437, Act: 142.71272, R: 15.41189, I: 16.80386\n",
      "Step 1900000, Loss: 18644.49414, Fit: 0.01435, Act: 142.82878, R: 15.39979, I: 16.80301\n",
      "Step 1910000, Loss: 18653.86914, Fit: 0.01437, Act: 142.82111, R: 15.39966, I: 16.80663\n",
      "Step 1920000, Loss: 18744.56445, Fit: 0.01440, Act: 142.78145, R: 15.41394, I: 16.78949\n",
      "Step 1930000, Loss: 18571.41016, Fit: 0.01428, Act: 142.82941, R: 15.39887, I: 16.78067\n",
      "Step 1940000, Loss: 18744.15820, Fit: 0.01438, Act: 142.76122, R: 15.40290, I: 16.77677\n",
      "Step 1950000, Loss: 18684.10938, Fit: 0.01434, Act: 142.82181, R: 15.40818, I: 16.76373\n",
      "Step 1960000, Loss: 18729.86328, Fit: 0.01434, Act: 142.74579, R: 15.40607, I: 16.76095\n",
      "Step 1970000, Loss: 18683.41016, Fit: 0.01433, Act: 142.79640, R: 15.40583, I: 16.75339\n",
      "Step 1980000, Loss: 18742.70898, Fit: 0.01433, Act: 142.82126, R: 15.39964, I: 16.74389\n",
      "Step 1990000, Loss: 18634.27344, Fit: 0.01438, Act: 142.86516, R: 15.42246, I: 16.73973\n",
      "Step 2000000, Loss: 18588.61328, Fit: 0.01436, Act: 142.76573, R: 15.40385, I: 16.73322\n",
      "Step 2010000, Loss: 18659.53906, Fit: 0.01428, Act: 142.80170, R: 15.40095, I: 16.73124\n",
      "Step 2020000, Loss: 18676.12695, Fit: 0.01434, Act: 142.82785, R: 15.39853, I: 16.72442\n",
      "Step 2030000, Loss: 18747.63672, Fit: 0.01440, Act: 142.77315, R: 15.41149, I: 16.72109\n",
      "Step 2040000, Loss: 18738.10156, Fit: 0.01429, Act: 142.79346, R: 15.40234, I: 16.71523\n",
      "Step 2050000, Loss: 18614.38086, Fit: 0.01433, Act: 142.77441, R: 15.40113, I: 16.70042\n",
      "Step 2060000, Loss: 18651.74414, Fit: 0.01433, Act: 142.77153, R: 15.40197, I: 16.69252\n",
      "Step 2070000, Loss: 18712.86914, Fit: 0.01436, Act: 142.77235, R: 15.40103, I: 16.68092\n",
      "Step 2080000, Loss: 18613.94336, Fit: 0.01432, Act: 142.80899, R: 15.40883, I: 16.67165\n",
      "Step 2090000, Loss: 18660.29492, Fit: 0.01434, Act: 142.79819, R: 15.39809, I: 16.67265\n",
      "Step 2100000, Loss: 18704.52148, Fit: 0.01436, Act: 142.80768, R: 15.40032, I: 16.66146\n",
      "Step 2110000, Loss: 18679.99609, Fit: 0.01439, Act: 142.85049, R: 15.39394, I: 16.66341\n",
      "Step 2120000, Loss: 18720.43945, Fit: 0.01428, Act: 142.77368, R: 15.42749, I: 16.66138\n",
      "Step 2130000, Loss: 18673.34375, Fit: 0.01442, Act: 142.74542, R: 15.40463, I: 16.65646\n",
      "Step 2140000, Loss: 18709.68945, Fit: 0.01431, Act: 142.85291, R: 15.39606, I: 16.65208\n",
      "Step 2150000, Loss: 18723.52148, Fit: 0.01440, Act: 142.78963, R: 15.40467, I: 16.63604\n",
      "Step 2160000, Loss: 18611.85156, Fit: 0.01434, Act: 142.78461, R: 15.40075, I: 16.63400\n",
      "Step 2170000, Loss: 18712.45898, Fit: 0.01441, Act: 142.76573, R: 15.40262, I: 16.64470\n",
      "Step 2180000, Loss: 18614.99414, Fit: 0.01428, Act: 142.79994, R: 15.40934, I: 16.63713\n",
      "Step 2190000, Loss: 18627.29102, Fit: 0.01437, Act: 142.75110, R: 15.40572, I: 16.62542\n",
      "Step 2200000, Loss: 18719.58203, Fit: 0.01429, Act: 142.77995, R: 15.40066, I: 16.62822\n",
      "Step 2210000, Loss: 18680.52148, Fit: 0.01436, Act: 142.76585, R: 15.40816, I: 16.61463\n",
      "Step 2220000, Loss: 18685.87305, Fit: 0.01443, Act: 142.76247, R: 15.40979, I: 16.61423\n",
      "Step 2230000, Loss: 18612.34375, Fit: 0.01436, Act: 142.78772, R: 15.40091, I: 16.60259\n",
      "Step 2240000, Loss: 18662.46875, Fit: 0.01426, Act: 142.73669, R: 15.40691, I: 16.59417\n",
      "Step 2250000, Loss: 18624.24609, Fit: 0.01434, Act: 142.85173, R: 15.39727, I: 16.59951\n",
      "Step 2260000, Loss: 18649.42969, Fit: 0.01441, Act: 142.82561, R: 15.39513, I: 16.59260\n",
      "Step 2270000, Loss: 18618.18555, Fit: 0.01430, Act: 142.82803, R: 15.39825, I: 16.59809\n",
      "Step 2280000, Loss: 18623.16211, Fit: 0.01442, Act: 142.82825, R: 15.40057, I: 16.58371\n",
      "Step 2290000, Loss: 18618.34961, Fit: 0.01447, Act: 142.78711, R: 15.45992, I: 16.58969\n",
      "Step 2300000, Loss: 18735.08398, Fit: 0.01435, Act: 142.74144, R: 15.40946, I: 16.58670\n",
      "Step 2310000, Loss: 18567.64258, Fit: 0.01434, Act: 142.79608, R: 15.39916, I: 16.59163\n",
      "Step 2320000, Loss: 18644.36914, Fit: 0.01430, Act: 142.76453, R: 15.40183, I: 16.59750\n",
      "Step 2330000, Loss: 18619.52148, Fit: 0.01437, Act: 142.83881, R: 15.39389, I: 16.59175\n",
      "Step 2340000, Loss: 18634.91992, Fit: 0.01426, Act: 142.80182, R: 15.40783, I: 16.58068\n",
      "Step 2350000, Loss: 18616.35938, Fit: 0.01440, Act: 142.80498, R: 15.40072, I: 16.56409\n",
      "Step 2360000, Loss: 18651.84180, Fit: 0.01439, Act: 142.76146, R: 15.40648, I: 16.55957\n",
      "Step 2370000, Loss: 18620.07031, Fit: 0.01424, Act: 142.73041, R: 15.40396, I: 16.54924\n",
      "Step 2380000, Loss: 18658.41602, Fit: 0.01440, Act: 142.82465, R: 15.41590, I: 16.56762\n",
      "Step 2390000, Loss: 18726.30078, Fit: 0.01439, Act: 142.75453, R: 15.41637, I: 16.55229\n",
      "Step 2400000, Loss: 18586.79883, Fit: 0.01431, Act: 142.78702, R: 15.40011, I: 16.55506\n",
      "Step 2410000, Loss: 18693.69336, Fit: 0.01435, Act: 142.86606, R: 15.40001, I: 16.55784\n",
      "Step 2420000, Loss: 18648.76172, Fit: 0.01441, Act: 142.75095, R: 15.40372, I: 16.55114\n",
      "Step 2430000, Loss: 18615.10938, Fit: 0.01428, Act: 142.76181, R: 15.42863, I: 16.54346\n",
      "Step 2440000, Loss: 18656.58984, Fit: 0.01440, Act: 142.72723, R: 15.40940, I: 16.53416\n",
      "Step 2450000, Loss: 18492.93945, Fit: 0.01425, Act: 142.78522, R: 15.41073, I: 16.54632\n",
      "Step 2460000, Loss: 18646.11523, Fit: 0.01439, Act: 142.79936, R: 15.40004, I: 16.54470\n",
      "Step 2470000, Loss: 18676.32617, Fit: 0.01434, Act: 142.77332, R: 15.39988, I: 16.53292\n",
      "Step 2480000, Loss: 18646.14453, Fit: 0.01432, Act: 142.79712, R: 15.39578, I: 16.55369\n",
      "Step 2490000, Loss: 18782.44727, Fit: 0.01435, Act: 142.76003, R: 15.40070, I: 16.54656\n",
      "Step 2500000, Loss: 18735.71875, Fit: 0.01442, Act: 142.73489, R: 15.40349, I: 16.55231\n",
      "Step 2510000, Loss: 18673.92383, Fit: 0.01446, Act: 142.80042, R: 15.39667, I: 16.55235\n",
      "Step 2520000, Loss: 18716.08398, Fit: 0.01430, Act: 142.80081, R: 15.39810, I: 16.56919\n",
      "Step 2530000, Loss: 18681.78516, Fit: 0.01440, Act: 142.78262, R: 15.40175, I: 16.57667\n",
      "Step 2540000, Loss: 18603.18555, Fit: 0.01433, Act: 142.79343, R: 15.39874, I: 16.57156\n",
      "Step 2550000, Loss: 18729.48438, Fit: 0.01435, Act: 142.83630, R: 15.39374, I: 16.56355\n",
      "Step 2560000, Loss: 18661.21680, Fit: 0.01437, Act: 142.75064, R: 15.40328, I: 16.55996\n",
      "Step 2570000, Loss: 18707.18164, Fit: 0.01434, Act: 142.72342, R: 15.40659, I: 16.56267\n",
      "Step 2580000, Loss: 18680.33594, Fit: 0.01445, Act: 142.84293, R: 15.39214, I: 16.55171\n",
      "Step 2590000, Loss: 18664.42969, Fit: 0.01436, Act: 142.81746, R: 15.39614, I: 16.52674\n",
      "Step 2600000, Loss: 18780.15430, Fit: 0.01438, Act: 142.80257, R: 15.39771, I: 16.53116\n",
      "Step 2610000, Loss: 18675.65430, Fit: 0.01439, Act: 142.77736, R: 15.40045, I: 16.53502\n",
      "Step 2620000, Loss: 18653.15039, Fit: 0.01438, Act: 142.72697, R: 15.40591, I: 16.53319\n",
      "Step 2630000, Loss: 18641.26953, Fit: 0.01433, Act: 142.73282, R: 15.40495, I: 16.53717\n",
      "Step 2640000, Loss: 18679.59570, Fit: 0.01440, Act: 142.78732, R: 15.39830, I: 16.53662\n",
      "Step 2650000, Loss: 18625.65430, Fit: 0.01435, Act: 142.82639, R: 15.39246, I: 16.52241\n",
      "Step 2660000, Loss: 18599.07812, Fit: 0.01439, Act: 142.73857, R: 15.40308, I: 16.53312\n",
      "Step 2670000, Loss: 18606.47070, Fit: 0.01433, Act: 142.77417, R: 15.39987, I: 16.51214\n",
      "Step 2680000, Loss: 18684.74414, Fit: 0.01440, Act: 142.77177, R: 15.40966, I: 16.51130\n",
      "Step 2690000, Loss: 18727.44336, Fit: 0.01434, Act: 142.80443, R: 15.39906, I: 16.51818\n",
      "Step 2700000, Loss: 18724.36133, Fit: 0.01439, Act: 142.74438, R: 15.40298, I: 16.51373\n",
      "Step 2710000, Loss: 18626.17188, Fit: 0.01435, Act: 142.74722, R: 15.40331, I: 16.50245\n",
      "Step 2720000, Loss: 18706.80078, Fit: 0.01431, Act: 142.77249, R: 15.40032, I: 16.50082\n",
      "Step 2730000, Loss: 18627.24805, Fit: 0.01433, Act: 142.82962, R: 15.39147, I: 16.51885\n",
      "Step 2740000, Loss: 18763.34961, Fit: 0.01439, Act: 142.76991, R: 15.39944, I: 16.50391\n",
      "Step 2750000, Loss: 18761.84180, Fit: 0.01442, Act: 142.80772, R: 15.39541, I: 16.49975\n",
      "Step 2760000, Loss: 18635.13867, Fit: 0.01437, Act: 142.77748, R: 15.40408, I: 16.50883\n",
      "Step 2770000, Loss: 18603.04688, Fit: 0.01439, Act: 142.76350, R: 15.40437, I: 16.48854\n",
      "Step 2780000, Loss: 18709.74023, Fit: 0.01440, Act: 142.77988, R: 15.39870, I: 16.49253\n",
      "Step 2790000, Loss: 18655.68164, Fit: 0.01442, Act: 142.76791, R: 15.40998, I: 16.50200\n",
      "Step 2800000, Loss: 18652.09180, Fit: 0.01435, Act: 142.75554, R: 15.40236, I: 16.48357\n",
      "Step 2810000, Loss: 18676.97852, Fit: 0.01439, Act: 142.79016, R: 15.39886, I: 16.50205\n",
      "Step 2820000, Loss: 18684.40430, Fit: 0.01429, Act: 142.76767, R: 15.40042, I: 16.48875\n",
      "Step 2830000, Loss: 18562.37695, Fit: 0.01441, Act: 142.79123, R: 15.39953, I: 16.48962\n",
      "Step 2840000, Loss: 18636.58398, Fit: 0.01436, Act: 142.78107, R: 15.39923, I: 16.49094\n",
      "Step 3230000, Loss: 18686.23633, Fit: 0.01426, Act: 142.79445, R: 15.40118, I: 16.43687\n",
      "Step 3240000, Loss: 18672.88281, Fit: 0.01431, Act: 142.78557, R: 15.39886, I: 16.44122\n",
      "Step 3250000, Loss: 18714.51367, Fit: 0.01433, Act: 142.70180, R: 15.40727, I: 16.42950\n",
      "Step 3260000, Loss: 18691.34375, Fit: 0.01433, Act: 142.76576, R: 15.39950, I: 16.42613\n",
      "Step 3270000, Loss: 18711.98828, Fit: 0.01433, Act: 142.79849, R: 15.39707, I: 16.42231\n",
      "Step 3280000, Loss: 18635.04492, Fit: 0.01445, Act: 142.76888, R: 15.39908, I: 16.42536\n",
      "Step 3290000, Loss: 18710.35742, Fit: 0.01447, Act: 142.68344, R: 15.40887, I: 16.42591\n",
      "Step 3300000, Loss: 18698.27148, Fit: 0.01440, Act: 142.75073, R: 15.40175, I: 16.41757\n",
      "Step 3310000, Loss: 18676.52344, Fit: 0.01439, Act: 142.79181, R: 15.39693, I: 16.42819\n",
      "Step 3320000, Loss: 18616.81250, Fit: 0.01438, Act: 142.78607, R: 15.39789, I: 16.42623\n",
      "Step 3330000, Loss: 18632.09766, Fit: 0.01430, Act: 142.77664, R: 15.39823, I: 16.42184\n",
      "Step 3340000, Loss: 18687.28906, Fit: 0.01434, Act: 142.82405, R: 15.39408, I: 16.43233\n",
      "Step 3350000, Loss: 18718.38086, Fit: 0.01435, Act: 142.77318, R: 15.39911, I: 16.43687\n",
      "Step 3360000, Loss: 18685.19727, Fit: 0.01439, Act: 142.77582, R: 15.39946, I: 16.42872\n",
      "Step 3370000, Loss: 18612.37109, Fit: 0.01440, Act: 142.73489, R: 15.40310, I: 16.42030\n",
      "Step 3380000, Loss: 18669.22656, Fit: 0.01433, Act: 142.67334, R: 15.41245, I: 16.41773\n",
      "Step 3390000, Loss: 18737.26758, Fit: 0.01434, Act: 142.75670, R: 15.40256, I: 16.43579\n",
      "Step 3400000, Loss: 18784.96484, Fit: 0.01443, Act: 142.76715, R: 15.40024, I: 16.43648\n",
      "Step 3410000, Loss: 18643.76367, Fit: 0.01437, Act: 142.76102, R: 15.40317, I: 16.44765\n",
      "Step 3420000, Loss: 18708.07617, Fit: 0.01431, Act: 142.71556, R: 15.40497, I: 16.44640\n",
      "Step 3430000, Loss: 18683.02930, Fit: 0.01445, Act: 142.72395, R: 15.40508, I: 16.44032\n",
      "Step 3440000, Loss: 18645.93945, Fit: 0.01431, Act: 142.83066, R: 15.39293, I: 16.45104\n",
      "Step 3450000, Loss: 18758.12305, Fit: 0.01440, Act: 142.71729, R: 15.40578, I: 16.43376\n",
      "Step 3460000, Loss: 18678.79297, Fit: 0.01438, Act: 142.74333, R: 15.40365, I: 16.43915\n",
      "Step 3470000, Loss: 18759.68164, Fit: 0.01429, Act: 142.74084, R: 15.43005, I: 16.47512\n",
      "Step 3480000, Loss: 18702.66016, Fit: 0.01453, Act: 142.65938, R: 15.41471, I: 16.45451\n",
      "Step 3490000, Loss: 18734.30469, Fit: 0.01452, Act: 142.68344, R: 15.41434, I: 16.46304\n",
      "Step 3500000, Loss: 18643.04688, Fit: 0.01450, Act: 142.69646, R: 15.42291, I: 16.45425\n"
     ]
    },
    {
     "ename": "KeyboardInterrupt",
     "evalue": "",
     "output_type": "error",
     "traceback": [
      "\u001b[0;31m---------------------------------------------------------------------------\u001b[0m",
      "\u001b[0;31mKeyboardInterrupt\u001b[0m                         Traceback (most recent call last)",
      "Cell \u001b[0;32mIn[198], line 6\u001b[0m\n\u001b[1;32m      3\u001b[0m print_iter \u001b[38;5;241m=\u001b[39m \u001b[38;5;241m10000\u001b[39m\n\u001b[1;32m      5\u001b[0m \u001b[38;5;28;01mfor\u001b[39;00m t \u001b[38;5;129;01min\u001b[39;00m \u001b[38;5;28mrange\u001b[39m(T):\n\u001b[0;32m----> 6\u001b[0m     params, opt_state, loss \u001b[38;5;241m=\u001b[39m update(params, points_bias, points, opt_state)\n\u001b[1;32m      8\u001b[0m     \u001b[38;5;28;01mif\u001b[39;00m t \u001b[38;5;241m%\u001b[39m print_iter \u001b[38;5;241m==\u001b[39m \u001b[38;5;241m0\u001b[39m:\n\u001b[1;32m      9\u001b[0m         g \u001b[38;5;241m=\u001b[39m generate_rep(params[\u001b[38;5;124m\"\u001b[39m\u001b[38;5;124mI\u001b[39m\u001b[38;5;124m\"\u001b[39m], points_bias)\n",
      "File \u001b[0;32m<string>:1\u001b[0m, in \u001b[0;36m<lambda>\u001b[0;34m(_cls, count, mu, nu)\u001b[0m\n",
      "\u001b[0;31mKeyboardInterrupt\u001b[0m: "
     ]
    }
   ],
   "source": [
    "# Optimisation, run and re-run until it stops hitting new records\n",
    "T = 10000000\n",
    "print_iter = 10000\n",
    "\n",
    "for t in range(T):\n",
    "    params, opt_state, loss = update(params, points_bias, points, opt_state)\n",
    "\n",
    "    if t % print_iter == 0:\n",
    "        g = generate_rep(params[\"I\"], points_bias)\n",
    "        R = generate_R(g, points)\n",
    "\n",
    "        L_f = loss_fit(g, R, points)\n",
    "        L_a = loss_act(g)\n",
    "        L_R = loss_weight_I(R)\n",
    "        L_I = loss_weight_I(params[\"I\"])    \n",
    "        print(f\"Step {t}, Loss: {loss:.5f}, Fit: {L_f:.5f}, Act: {L_a:.5f}, R: {L_R:.5f}, I: {L_I:.5f}\")\n",
    "        #print(f\"Step {t}, Loss: {loss:.5f}\")#, Fit: {L_f:.5f}, Act: {L_a:.5f}, Wei: {L_w:.5f}, R: {L_R:.5f}, Pos: {L_p:.5f}, PI: {L_PI:.5f}\")\n",
    "\n",
    "        min_this_step = 0\n",
    "\n",
    "    if loss < min_loss:\n",
    "        params_best = params\n",
    "        min_loss = loss\n",
    "        if min_this_step == 0:\n",
    "            print(f'New min! {loss}')\n",
    "            min_this_step = 1"
   ]
  },
  {
   "cell_type": "code",
   "execution_count": 199,
   "id": "76cb8d07-a93b-45a3-88d0-40a8948b6483",
   "metadata": {},
   "outputs": [],
   "source": [
    "\n",
    "points_full = np.zeros([dim*2, dim**2])\n",
    "\n",
    "counter = 0\n",
    "for n in range(dim):\n",
    "    for m in range(dim):\n",
    "        if n != m:\n",
    "            points_full[n,counter] = 1\n",
    "            points_full[m+dim,counter] = 1\n",
    "            counter += 1\n",
    "points_full_bias = np.vstack([points_full, np.ones([1,points_full.shape[1]])])\n",
    "\n",
    "\n",
    "g = generate_rep(params_best['I'], points_bias)"
   ]
  },
  {
   "cell_type": "code",
   "execution_count": 200,
   "id": "efe2a076-6ed6-4dd0-aba9-34a8020a436f",
   "metadata": {},
   "outputs": [
    {
     "data": {
      "text/plain": [
       "Text(0.5, 1.0, '18385.49')"
      ]
     },
     "execution_count": 200,
     "metadata": {},
     "output_type": "execute_result"
    },
    {
     "data": {
      "image/png": "[encoded data removed]",
      "text/plain": [
       "<Figure size 2000x1000 with 1 Axes>"
      ]
     },
     "metadata": {},
     "output_type": "display_data"
    }
   ],
   "source": [
    "plt.figure(figsize = (20, 10))\n",
    "plt.imshow(g)\n",
    "plt.title(min_loss)"
   ]
  },
  {
   "cell_type": "code",
   "execution_count": 201,
   "id": "fe759e2a-e861-4742-86b0-e50787b3ff28",
   "metadata": {},
   "outputs": [
    {
     "data": {
      "text/plain": [
       "[<matplotlib.lines.Line2D at 0x2a19a6010>]"
      ]
     },
     "execution_count": 201,
     "metadata": {},
     "output_type": "execute_result"
    },
    {
     "data": {
      "image/png": "[encoded data removed]",
      "text/plain": [
       "<Figure size 640x480 with 1 Axes>"
      ]
     },
     "metadata": {},
     "output_type": "display_data"
    }
   ],
   "source": [
    "plt.plot(g[7,:])"
   ]
  },
  {
   "cell_type": "code",
   "execution_count": 202,
   "id": "60c0186f-0fca-4455-bb61-1b38d519d107",
   "metadata": {},
   "outputs": [
    {
     "data": {
      "text/plain": [
       "<matplotlib.image.AxesImage at 0x2a1a9f110>"
      ]
     },
     "execution_count": 202,
     "metadata": {},
     "output_type": "execute_result"
    },
    {
     "data": {
      "image/png": "[encoded data removed]",
      "text/plain": [
       "<Figure size 640x480 with 1 Axes>"
      ]
     },
     "metadata": {},
     "output_type": "display_data"
    }
   ],
   "source": [
    "R = generate_R(g, points)\n",
    "plt.imshow(R.T@g)"
   ]
  },
  {
   "cell_type": "code",
   "execution_count": 203,
   "id": "24f99f86-79a8-46b0-b911-4cadb16d6ad0",
   "metadata": {},
   "outputs": [
    {
     "data": {
      "text/plain": [
       "<matplotlib.image.AxesImage at 0x2a1ade2d0>"
      ]
     },
     "execution_count": 203,
     "metadata": {},
     "output_type": "execute_result"
    },
    {
     "data": {
      "image/png": "[encoded data removed]",
      "text/plain": [
       "<Figure size 640x480 with 2 Axes>"
      ]
     },
     "metadata": {},
     "output_type": "display_data"
    }
   ],
   "source": [
    "variance_per_neuron = np.zeros([H, 2*dim])\n",
    "variance_per_neuron_per_factor = np.zeros([H, 2])\n",
    "\n",
    "for dim_ind in range(2):\n",
    "    for n in range(dim):\n",
    "        this_tar_inds = np.where(points[dim_ind*dim+n] == 1)[0]\n",
    "        variance_per_neuron[:, dim_ind*dim + n] = np.var(g[:H,this_tar_inds], axis = 1)\n",
    "        \n",
    "    variance_per_neuron_per_factor[:,dim_ind] =  np.mean(variance_per_neuron[:,dim_ind*dim:(dim_ind+1)*dim],axis =1)\n",
    "plt.subplot(1,2,1)\n",
    "plt.imshow(variance_per_neuron.T)\n",
    "\n",
    "plt.subplot(1,2,2)\n",
    "plt.imshow(variance_per_neuron_per_factor)"
   ]
  },
  {
   "cell_type": "code",
   "execution_count": 204,
   "id": "f5643a34-b413-41e2-a8d2-da648ef0f356",
   "metadata": {},
   "outputs": [
    {
     "data": {
      "text/plain": [
       "0.005252317465464934"
      ]
     },
     "execution_count": 204,
     "metadata": {},
     "output_type": "execute_result"
    }
   ],
   "source": [
    "np.sum(np.min(variance_per_neuron_per_factor, axis =1 ))/np.sum(variance_per_neuron_per_factor)"
   ]
  },
  {
   "cell_type": "code",
   "execution_count": 205,
   "id": "61b65dfd-6299-4e4d-b954-7aeb3bab58e7",
   "metadata": {},
   "outputs": [
    {
     "data": {
      "text/plain": [
       "0.994747682534535"
      ]
     },
     "execution_count": 205,
     "metadata": {},
     "output_type": "execute_result"
    }
   ],
   "source": [
    "np.sum(np.max(variance_per_neuron_per_factor, axis =1 ))/np.sum(variance_per_neuron_per_factor)"
   ]
  },
  {
   "cell_type": "code",
   "execution_count": null,
   "id": "28fcbc8a-74fa-4968-9ad8-ba711045fb1c",
   "metadata": {},
   "outputs": [],
   "source": []
  }
 ],
 "metadata": {
  "kernelspec": {
   "display_name": "rep_theo",
   "language": "python",
   "name": "rep_theo"
  },
  "language_info": {
   "codemirror_mode": {
    "name": "ipython",
    "version": 3
   },
   "file_extension": ".py",
   "mimetype": "text/x-python",
   "name": "python",
   "nbconvert_exporter": "python",
   "pygments_lexer": "ipython3",
   "version": "3.11.0"
  }
 },
 "nbformat": 4,
 "nbformat_minor": 5
}
